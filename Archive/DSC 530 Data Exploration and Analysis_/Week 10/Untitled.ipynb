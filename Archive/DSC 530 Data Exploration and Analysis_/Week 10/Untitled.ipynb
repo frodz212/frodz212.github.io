{
 "cells": [
  {
   "cell_type": "code",
   "execution_count": 17,
   "id": "7e81f47e",
   "metadata": {},
   "outputs": [
    {
     "name": "stdout",
     "output_type": "stream",
     "text": [
      "Downloaded nsfg.py\n"
     ]
    }
   ],
   "source": [
    "from os.path import basename, exists\n",
    "\n",
    "\n",
    "def download(url):\n",
    "    filename = basename(url)\n",
    "    if not exists(filename):\n",
    "        from urllib.request import urlretrieve\n",
    "\n",
    "        local, _ = urlretrieve(url, filename)\n",
    "        print(\"Downloaded \" + local)\n",
    "\n",
    "\n",
    "download(\"https://github.com/AllenDowney/ThinkStats2/raw/master/code/thinkstats2.py\")\n",
    "download(\"https://github.com/AllenDowney/ThinkStats2/raw/master/code/thinkplot.py\")\n",
    "download(\"https://github.com/AllenDowney/ThinkStats2/raw/master/code/timeseries.py\")\n",
    "download(\"https://github.com/AllenDowney/ThinkStats2/raw/master/code/mj-clean.csv\")\n",
    "download(\"https://github.com/AllenDowney/ThinkStats2/raw/master/code/regression.py\")\n",
    "download(\"https://github.com/AllenDowney/ThinkStats2/raw/master/code/chap01soln.py\")\n",
    "download(\"https://github.com/AllenDowney/ThinkStats2/raw/master/code/nsfg.py\")"
   ]
  },
  {
   "cell_type": "code",
   "execution_count": 18,
   "id": "b966d441",
   "metadata": {},
   "outputs": [
    {
     "ename": "ModuleNotFoundError",
     "evalue": "No module named 'first'",
     "output_type": "error",
     "traceback": [
      "\u001b[0;31m---------------------------------------------------------------------------\u001b[0m",
      "\u001b[0;31mModuleNotFoundError\u001b[0m                       Traceback (most recent call last)",
      "\u001b[0;32m/var/folders/sr/xvmzsbj91c91yq0f0qnq71xh0000gn/T/ipykernel_27629/1369162279.py\u001b[0m in \u001b[0;36m<module>\u001b[0;34m\u001b[0m\n\u001b[1;32m      6\u001b[0m \u001b[0;32mimport\u001b[0m \u001b[0mthinkstats2\u001b[0m\u001b[0;34m\u001b[0m\u001b[0;34m\u001b[0m\u001b[0m\n\u001b[1;32m      7\u001b[0m \u001b[0;32mimport\u001b[0m \u001b[0mtimeseries\u001b[0m\u001b[0;34m\u001b[0m\u001b[0;34m\u001b[0m\u001b[0m\n\u001b[0;32m----> 8\u001b[0;31m \u001b[0;32mimport\u001b[0m \u001b[0mregression\u001b[0m\u001b[0;34m\u001b[0m\u001b[0;34m\u001b[0m\u001b[0m\n\u001b[0m",
      "\u001b[0;32m~/Library/CloudStorage/OneDrive-BellevueUniversity/DSC 530 Data Exploration and Analysis_/Week 10/regression.py\u001b[0m in \u001b[0;36m<module>\u001b[0;34m\u001b[0m\n\u001b[1;32m     18\u001b[0m \u001b[0;34m\u001b[0m\u001b[0m\n\u001b[1;32m     19\u001b[0m \u001b[0;32mimport\u001b[0m \u001b[0mchap01soln\u001b[0m\u001b[0;34m\u001b[0m\u001b[0;34m\u001b[0m\u001b[0m\n\u001b[0;32m---> 20\u001b[0;31m \u001b[0;32mimport\u001b[0m \u001b[0mfirst\u001b[0m\u001b[0;34m\u001b[0m\u001b[0;34m\u001b[0m\u001b[0m\n\u001b[0m\u001b[1;32m     21\u001b[0m \u001b[0;32mimport\u001b[0m \u001b[0mlinear\u001b[0m\u001b[0;34m\u001b[0m\u001b[0;34m\u001b[0m\u001b[0m\n\u001b[1;32m     22\u001b[0m \u001b[0;32mimport\u001b[0m \u001b[0mthinkplot\u001b[0m\u001b[0;34m\u001b[0m\u001b[0;34m\u001b[0m\u001b[0m\n",
      "\u001b[0;31mModuleNotFoundError\u001b[0m: No module named 'first'"
     ]
    }
   ],
   "source": [
    "import pandas\n",
    "import numpy as np\n",
    "import statsmodels.formula.api as smf\n",
    "\n",
    "import thinkplot\n",
    "import thinkstats2\n",
    "import timeseries\n",
    "import regression"
   ]
  },
  {
   "cell_type": "code",
   "execution_count": 3,
   "id": "dc44826e",
   "metadata": {},
   "outputs": [],
   "source": [
    "def RunQuadraticModel(daily):\n",
    "    \"\"\"Runs a linear model of prices versus years.\n",
    "\n",
    "    daily: DataFrame of daily prices\n",
    "\n",
    "    returns: model, results\n",
    "    \"\"\"\n",
    "    daily['years2'] = daily.years**2\n",
    "    model = smf.ols('ppg ~ years + years2', data=daily)\n",
    "    results = model.fit()\n",
    "    return model, results"
   ]
  },
  {
   "cell_type": "code",
   "execution_count": 4,
   "id": "a88d04a0",
   "metadata": {},
   "outputs": [],
   "source": [
    "def PlotQuadraticModel(daily, name):\n",
    "    \"\"\"\n",
    "    \"\"\"\n",
    "    model, results = RunQuadraticModel(daily)\n",
    "    regression.SummarizeResults(results)\n",
    "    timeseries.PlotFittedValues(model, results, label=name)\n",
    "    thinkplot.Show(root='timeseries11',\n",
    "                   title='fitted values',\n",
    "                   xlabel='years',\n",
    "                   xlim=[-0.1, 3.8],\n",
    "                   ylabel='price per gram ($)')\n",
    "\n",
    "    timeseries.PlotResidualPercentiles(model, results)\n",
    "    thinkplot.Show(root='timeseries12',\n",
    "                   title='residuals',\n",
    "                   xlabel='years',\n",
    "                   ylabel='price per gram ($)')\n",
    "\n",
    "    years = np.linspace(0, 5, 101)\n",
    "    thinkplot.Scatter(daily.years, daily.ppg, alpha=0.1, label=name)\n",
    "    timeseries.PlotPredictions(daily, years, func=RunQuadraticModel)\n",
    "    thinkplot.Show(root='timeseries13',\n",
    "                   title='predictions',\n",
    "                   xlabel='years',\n",
    "                   xlim=[years[0]-0.1, years[-1]+0.1],\n",
    "                   ylabel='price per gram ($)')"
   ]
  },
  {
   "cell_type": "code",
   "execution_count": 10,
   "id": "87f7f22e",
   "metadata": {},
   "outputs": [
    {
     "ename": "NameError",
     "evalue": "name 'regression' is not defined",
     "output_type": "error",
     "traceback": [
      "\u001b[0;31m---------------------------------------------------------------------------\u001b[0m",
      "\u001b[0;31mNameError\u001b[0m                                 Traceback (most recent call last)",
      "\u001b[0;32m/var/folders/sr/xvmzsbj91c91yq0f0qnq71xh0000gn/T/ipykernel_27629/492739673.py\u001b[0m in \u001b[0;36m<module>\u001b[0;34m\u001b[0m\n\u001b[1;32m     11\u001b[0m \u001b[0;32mif\u001b[0m \u001b[0m__name__\u001b[0m \u001b[0;34m==\u001b[0m \u001b[0;34m'__main__'\u001b[0m\u001b[0;34m:\u001b[0m\u001b[0;34m\u001b[0m\u001b[0;34m\u001b[0m\u001b[0m\n\u001b[1;32m     12\u001b[0m     \u001b[0;32mimport\u001b[0m \u001b[0msys\u001b[0m\u001b[0;34m\u001b[0m\u001b[0;34m\u001b[0m\u001b[0m\n\u001b[0;32m---> 13\u001b[0;31m     \u001b[0mmain\u001b[0m\u001b[0;34m(\u001b[0m\u001b[0msys\u001b[0m\u001b[0;34m.\u001b[0m\u001b[0margv\u001b[0m\u001b[0;34m)\u001b[0m\u001b[0;34m\u001b[0m\u001b[0;34m\u001b[0m\u001b[0m\n\u001b[0m\u001b[1;32m     14\u001b[0m \u001b[0;34m\u001b[0m\u001b[0m\n",
      "\u001b[0;32m/var/folders/sr/xvmzsbj91c91yq0f0qnq71xh0000gn/T/ipykernel_27629/492739673.py\u001b[0m in \u001b[0;36mmain\u001b[0;34m(name)\u001b[0m\n\u001b[1;32m      6\u001b[0m     \u001b[0mdaily\u001b[0m \u001b[0;34m=\u001b[0m \u001b[0mdailies\u001b[0m\u001b[0;34m[\u001b[0m\u001b[0mname\u001b[0m\u001b[0;34m]\u001b[0m\u001b[0;34m\u001b[0m\u001b[0;34m\u001b[0m\u001b[0m\n\u001b[1;32m      7\u001b[0m \u001b[0;34m\u001b[0m\u001b[0m\n\u001b[0;32m----> 8\u001b[0;31m     \u001b[0mPlotQuadraticModel\u001b[0m\u001b[0;34m(\u001b[0m\u001b[0mdaily\u001b[0m\u001b[0;34m,\u001b[0m \u001b[0mname\u001b[0m\u001b[0;34m)\u001b[0m\u001b[0;34m\u001b[0m\u001b[0;34m\u001b[0m\u001b[0m\n\u001b[0m\u001b[1;32m      9\u001b[0m     \u001b[0mTestSerialCorr\u001b[0m\u001b[0;34m(\u001b[0m\u001b[0mdaily\u001b[0m\u001b[0;34m)\u001b[0m\u001b[0;34m\u001b[0m\u001b[0;34m\u001b[0m\u001b[0m\n\u001b[1;32m     10\u001b[0m \u001b[0;34m\u001b[0m\u001b[0m\n",
      "\u001b[0;32m/var/folders/sr/xvmzsbj91c91yq0f0qnq71xh0000gn/T/ipykernel_27629/3154568894.py\u001b[0m in \u001b[0;36mPlotQuadraticModel\u001b[0;34m(daily, name)\u001b[0m\n\u001b[1;32m      3\u001b[0m     \"\"\"\n\u001b[1;32m      4\u001b[0m     \u001b[0mmodel\u001b[0m\u001b[0;34m,\u001b[0m \u001b[0mresults\u001b[0m \u001b[0;34m=\u001b[0m \u001b[0mRunQuadraticModel\u001b[0m\u001b[0;34m(\u001b[0m\u001b[0mdaily\u001b[0m\u001b[0;34m)\u001b[0m\u001b[0;34m\u001b[0m\u001b[0;34m\u001b[0m\u001b[0m\n\u001b[0;32m----> 5\u001b[0;31m     \u001b[0mregression\u001b[0m\u001b[0;34m.\u001b[0m\u001b[0mSummarizeResults\u001b[0m\u001b[0;34m(\u001b[0m\u001b[0mresults\u001b[0m\u001b[0;34m)\u001b[0m\u001b[0;34m\u001b[0m\u001b[0;34m\u001b[0m\u001b[0m\n\u001b[0m\u001b[1;32m      6\u001b[0m     \u001b[0mtimeseries\u001b[0m\u001b[0;34m.\u001b[0m\u001b[0mPlotFittedValues\u001b[0m\u001b[0;34m(\u001b[0m\u001b[0mmodel\u001b[0m\u001b[0;34m,\u001b[0m \u001b[0mresults\u001b[0m\u001b[0;34m,\u001b[0m \u001b[0mlabel\u001b[0m\u001b[0;34m=\u001b[0m\u001b[0mname\u001b[0m\u001b[0;34m)\u001b[0m\u001b[0;34m\u001b[0m\u001b[0;34m\u001b[0m\u001b[0m\n\u001b[1;32m      7\u001b[0m     thinkplot.Show(root='timeseries11',\n",
      "\u001b[0;31mNameError\u001b[0m: name 'regression' is not defined"
     ]
    }
   ],
   "source": [
    "def main(name):\n",
    "    transactions = timeseries.ReadData()\n",
    "\n",
    "    dailies = timeseries.GroupByQualityAndDay(transactions)\n",
    "    name = 'high'\n",
    "    daily = dailies[name]\n",
    "\n",
    "    PlotQuadraticModel(daily, name)\n",
    "    TestSerialCorr(daily)\n",
    "    \n",
    "if __name__ == '__main__':\n",
    "    import sys\n",
    "    main(sys.argv)\n",
    "\n"
   ]
  }
 ],
 "metadata": {
  "kernelspec": {
   "display_name": "Python 3 (ipykernel)",
   "language": "python",
   "name": "python3"
  },
  "language_info": {
   "codemirror_mode": {
    "name": "ipython",
    "version": 3
   },
   "file_extension": ".py",
   "mimetype": "text/x-python",
   "name": "python",
   "nbconvert_exporter": "python",
   "pygments_lexer": "ipython3",
   "version": "3.9.13"
  }
 },
 "nbformat": 4,
 "nbformat_minor": 5
}
