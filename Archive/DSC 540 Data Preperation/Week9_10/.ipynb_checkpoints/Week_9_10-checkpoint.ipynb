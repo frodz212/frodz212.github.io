{
 "cells": [
  {
   "cell_type": "markdown",
   "id": "4c01950e",
   "metadata": {},
   "source": [
    "Connect to the **petsDB** and check whether the connection has been successful"
   ]
  },
  {
   "cell_type": "code",
   "execution_count": 1,
   "id": "bf7c12f3",
   "metadata": {},
   "outputs": [],
   "source": [
    "import sqlite3"
   ]
  },
  {
   "cell_type": "code",
   "execution_count": 6,
   "id": "49d0603a",
   "metadata": {},
   "outputs": [],
   "source": [
    "def chk_conn(conn):\n",
    "     try:\n",
    "        conn.cursor()\n",
    "        return \"Connection Successful\"\n",
    "     except Exception as ex:\n",
    "        return \"Connection Failed\"\n",
    "\n"
   ]
  },
  {
   "cell_type": "code",
   "execution_count": 9,
   "id": "5a909f71",
   "metadata": {},
   "outputs": [
    {
     "name": "stdout",
     "output_type": "stream",
     "text": [
      "Connection Successful\n"
     ]
    }
   ],
   "source": [
    "conn = sqlite3.connect('petsdb')\n",
    "print(chk_conn(conn))"
   ]
  },
  {
   "cell_type": "markdown",
   "id": "69fa2c2a",
   "metadata": {},
   "source": [
    "Find the different age groups in the persons database"
   ]
  },
  {
   "cell_type": "code",
   "execution_count": 11,
   "id": "a0d7d2f9",
   "metadata": {},
   "outputs": [],
   "source": [
    "import pandas as pd"
   ]
  },
  {
   "cell_type": "code",
   "execution_count": 10,
   "id": "cfb6eb67",
   "metadata": {},
   "outputs": [],
   "source": [
    "cursor = conn.cursor()"
   ]
  },
  {
   "cell_type": "code",
   "execution_count": 15,
   "id": "0a77c3cd",
   "metadata": {},
   "outputs": [
    {
     "data": {
      "text/html": [
       "<div>\n",
       "<style scoped>\n",
       "    .dataframe tbody tr th:only-of-type {\n",
       "        vertical-align: middle;\n",
       "    }\n",
       "\n",
       "    .dataframe tbody tr th {\n",
       "        vertical-align: top;\n",
       "    }\n",
       "\n",
       "    .dataframe thead th {\n",
       "        text-align: right;\n",
       "    }\n",
       "</style>\n",
       "<table border=\"1\" class=\"dataframe\">\n",
       "  <thead>\n",
       "    <tr style=\"text-align: right;\">\n",
       "      <th></th>\n",
       "      <th>NumberOfPeople</th>\n",
       "      <th>age</th>\n",
       "    </tr>\n",
       "  </thead>\n",
       "  <tbody>\n",
       "    <tr>\n",
       "      <th>0</th>\n",
       "      <td>2</td>\n",
       "      <td>5</td>\n",
       "    </tr>\n",
       "    <tr>\n",
       "      <th>1</th>\n",
       "      <td>1</td>\n",
       "      <td>6</td>\n",
       "    </tr>\n",
       "    <tr>\n",
       "      <th>2</th>\n",
       "      <td>1</td>\n",
       "      <td>7</td>\n",
       "    </tr>\n",
       "    <tr>\n",
       "      <th>3</th>\n",
       "      <td>3</td>\n",
       "      <td>8</td>\n",
       "    </tr>\n",
       "    <tr>\n",
       "      <th>4</th>\n",
       "      <td>1</td>\n",
       "      <td>9</td>\n",
       "    </tr>\n",
       "  </tbody>\n",
       "</table>\n",
       "</div>"
      ],
      "text/plain": [
       "   NumberOfPeople  age\n",
       "0               2    5\n",
       "1               1    6\n",
       "2               1    7\n",
       "3               3    8\n",
       "4               1    9"
      ]
     },
     "execution_count": 15,
     "metadata": {},
     "output_type": "execute_result"
    }
   ],
   "source": [
    "age_groups = pd.read_sql_query(\"\"\"\n",
    "    Select\n",
    "    count(*) as NumberOfPeople, \n",
    "    age\n",
    "    From \n",
    "        Persons\n",
    "    Group By age\n",
    "    \"\"\",\n",
    "                        conn)\n",
    "age_groups.head()"
   ]
  },
  {
   "cell_type": "markdown",
   "id": "60114589",
   "metadata": {},
   "source": [
    "Find the age of the group that has the maximum number of people. "
   ]
  },
  {
   "cell_type": "code",
   "execution_count": 16,
   "id": "bde528c8",
   "metadata": {},
   "outputs": [
    {
     "data": {
      "text/plain": [
       "NumberOfPeople     5\n",
       "age               74\n",
       "dtype: int64"
      ]
     },
     "execution_count": 16,
     "metadata": {},
     "output_type": "execute_result"
    }
   ],
   "source": [
    "age_groups.max()"
   ]
  },
  {
   "cell_type": "markdown",
   "id": "cafceba6",
   "metadata": {},
   "source": [
    "Find the people who do not have a last name"
   ]
  },
  {
   "cell_type": "code",
   "execution_count": 17,
   "id": "0215e3c9",
   "metadata": {},
   "outputs": [
    {
     "data": {
      "text/html": [
       "<div>\n",
       "<style scoped>\n",
       "    .dataframe tbody tr th:only-of-type {\n",
       "        vertical-align: middle;\n",
       "    }\n",
       "\n",
       "    .dataframe tbody tr th {\n",
       "        vertical-align: top;\n",
       "    }\n",
       "\n",
       "    .dataframe thead th {\n",
       "        text-align: right;\n",
       "    }\n",
       "</style>\n",
       "<table border=\"1\" class=\"dataframe\">\n",
       "  <thead>\n",
       "    <tr style=\"text-align: right;\">\n",
       "      <th></th>\n",
       "      <th>id</th>\n",
       "      <th>first_name</th>\n",
       "      <th>last_name</th>\n",
       "      <th>age</th>\n",
       "      <th>city</th>\n",
       "      <th>zip_code</th>\n",
       "    </tr>\n",
       "  </thead>\n",
       "  <tbody>\n",
       "    <tr>\n",
       "      <th>0</th>\n",
       "      <td>1</td>\n",
       "      <td>Erica</td>\n",
       "      <td>None</td>\n",
       "      <td>22</td>\n",
       "      <td>south port</td>\n",
       "      <td>2345678</td>\n",
       "    </tr>\n",
       "    <tr>\n",
       "      <th>1</th>\n",
       "      <td>2</td>\n",
       "      <td>Jordi</td>\n",
       "      <td>None</td>\n",
       "      <td>73</td>\n",
       "      <td>east port</td>\n",
       "      <td>123456</td>\n",
       "    </tr>\n",
       "    <tr>\n",
       "      <th>2</th>\n",
       "      <td>3</td>\n",
       "      <td>Chasity</td>\n",
       "      <td>None</td>\n",
       "      <td>70</td>\n",
       "      <td>new port</td>\n",
       "      <td>76856785</td>\n",
       "    </tr>\n",
       "    <tr>\n",
       "      <th>3</th>\n",
       "      <td>4</td>\n",
       "      <td>Gregg</td>\n",
       "      <td>None</td>\n",
       "      <td>31</td>\n",
       "      <td>new port</td>\n",
       "      <td>76856785</td>\n",
       "    </tr>\n",
       "    <tr>\n",
       "      <th>4</th>\n",
       "      <td>6</td>\n",
       "      <td>Cary</td>\n",
       "      <td>None</td>\n",
       "      <td>73</td>\n",
       "      <td>new port</td>\n",
       "      <td>76856785</td>\n",
       "    </tr>\n",
       "  </tbody>\n",
       "</table>\n",
       "</div>"
      ],
      "text/plain": [
       "   id first_name last_name  age        city  zip_code\n",
       "0   1      Erica      None   22  south port   2345678\n",
       "1   2      Jordi      None   73   east port    123456\n",
       "2   3    Chasity      None   70    new port  76856785\n",
       "3   4      Gregg      None   31    new port  76856785\n",
       "4   6       Cary      None   73    new port  76856785"
      ]
     },
     "execution_count": 17,
     "metadata": {},
     "output_type": "execute_result"
    }
   ],
   "source": [
    "no_last_name = pd.read_sql_query(\"\"\"\n",
    "    Select\n",
    "        *\n",
    "    From \n",
    "        Persons\n",
    "    Where last_name IS NULL; \n",
    "    \"\"\",\n",
    "                        conn)\n",
    "no_last_name.head()"
   ]
  },
  {
   "cell_type": "code",
   "execution_count": 19,
   "id": "5a9e6694",
   "metadata": {},
   "outputs": [
    {
     "name": "stdout",
     "output_type": "stream",
     "text": [
      "People with no last name 60\n"
     ]
    }
   ],
   "source": [
    "print('People with no last name:', len(no_last_name))"
   ]
  },
  {
   "cell_type": "markdown",
   "id": "5770c56a",
   "metadata": {},
   "source": [
    "Find out how many people have more than one pet"
   ]
  },
  {
   "cell_type": "code",
   "execution_count": 24,
   "id": "02f84433",
   "metadata": {},
   "outputs": [
    {
     "data": {
      "text/html": [
       "<div>\n",
       "<style scoped>\n",
       "    .dataframe tbody tr th:only-of-type {\n",
       "        vertical-align: middle;\n",
       "    }\n",
       "\n",
       "    .dataframe tbody tr th {\n",
       "        vertical-align: top;\n",
       "    }\n",
       "\n",
       "    .dataframe thead th {\n",
       "        text-align: right;\n",
       "    }\n",
       "</style>\n",
       "<table border=\"1\" class=\"dataframe\">\n",
       "  <thead>\n",
       "    <tr style=\"text-align: right;\">\n",
       "      <th></th>\n",
       "      <th>owner_id</th>\n",
       "      <th>pet_name</th>\n",
       "      <th>pet_type</th>\n",
       "      <th>treatment_done</th>\n",
       "    </tr>\n",
       "  </thead>\n",
       "  <tbody>\n",
       "    <tr>\n",
       "      <th>0</th>\n",
       "      <td>2</td>\n",
       "      <td>mani</td>\n",
       "      <td>1.0</td>\n",
       "      <td>0</td>\n",
       "    </tr>\n",
       "    <tr>\n",
       "      <th>1</th>\n",
       "      <td>5</td>\n",
       "      <td>fenga</td>\n",
       "      <td>NaN</td>\n",
       "      <td>0</td>\n",
       "    </tr>\n",
       "    <tr>\n",
       "      <th>2</th>\n",
       "      <td>6</td>\n",
       "      <td>milu</td>\n",
       "      <td>1.0</td>\n",
       "      <td>0</td>\n",
       "    </tr>\n",
       "    <tr>\n",
       "      <th>3</th>\n",
       "      <td>7</td>\n",
       "      <td>olga</td>\n",
       "      <td>1.0</td>\n",
       "      <td>0</td>\n",
       "    </tr>\n",
       "    <tr>\n",
       "      <th>4</th>\n",
       "      <td>9</td>\n",
       "      <td>gimir</td>\n",
       "      <td>NaN</td>\n",
       "      <td>0</td>\n",
       "    </tr>\n",
       "  </tbody>\n",
       "</table>\n",
       "</div>"
      ],
      "text/plain": [
       "   owner_id pet_name  pet_type  treatment_done\n",
       "0         2     mani       1.0               0\n",
       "1         5    fenga       NaN               0\n",
       "2         6     milu       1.0               0\n",
       "3         7     olga       1.0               0\n",
       "4         9    gimir       NaN               0"
      ]
     },
     "execution_count": 24,
     "metadata": {},
     "output_type": "execute_result"
    }
   ],
   "source": [
    "people_w_pets = pd.read_sql_query(\"\"\"\n",
    "    SELECT \n",
    "        *\n",
    "    From\n",
    "        Pets\n",
    "    GROUP BY owner_id HAVING count(owner_id) >1\n",
    "    \"\"\",\n",
    "                        conn)\n",
    "people_w_pets.head()"
   ]
  },
  {
   "cell_type": "code",
   "execution_count": 27,
   "id": "140da7d8",
   "metadata": {},
   "outputs": [
    {
     "name": "stdout",
     "output_type": "stream",
     "text": [
      "Number of people with more than one pet: 43\n"
     ]
    }
   ],
   "source": [
    "print(\"Number of people with more than one pet:\", len(people_w_pets))"
   ]
  },
  {
   "cell_type": "markdown",
   "id": "e7ed38d4",
   "metadata": {},
   "source": [
    "Find out how many pets have received treatment"
   ]
  },
  {
   "cell_type": "code",
   "execution_count": 30,
   "id": "98fb5d46",
   "metadata": {},
   "outputs": [
    {
     "data": {
      "text/html": [
       "<div>\n",
       "<style scoped>\n",
       "    .dataframe tbody tr th:only-of-type {\n",
       "        vertical-align: middle;\n",
       "    }\n",
       "\n",
       "    .dataframe tbody tr th {\n",
       "        vertical-align: top;\n",
       "    }\n",
       "\n",
       "    .dataframe thead th {\n",
       "        text-align: right;\n",
       "    }\n",
       "</style>\n",
       "<table border=\"1\" class=\"dataframe\">\n",
       "  <thead>\n",
       "    <tr style=\"text-align: right;\">\n",
       "      <th></th>\n",
       "      <th>owner_id</th>\n",
       "      <th>pet_name</th>\n",
       "      <th>pet_type</th>\n",
       "      <th>treatment_done</th>\n",
       "    </tr>\n",
       "  </thead>\n",
       "  <tbody>\n",
       "    <tr>\n",
       "      <th>0</th>\n",
       "      <td>46</td>\n",
       "      <td>raba</td>\n",
       "      <td>NaN</td>\n",
       "      <td>1</td>\n",
       "    </tr>\n",
       "    <tr>\n",
       "      <th>1</th>\n",
       "      <td>94</td>\n",
       "      <td>snoopy</td>\n",
       "      <td>1.0</td>\n",
       "      <td>1</td>\n",
       "    </tr>\n",
       "    <tr>\n",
       "      <th>2</th>\n",
       "      <td>100</td>\n",
       "      <td>bulga</td>\n",
       "      <td>NaN</td>\n",
       "      <td>1</td>\n",
       "    </tr>\n",
       "    <tr>\n",
       "      <th>3</th>\n",
       "      <td>16</td>\n",
       "      <td>fenga</td>\n",
       "      <td>1.0</td>\n",
       "      <td>1</td>\n",
       "    </tr>\n",
       "    <tr>\n",
       "      <th>4</th>\n",
       "      <td>31</td>\n",
       "      <td>chegal</td>\n",
       "      <td>1.0</td>\n",
       "      <td>1</td>\n",
       "    </tr>\n",
       "  </tbody>\n",
       "</table>\n",
       "</div>"
      ],
      "text/plain": [
       "   owner_id pet_name  pet_type  treatment_done\n",
       "0        46     raba       NaN               1\n",
       "1        94   snoopy       1.0               1\n",
       "2       100    bulga       NaN               1\n",
       "3        16    fenga       1.0               1\n",
       "4        31   chegal       1.0               1"
      ]
     },
     "execution_count": 30,
     "metadata": {},
     "output_type": "execute_result"
    }
   ],
   "source": [
    "treatment = pd.read_sql_query(\"\"\"\n",
    "    SELECT \n",
    "        *\n",
    "    From\n",
    "        Pets\n",
    "    Where treatment_done = 1\n",
    "    \"\"\",\n",
    "                        conn)\n",
    "treatment.head()"
   ]
  },
  {
   "cell_type": "code",
   "execution_count": 34,
   "id": "473ad858",
   "metadata": {},
   "outputs": [
    {
     "name": "stdout",
     "output_type": "stream",
     "text": [
      "Number of pets who have received treatment: 36\n"
     ]
    }
   ],
   "source": [
    "print(\"Number of pets who have received treatment:\", len(treatment))"
   ]
  },
  {
   "cell_type": "markdown",
   "id": "71711341",
   "metadata": {},
   "source": [
    "Find out how many pets have received treatment and the type of pet is known "
   ]
  },
  {
   "cell_type": "code",
   "execution_count": 32,
   "id": "98b44f39",
   "metadata": {},
   "outputs": [
    {
     "data": {
      "text/html": [
       "<div>\n",
       "<style scoped>\n",
       "    .dataframe tbody tr th:only-of-type {\n",
       "        vertical-align: middle;\n",
       "    }\n",
       "\n",
       "    .dataframe tbody tr th {\n",
       "        vertical-align: top;\n",
       "    }\n",
       "\n",
       "    .dataframe thead th {\n",
       "        text-align: right;\n",
       "    }\n",
       "</style>\n",
       "<table border=\"1\" class=\"dataframe\">\n",
       "  <thead>\n",
       "    <tr style=\"text-align: right;\">\n",
       "      <th></th>\n",
       "      <th>owner_id</th>\n",
       "      <th>pet_name</th>\n",
       "      <th>pet_type</th>\n",
       "      <th>treatment_done</th>\n",
       "    </tr>\n",
       "  </thead>\n",
       "  <tbody>\n",
       "    <tr>\n",
       "      <th>0</th>\n",
       "      <td>94</td>\n",
       "      <td>snoopy</td>\n",
       "      <td>1.0</td>\n",
       "      <td>1</td>\n",
       "    </tr>\n",
       "    <tr>\n",
       "      <th>1</th>\n",
       "      <td>16</td>\n",
       "      <td>fenga</td>\n",
       "      <td>1.0</td>\n",
       "      <td>1</td>\n",
       "    </tr>\n",
       "    <tr>\n",
       "      <th>2</th>\n",
       "      <td>31</td>\n",
       "      <td>chegal</td>\n",
       "      <td>1.0</td>\n",
       "      <td>1</td>\n",
       "    </tr>\n",
       "    <tr>\n",
       "      <th>3</th>\n",
       "      <td>6</td>\n",
       "      <td>deru</td>\n",
       "      <td>1.0</td>\n",
       "      <td>1</td>\n",
       "    </tr>\n",
       "    <tr>\n",
       "      <th>4</th>\n",
       "      <td>69</td>\n",
       "      <td>raba</td>\n",
       "      <td>1.0</td>\n",
       "      <td>1</td>\n",
       "    </tr>\n",
       "  </tbody>\n",
       "</table>\n",
       "</div>"
      ],
      "text/plain": [
       "   owner_id pet_name  pet_type  treatment_done\n",
       "0        94   snoopy       1.0               1\n",
       "1        16    fenga       1.0               1\n",
       "2        31   chegal       1.0               1\n",
       "3         6     deru       1.0               1\n",
       "4        69     raba       1.0               1"
      ]
     },
     "execution_count": 32,
     "metadata": {},
     "output_type": "execute_result"
    }
   ],
   "source": [
    "treatments = pd.read_sql_query(\"\"\"\n",
    "    SELECT \n",
    "        *\n",
    "    From\n",
    "        Pets\n",
    "    Where treatment_done = 1\n",
    "    AND pet_type IS NOT null\n",
    "    \"\"\",\n",
    "                        conn)\n",
    "treatments.head()"
   ]
  },
  {
   "cell_type": "code",
   "execution_count": 35,
   "id": "dd3bac10",
   "metadata": {},
   "outputs": [
    {
     "name": "stdout",
     "output_type": "stream",
     "text": [
      "Number of pets who have received treatment and the pet is known: 16\n"
     ]
    }
   ],
   "source": [
    "print(\"Number of pets who have received treatment and the pet is known:\", len(treatments))"
   ]
  },
  {
   "cell_type": "markdown",
   "id": "caf93b44",
   "metadata": {},
   "source": [
    "Find out how many pets are from the cirt called **east port**"
   ]
  },
  {
   "cell_type": "code",
   "execution_count": 36,
   "id": "02607d21",
   "metadata": {},
   "outputs": [
    {
     "data": {
      "text/html": [
       "<div>\n",
       "<style scoped>\n",
       "    .dataframe tbody tr th:only-of-type {\n",
       "        vertical-align: middle;\n",
       "    }\n",
       "\n",
       "    .dataframe tbody tr th {\n",
       "        vertical-align: top;\n",
       "    }\n",
       "\n",
       "    .dataframe thead th {\n",
       "        text-align: right;\n",
       "    }\n",
       "</style>\n",
       "<table border=\"1\" class=\"dataframe\">\n",
       "  <thead>\n",
       "    <tr style=\"text-align: right;\">\n",
       "      <th></th>\n",
       "      <th>owner_id</th>\n",
       "      <th>pet_name</th>\n",
       "      <th>pet_type</th>\n",
       "      <th>treatment_done</th>\n",
       "      <th>id</th>\n",
       "      <th>first_name</th>\n",
       "      <th>last_name</th>\n",
       "      <th>age</th>\n",
       "      <th>city</th>\n",
       "      <th>zip_code</th>\n",
       "    </tr>\n",
       "  </thead>\n",
       "  <tbody>\n",
       "    <tr>\n",
       "      <th>0</th>\n",
       "      <td>2</td>\n",
       "      <td>gimir</td>\n",
       "      <td>1.0</td>\n",
       "      <td>0</td>\n",
       "      <td>2</td>\n",
       "      <td>Jordi</td>\n",
       "      <td>None</td>\n",
       "      <td>73</td>\n",
       "      <td>east port</td>\n",
       "      <td>123456</td>\n",
       "    </tr>\n",
       "    <tr>\n",
       "      <th>1</th>\n",
       "      <td>2</td>\n",
       "      <td>mani</td>\n",
       "      <td>1.0</td>\n",
       "      <td>0</td>\n",
       "      <td>2</td>\n",
       "      <td>Jordi</td>\n",
       "      <td>None</td>\n",
       "      <td>73</td>\n",
       "      <td>east port</td>\n",
       "      <td>123456</td>\n",
       "    </tr>\n",
       "    <tr>\n",
       "      <th>2</th>\n",
       "      <td>2</td>\n",
       "      <td>tamari</td>\n",
       "      <td>NaN</td>\n",
       "      <td>1</td>\n",
       "      <td>2</td>\n",
       "      <td>Jordi</td>\n",
       "      <td>None</td>\n",
       "      <td>73</td>\n",
       "      <td>east port</td>\n",
       "      <td>123456</td>\n",
       "    </tr>\n",
       "    <tr>\n",
       "      <th>3</th>\n",
       "      <td>9</td>\n",
       "      <td>gimir</td>\n",
       "      <td>NaN</td>\n",
       "      <td>0</td>\n",
       "      <td>9</td>\n",
       "      <td>Katelyn</td>\n",
       "      <td>Torphy</td>\n",
       "      <td>49</td>\n",
       "      <td>east port</td>\n",
       "      <td>9756543</td>\n",
       "    </tr>\n",
       "    <tr>\n",
       "      <th>4</th>\n",
       "      <td>9</td>\n",
       "      <td>palu</td>\n",
       "      <td>1.0</td>\n",
       "      <td>0</td>\n",
       "      <td>9</td>\n",
       "      <td>Katelyn</td>\n",
       "      <td>Torphy</td>\n",
       "      <td>49</td>\n",
       "      <td>east port</td>\n",
       "      <td>9756543</td>\n",
       "    </tr>\n",
       "  </tbody>\n",
       "</table>\n",
       "</div>"
      ],
      "text/plain": [
       "   owner_id pet_name  pet_type  treatment_done  id first_name last_name  age  \\\n",
       "0         2    gimir       1.0               0   2      Jordi      None   73   \n",
       "1         2     mani       1.0               0   2      Jordi      None   73   \n",
       "2         2   tamari       NaN               1   2      Jordi      None   73   \n",
       "3         9    gimir       NaN               0   9    Katelyn    Torphy   49   \n",
       "4         9     palu       1.0               0   9    Katelyn    Torphy   49   \n",
       "\n",
       "        city  zip_code  \n",
       "0  east port    123456  \n",
       "1  east port    123456  \n",
       "2  east port    123456  \n",
       "3  east port   9756543  \n",
       "4  east port   9756543  "
      ]
     },
     "execution_count": 36,
     "metadata": {},
     "output_type": "execute_result"
    }
   ],
   "source": [
    "east_port = pd.read_sql_query(\"\"\"\n",
    "    SELECT \n",
    "        *\n",
    "    From\n",
    "        Pets\n",
    "    Join persons on pets.owner_id = persons.id\n",
    "    Where persons.city = 'east port'\n",
    "    \"\"\",\n",
    "                        conn)\n",
    "east_port.head()"
   ]
  },
  {
   "cell_type": "code",
   "execution_count": 37,
   "id": "66385b57",
   "metadata": {},
   "outputs": [
    {
     "name": "stdout",
     "output_type": "stream",
     "text": [
      "Number of pets in east port: 49\n"
     ]
    }
   ],
   "source": [
    "print(\"Number of pets in east port:\", len(east_port))"
   ]
  },
  {
   "cell_type": "markdown",
   "id": "8bb604a5",
   "metadata": {},
   "source": [
    "Find out how many pets are from the city called **east port** and who received a treatment"
   ]
  },
  {
   "cell_type": "code",
   "execution_count": 38,
   "id": "02ae5cd1",
   "metadata": {},
   "outputs": [
    {
     "data": {
      "text/html": [
       "<div>\n",
       "<style scoped>\n",
       "    .dataframe tbody tr th:only-of-type {\n",
       "        vertical-align: middle;\n",
       "    }\n",
       "\n",
       "    .dataframe tbody tr th {\n",
       "        vertical-align: top;\n",
       "    }\n",
       "\n",
       "    .dataframe thead th {\n",
       "        text-align: right;\n",
       "    }\n",
       "</style>\n",
       "<table border=\"1\" class=\"dataframe\">\n",
       "  <thead>\n",
       "    <tr style=\"text-align: right;\">\n",
       "      <th></th>\n",
       "      <th>owner_id</th>\n",
       "      <th>pet_name</th>\n",
       "      <th>pet_type</th>\n",
       "      <th>treatment_done</th>\n",
       "      <th>id</th>\n",
       "      <th>first_name</th>\n",
       "      <th>last_name</th>\n",
       "      <th>age</th>\n",
       "      <th>city</th>\n",
       "      <th>zip_code</th>\n",
       "    </tr>\n",
       "  </thead>\n",
       "  <tbody>\n",
       "    <tr>\n",
       "      <th>0</th>\n",
       "      <td>2</td>\n",
       "      <td>tamari</td>\n",
       "      <td>NaN</td>\n",
       "      <td>1</td>\n",
       "      <td>2</td>\n",
       "      <td>Jordi</td>\n",
       "      <td>None</td>\n",
       "      <td>73</td>\n",
       "      <td>east port</td>\n",
       "      <td>123456</td>\n",
       "    </tr>\n",
       "    <tr>\n",
       "      <th>1</th>\n",
       "      <td>23</td>\n",
       "      <td>snoopy</td>\n",
       "      <td>1.0</td>\n",
       "      <td>1</td>\n",
       "      <td>23</td>\n",
       "      <td>Maynard</td>\n",
       "      <td>None</td>\n",
       "      <td>25</td>\n",
       "      <td>east port</td>\n",
       "      <td>123456</td>\n",
       "    </tr>\n",
       "    <tr>\n",
       "      <th>2</th>\n",
       "      <td>24</td>\n",
       "      <td>fenga</td>\n",
       "      <td>NaN</td>\n",
       "      <td>1</td>\n",
       "      <td>24</td>\n",
       "      <td>Dorian</td>\n",
       "      <td>None</td>\n",
       "      <td>40</td>\n",
       "      <td>east port</td>\n",
       "      <td>123456</td>\n",
       "    </tr>\n",
       "    <tr>\n",
       "      <th>3</th>\n",
       "      <td>35</td>\n",
       "      <td>dara</td>\n",
       "      <td>1.0</td>\n",
       "      <td>1</td>\n",
       "      <td>35</td>\n",
       "      <td>Maritza</td>\n",
       "      <td>None</td>\n",
       "      <td>73</td>\n",
       "      <td>east port</td>\n",
       "      <td>9756543</td>\n",
       "    </tr>\n",
       "    <tr>\n",
       "      <th>4</th>\n",
       "      <td>45</td>\n",
       "      <td>sami</td>\n",
       "      <td>NaN</td>\n",
       "      <td>1</td>\n",
       "      <td>45</td>\n",
       "      <td>Alfonzo</td>\n",
       "      <td>None</td>\n",
       "      <td>16</td>\n",
       "      <td>east port</td>\n",
       "      <td>2345678</td>\n",
       "    </tr>\n",
       "  </tbody>\n",
       "</table>\n",
       "</div>"
      ],
      "text/plain": [
       "   owner_id pet_name  pet_type  treatment_done  id first_name last_name  age  \\\n",
       "0         2   tamari       NaN               1   2      Jordi      None   73   \n",
       "1        23   snoopy       1.0               1  23    Maynard      None   25   \n",
       "2        24    fenga       NaN               1  24     Dorian      None   40   \n",
       "3        35     dara       1.0               1  35    Maritza      None   73   \n",
       "4        45     sami       NaN               1  45    Alfonzo      None   16   \n",
       "\n",
       "        city  zip_code  \n",
       "0  east port    123456  \n",
       "1  east port    123456  \n",
       "2  east port    123456  \n",
       "3  east port   9756543  \n",
       "4  east port   2345678  "
      ]
     },
     "execution_count": 38,
     "metadata": {},
     "output_type": "execute_result"
    }
   ],
   "source": [
    "east_port_treatment = pd.read_sql_query(\"\"\"\n",
    "    SELECT \n",
    "        *\n",
    "    From\n",
    "        Pets\n",
    "    Join persons on pets.owner_id = persons.id\n",
    "    Where persons.city = 'east port'\n",
    "    AND pets.treatment_done = 1\n",
    "    \"\"\",\n",
    "                        conn)\n",
    "east_port_treatment.head()"
   ]
  },
  {
   "cell_type": "code",
   "execution_count": 39,
   "id": "24f46bec",
   "metadata": {},
   "outputs": [
    {
     "name": "stdout",
     "output_type": "stream",
     "text": [
      "Number of pets in east port and received treatment: 11\n"
     ]
    }
   ],
   "source": [
    "print(\"Number of pets in east port and received treatment:\", len(east_port_treatment))"
   ]
  }
 ],
 "metadata": {
  "kernelspec": {
   "display_name": "Python 3 (ipykernel)",
   "language": "python",
   "name": "python3"
  },
  "language_info": {
   "codemirror_mode": {
    "name": "ipython",
    "version": 3
   },
   "file_extension": ".py",
   "mimetype": "text/x-python",
   "name": "python",
   "nbconvert_exporter": "python",
   "pygments_lexer": "ipython3",
   "version": "3.9.13"
  }
 },
 "nbformat": 4,
 "nbformat_minor": 5
}
