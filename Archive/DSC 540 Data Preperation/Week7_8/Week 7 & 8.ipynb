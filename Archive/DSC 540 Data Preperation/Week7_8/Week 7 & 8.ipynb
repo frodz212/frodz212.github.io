{
 "cells": [
  {
   "cell_type": "markdown",
   "id": "207a41e2",
   "metadata": {},
   "source": [
    "**Data Wrangling with Python: Activity 9, page 294**"
   ]
  },
  {
   "cell_type": "markdown",
   "id": "f0a5b7c7",
   "metadata": {},
   "source": [
    "1. Import the necessary libraries, including regex and beautiful soup."
   ]
  },
  {
   "cell_type": "code",
   "execution_count": 2,
   "id": "67e9ec83",
   "metadata": {},
   "outputs": [],
   "source": [
    "import urllib.request, urllib.parse, urllib.error\n",
    "import requests\n",
    "from bs4 import BeautifulSoup\n",
    "import ssl\n",
    "import re"
   ]
  },
  {
   "cell_type": "markdown",
   "id": "e44c2095",
   "metadata": {},
   "source": [
    "2. Check the SSL Certificate"
   ]
  },
  {
   "cell_type": "code",
   "execution_count": 3,
   "id": "9160afa0",
   "metadata": {},
   "outputs": [],
   "source": [
    "# Ignore SSL certificate errors\n",
    "ctx = ssl.create_default_context()\n",
    "ctx.check_hostname = False\n",
    "ctx.verify_mode = ssl.CERT_NONE"
   ]
  },
  {
   "cell_type": "markdown",
   "id": "19e87099",
   "metadata": {},
   "source": [
    "3. Read the HTML from the URL"
   ]
  },
  {
   "cell_type": "code",
   "execution_count": 4,
   "id": "f32d31ca",
   "metadata": {},
   "outputs": [],
   "source": [
    "# Creates url and gets respons\n",
    "url = 'https://www.gutenberg.org/browse/scores/top#books-last1'\n",
    "response = requests.get(url)"
   ]
  },
  {
   "cell_type": "markdown",
   "id": "8f59912c",
   "metadata": {},
   "source": [
    "4. Write a small function to chek the status of the web request"
   ]
  },
  {
   "cell_type": "code",
   "execution_count": 5,
   "id": "5f8206eb",
   "metadata": {},
   "outputs": [],
   "source": [
    "# Checks status of request\n",
    "def status_check(r):\n",
    "    if r.status_code==200:\n",
    "        print(\"Success!\")\n",
    "        return 1\n",
    "    else:\n",
    "        print(\"Failed!\")\n",
    "        return -1"
   ]
  },
  {
   "cell_type": "code",
   "execution_count": 6,
   "id": "5a1f4cab",
   "metadata": {},
   "outputs": [
    {
     "name": "stdout",
     "output_type": "stream",
     "text": [
      "Success!\n"
     ]
    },
    {
     "data": {
      "text/plain": [
       "1"
      ]
     },
     "execution_count": 6,
     "metadata": {},
     "output_type": "execute_result"
    }
   ],
   "source": [
    "status_check(response)"
   ]
  },
  {
   "cell_type": "markdown",
   "id": "a2654db6",
   "metadata": {},
   "source": [
    "5. Decode the respose and pass this on to BeautifulSoup for HTML parsing."
   ]
  },
  {
   "cell_type": "code",
   "execution_count": 7,
   "id": "1ba53a5f",
   "metadata": {},
   "outputs": [],
   "source": [
    "# Decodes response\n",
    "decoded = response.content.decode(response.encoding)"
   ]
  },
  {
   "cell_type": "code",
   "execution_count": 8,
   "id": "ca7fe847",
   "metadata": {},
   "outputs": [],
   "source": [
    "# Creates soup object\n",
    "soup = BeautifulSoup(decoded, 'html.parser')"
   ]
  },
  {
   "cell_type": "markdown",
   "id": "66947ecf",
   "metadata": {},
   "source": [
    "6. Find all the **href** tags and store them in the list of links. Check what the list looks like- print the first 30 elements."
   ]
  },
  {
   "cell_type": "code",
   "execution_count": 9,
   "id": "ec6cd8ce",
   "metadata": {},
   "outputs": [],
   "source": [
    "# Blank list\n",
    "links_list = []"
   ]
  },
  {
   "cell_type": "code",
   "execution_count": 10,
   "id": "2025c282",
   "metadata": {},
   "outputs": [],
   "source": [
    "# Find all the href tags and append them in the list of links\n",
    "for link in soup.find_all('a'):\n",
    "    links_list.append(link.get('href'))"
   ]
  },
  {
   "cell_type": "code",
   "execution_count": 11,
   "id": "75ac89dc",
   "metadata": {},
   "outputs": [
    {
     "data": {
      "text/plain": [
       "['/',\n",
       " '/about/',\n",
       " '/about/',\n",
       " '/policy/collection_development.html',\n",
       " '/about/contact_information.html',\n",
       " '/about/background/',\n",
       " '/policy/permission.html',\n",
       " '/policy/privacy_policy.html',\n",
       " '/policy/terms_of_use.html',\n",
       " '/ebooks/',\n",
       " '/ebooks/',\n",
       " '/ebooks/bookshelf/',\n",
       " '/browse/scores/top',\n",
       " '/ebooks/offline_catalogs.html',\n",
       " '/help/',\n",
       " '/help/',\n",
       " '/help/copyright.html',\n",
       " '/help/errata.html',\n",
       " '/help/file_formats.html',\n",
       " '/help/faq.html',\n",
       " '/policy/',\n",
       " '/help/public_domain_ebook_submission.html',\n",
       " '/help/submitting_your_own_work.html',\n",
       " '/help/mobile.html',\n",
       " '/attic/',\n",
       " '/donate/',\n",
       " '/donate/',\n",
       " '#books-last1',\n",
       " '#authors-last1',\n",
       " '#books-last7']"
      ]
     },
     "execution_count": 11,
     "metadata": {},
     "output_type": "execute_result"
    }
   ],
   "source": [
    "links_list[:30]"
   ]
  },
  {
   "cell_type": "code",
   "execution_count": 38,
   "id": "c49c8751",
   "metadata": {},
   "outputs": [
    {
     "data": {
      "text/plain": [
       "'/ebooks/8086'"
      ]
     },
     "execution_count": 38,
     "metadata": {},
     "output_type": "execute_result"
    }
   ],
   "source": [
    "# The first book\n",
    "links_list[33]"
   ]
  },
  {
   "cell_type": "code",
   "execution_count": 37,
   "id": "b01a5595",
   "metadata": {},
   "outputs": [
    {
     "data": {
      "text/plain": [
       "'/ebooks/35'"
      ]
     },
     "execution_count": 37,
     "metadata": {},
     "output_type": "execute_result"
    }
   ],
   "source": [
    "# The last book\n",
    "links_list[132]"
   ]
  },
  {
   "cell_type": "markdown",
   "id": "a37e848e",
   "metadata": {},
   "source": [
    "7. Use regular expression to find the numeric digits in these links. These are the file numbers for the top 100 eBooks. \n",
    "\n",
    "8. Initialize the empty list to hold the file numbers  over an appropriate range and use **regex** to find the numeric digits in the link **href** string. Use **finall** method."
   ]
  },
  {
   "cell_type": "code",
   "execution_count": 23,
   "id": "97ef32e6",
   "metadata": {},
   "outputs": [],
   "source": [
    "# Creates blank list\n",
    "book_numbers = []"
   ]
  },
  {
   "cell_type": "code",
   "execution_count": 27,
   "id": "eab3be40",
   "metadata": {},
   "outputs": [],
   "source": [
    "# Loops through the range of books\n",
    "for i in range(33,132):\n",
    "    # Takes link\n",
    "    link=links_list[i]\n",
    "    # Strips link\n",
    "    link=link.strip()\n",
    "    # Regular expression to find the numeric digits in the link (href) string\n",
    "    n=re.findall('[0-9]+',link)\n",
    "    if len(n)==1:\n",
    "        # Append the number to list\n",
    "        book_numbers.append(int(n[0]))"
   ]
  },
  {
   "cell_type": "code",
   "execution_count": 36,
   "id": "9b114271",
   "metadata": {
    "scrolled": true
   },
   "outputs": [
    {
     "name": "stdout",
     "output_type": "stream",
     "text": [
      "File Numbers for books: \n",
      " [8086, 1513, 2701, 2641, 145, 37106, 100, 16389, 67979, 6761, 394, 2160, 1259, 4085, 6593, 5197, 1342, 26184, 71255, 11, 71254, 3188, 84, 1661, 345, 174, 71253, 1232, 71252, 1184, 71256, 98, 5200, 35899, 2600, 4300, 64317, 5998, 28054, 1399, 27827, 71257, 1952, 1998, 30254, 1727, 2554, 1080, 2542, 21415, 71261, 6130, 74, 821, 3206, 2680, 2591, 58585, 844, 1400, 4363, 1497, 1260, 996, 120, 76, 158, 45, 42108, 43, 24869, 244, 768, 71258, 205, 5740, 55, 71260, 33283, 8800, 514, 135, 40686, 2814, 161, 71, 25344, 36, 67098, 8492, 10, 600, 10007, 3296, 36020, 16, 766, 236, 71259]\n"
     ]
    }
   ],
   "source": [
    "print('File Numbers for books: \\n', book_numbers)"
   ]
  },
  {
   "cell_type": "markdown",
   "id": "263e2b30",
   "metadata": {},
   "source": [
    "9. What does the **soup** object's text look like? Use the **.text** method and print only the first 2000 characters (do not print the whole thing, as it is too long."
   ]
  },
  {
   "cell_type": "code",
   "execution_count": 39,
   "id": "8d3f59f5",
   "metadata": {},
   "outputs": [
    {
     "name": "stdout",
     "output_type": "stream",
     "text": [
      "\n",
      "\n",
      "\n",
      "\n",
      "Top 100 | Project Gutenberg\n",
      "\n",
      "\n",
      "\n",
      "\n",
      "\n",
      "\n",
      "\n",
      "\n",
      "\n",
      "\n",
      "\n",
      "\n",
      "\n",
      "\n",
      "\n",
      "\n",
      "\n",
      "\n",
      "\n",
      "\n",
      "\n",
      "\n",
      "\n",
      "\n",
      "\n",
      "\n",
      "\n",
      "Menu▾\n",
      "\n",
      "\n",
      "\n",
      "About\n",
      "          ▾\n",
      "\n",
      "▾\n",
      "\n",
      "\n",
      "About Project Gutenberg\n",
      "Collection Development\n",
      "Contact Us\n",
      "History & Philosophy\n",
      "Permissions & License\n",
      "Privacy Policy\n",
      "Terms of Use\n",
      "\n",
      "\n",
      "\n",
      "Search and Browse\n",
      "      \t  ▾\n",
      "\n",
      "▾\n",
      "\n",
      "\n",
      "Book Search\n",
      "Bookshelves\n",
      "Frequently Downloaded\n",
      "Offline Catalogs\n",
      "\n",
      "\n",
      "\n",
      "Help\n",
      "          ▾\n",
      "\n",
      "▾\n",
      "\n",
      "\n",
      "All help topics →\n",
      "Copyright How-To\n",
      "Errata, Fixes and Bug Reports\n",
      "File Formats\n",
      "Frequently Asked Questions\n",
      "Policies →\n",
      "Public Domain eBook Submission\n",
      "Submitting Your Own Work\n",
      "Tablets, Phones and eReaders\n",
      "The Attic →\n",
      "\n",
      "\n",
      "Donate\n",
      "\n",
      "\n",
      "\n",
      "\n",
      "\n",
      "\n",
      "\n",
      "\n",
      "\n",
      "\n",
      "Donation\n",
      "\n",
      "\n",
      "\n",
      "\n",
      "\n",
      "\n",
      "\n",
      "Frequently Viewed or Downloaded\n",
      "These listings are based on the number of times each eBook gets downloaded.\n",
      "      Multiple downloads from the same Internet address on the same day count as one download, and addresses that download more than 100 eBooks in a day are considered robots and are not counted.\n",
      "\n",
      "Downloaded Books\n",
      "2023-07-23225348\n",
      "last 7 days1474969\n",
      "last 30 days5828812\n",
      "\n",
      "\n",
      "\n",
      "Top 100 EBooks yesterday\n",
      "Top 100 Authors yesterday\n",
      "Top 100 EBooks last 7 days\n",
      "Top 100 Authors last 7 days\n",
      "Top 100 EBooks last 30 days\n",
      "Top 100 Authors last 30 days\n",
      "\n",
      "\n",
      "Top 100 EBooks yesterday\n",
      "\n",
      "Down and Out in the Magic Kingdom by Cory Doctorow (25079)\n",
      "Romeo and Juliet by William Shakespeare (2735)\n",
      "Moby Dick; Or, The Whale by Herman Melville (2496)\n",
      "A Room with a View by E. M.  Forster (2275)\n",
      "Middlemarch by George Eliot (2182)\n",
      "Little Women; Or, Meg, Jo, Beth, and Amy by Louisa May Alcott (2146)\n",
      "The Complete Works of William Shakespeare by William Shakespeare (2106)\n",
      "The Enchanted April by Elizabeth Von Arnim (2038)\n",
      "The Blue Castle: a novel by L. M.  Montgomery (2020)\n",
      "The Adventures of Ferdinand Count Fathom — Complete by T.  Smollett (1927)\n",
      "Cranford by Elizabeth Cleghorn Gaskell (1898)\n",
      "The Expedition of Humphry Clinker by T.  Smollett (1881)\n",
      "Twenty Years After by Alexandre Dumas (1875)\n",
      "The Adventures of Roderick Random by T.  Smollett (1865)\n",
      "History of Tom Jones, a Foundling by Henry Fielding (1833)\n",
      "My Life — Volume\n"
     ]
    }
   ],
   "source": [
    "print(soup.text[:2000])"
   ]
  },
  {
   "cell_type": "markdown",
   "id": "5436dabd",
   "metadata": {},
   "source": [
    "10. Search in the extracted test (using a regular expression) from the soup object to find the names of the top 100 eBooks (yesterday's ranking)."
   ]
  },
  {
   "cell_type": "markdown",
   "id": "8b1c84c2",
   "metadata": {},
   "source": [
    "11. Create a starting index. It should point at the text \"Top 100 Ebooks yesterday\". Hint: Use splitlines() method of the soup.text. It splits the lines of the text of the soup object."
   ]
  },
  {
   "cell_type": "code",
   "execution_count": 95,
   "id": "7a529b8f",
   "metadata": {},
   "outputs": [],
   "source": [
    "# Temp empty list of Ebook names\n",
    "lst_titles_temp=[]"
   ]
  },
  {
   "cell_type": "code",
   "execution_count": 96,
   "id": "1a52eed7",
   "metadata": {},
   "outputs": [],
   "source": [
    "# Splits the soup object\n",
    "tart_idx=soup.text.splitlines().index('Top 100 EBooks yesterday')"
   ]
  },
  {
   "cell_type": "markdown",
   "id": "8c857144",
   "metadata": {},
   "source": [
    "12. Loop 1-100 to add the strings of next 100 lines to this temporary list. Hint: splitlines() method\n"
   ]
  },
  {
   "cell_type": "code",
   "execution_count": 97,
   "id": "fefd3240",
   "metadata": {},
   "outputs": [],
   "source": [
    "# Gets titles from list\n",
    "for i in range(8,110):\n",
    "    lst_titles_temp.append(soup.text.splitlines()[start_idx+2+i])"
   ]
  },
  {
   "cell_type": "code",
   "execution_count": 98,
   "id": "e023216b",
   "metadata": {},
   "outputs": [
    {
     "name": "stdout",
     "output_type": "stream",
     "text": [
      "Down and Out in the Magic Kingdom by Cory Doctorow (25079)\n",
      "Romeo and Juliet by William Shakespeare (2735)\n",
      "Moby Dick; Or, The Whale by Herman Melville (2496)\n",
      "A Room with a View by E. M.  Forster (2275)\n",
      "Middlemarch by George Eliot (2182)\n",
      "Little Women; Or, Meg, Jo, Beth, and Amy by Louisa May Alcott (2146)\n",
      "The Complete Works of William Shakespeare by William Shakespeare (2106)\n",
      "The Enchanted April by Elizabeth Von Arnim (2038)\n",
      "The Blue Castle: a novel by L. M.  Montgomery (2020)\n",
      "The Adventures of Ferdinand Count Fathom — Complete by T.  Smollett (1927)\n",
      "Cranford by Elizabeth Cleghorn Gaskell (1898)\n",
      "The Expedition of Humphry Clinker by T.  Smollett (1881)\n",
      "Twenty Years After by Alexandre Dumas (1875)\n",
      "The Adventures of Roderick Random by T.  Smollett (1865)\n",
      "History of Tom Jones, a Foundling by Henry Fielding (1833)\n",
      "My Life — Volume 1 by Richard Wagner (1792)\n",
      "Pride and Prejudice by Jane Austen (1529)\n",
      "Simple Sabotage Field Manual by United States. Office of Strategic Services (1174)\n",
      "The green girl by Jack Williamson (944)\n",
      "Alice's Adventures in Wonderland by Lewis Carroll (807)\n",
      "Ukraine : by Stephen Rudnitsky (749)\n",
      "Mark Twain's Speeches by Mark Twain (675)\n",
      "Frankenstein; Or, The Modern Prometheus by Mary Wollstonecraft Shelley (657)\n",
      "The Adventures of Sherlock Holmes by Arthur Conan Doyle (609)\n",
      "Dracula by Bram Stoker (594)\n",
      "The Picture of Dorian Gray by Oscar Wilde (564)\n",
      "Cleopatra's needle by Sir Erasmus Wilson (556)\n",
      "The Prince by Niccolò Machiavelli (509)\n",
      "Occult science in medicine by Franz Hartmann (494)\n",
      "The Count of Monte Cristo, Illustrated by Alexandre Dumas (490)\n",
      "Selected etchings by Piranesi, series 2 (482)\n",
      "A Tale of Two Cities by Charles Dickens (468)\n",
      "Metamorphosis by Franz Kafka (448)\n",
      "The Philippines a Century Hence by José Rizal (424)\n",
      "War and Peace by graf Leo Tolstoy (420)\n",
      "Ulysses by James Joyce (406)\n",
      "The Great Gatsby by F. Scott  Fitzgerald (406)\n",
      "Waverley; Or, 'Tis Sixty Years Since by Walter Scott (400)\n",
      "The Brothers Karamazov by Fyodor Dostoyevsky (386)\n",
      "Anna Karenina by graf Leo Tolstoy (384)\n",
      "The Kama Sutra of Vatsyayana by Vatsyayana (375)\n",
      "The Alo Man : by Louise Lamprey and Mara L.  Pratt-Chadwick (368)\n",
      "The Yellow Wallpaper by Charlotte Perkins Gilman (358)\n",
      "Thus Spake Zarathustra: A Book for All and None by Friedrich Wilhelm Nietzsche (357)\n",
      "The Romance of Lust: A classic Victorian erotic novel by Anonymous (350)\n",
      "The Odyssey by Homer (347)\n",
      "Crime and Punishment by Fyodor Dostoyevsky (346)\n",
      "A Modest Proposal by Jonathan Swift (334)\n",
      "A Doll's House : a play by Henrik Ibsen (330)\n",
      "The Young Visiters or, Mr. Salteena's Plan by Daisy Ashford (329)\n",
      "The white mail by Cy Warman (322)\n",
      "The Iliad by Homer (322)\n",
      "The Adventures of Tom Sawyer, Complete by Mark Twain (310)\n",
      "Dombey and Son by Charles Dickens (301)\n",
      "Moby Multiple Language Lists of Common Words by Grady Ward (299)\n",
      "Meditations by Emperor of Rome Marcus Aurelius (299)\n",
      "Grimms' Fairy Tales by Jacob Grimm and Wilhelm Grimm (298)\n",
      "The Prophet by Kahlil Gibran (294)\n",
      "The Importance of Being Earnest: A Trivial Comedy for Serious People by Oscar Wilde (293)\n",
      "Great Expectations by Charles Dickens (292)\n",
      "Beyond Good and Evil by Friedrich Wilhelm Nietzsche (290)\n",
      "The Republic by Plato (278)\n",
      "Jane Eyre: An Autobiography by Charlotte Brontë (277)\n",
      "Don Quixote by Miguel de Cervantes Saavedra (272)\n",
      "Treasure Island by Robert Louis Stevenson (262)\n",
      "Adventures of Huckleberry Finn by Mark Twain (261)\n",
      "Emma by Jane Austen (256)\n",
      "Anne of Green Gables by L. M.  Montgomery (256)\n",
      "The slang dictionary : by John Camden Hotten (252)\n",
      "The Strange Case of Dr. Jekyll and Mr. Hyde by Robert Louis Stevenson (248)\n",
      "The Rámáyan of Válmíki, translated into English verse by Valmiki (247)\n",
      "A Study in Scarlet by Arthur Conan Doyle (247)\n",
      "Wuthering Heights by Emily Brontë (240)\n",
      "Celtic Scotland, Volume I (of 3) : by W. F.  Skene (235)\n",
      "Walden, and On The Duty Of Civil Disobedience by Henry David Thoreau (234)\n",
      "Tractatus Logico-Philosophicus by Ludwig Wittgenstein (232)\n",
      "The Wonderful Wizard of Oz by L. Frank  Baum (232)\n",
      "Essays and soliloquies by Miguel de Unamuno (229)\n",
      "Calculus Made Easy by Silvanus P.  Thompson (227)\n",
      "The divine comedy by Dante Alighieri (226)\n",
      "Little Women by Louisa May Alcott (224)\n",
      "Les Misérables by Victor Hugo (220)\n",
      "Demonology and Devil-lore by Moncure Daniel Conway (219)\n",
      "Dubliners by James Joyce (217)\n",
      "Sense and Sensibility by Jane Austen (216)\n",
      "On the Duty of Civil Disobedience by Henry David Thoreau (209)\n",
      "The Scarlet Letter by Nathaniel Hawthorne (207)\n",
      "The War of the Worlds by H. G.  Wells (206)\n",
      "Winnie-the-Pooh by A. A.  Milne (205)\n",
      "The King in Yellow by Robert W.  Chambers (204)\n",
      "The King James Version of the Bible (200)\n",
      "Notes from the Underground by Fyodor Dostoyevsky (198)\n",
      "Carmilla by Joseph Sheridan Le Fanu (196)\n",
      "The Confessions of St. Augustine by Bishop of Hippo Saint Augustine (195)\n",
      "Slave Narratives: A Folk History of Slavery in the United States from Interviews with Former Slaves, (194)\n",
      "Peter Pan by J. M.  Barrie (190)\n",
      "David Copperfield by Charles Dickens (190)\n",
      "The Jungle Book by Rudyard Kipling (185)\n",
      "A tour through Holland : by Sir John Carr (185)\n",
      "The Time Machine by H. G.  Wells (184)\n",
      "\n",
      "\n"
     ]
    }
   ],
   "source": [
    "# Prints items in list\n",
    "for l in lst_titles_temp:\n",
    "    print(l)"
   ]
  },
  {
   "cell_type": "markdown",
   "id": "24c403e1",
   "metadata": {},
   "source": [
    "13. Use regular expression to extract only text from the name strings and append to an empty list. Hint: Use match and span to find indices and use them"
   ]
  },
  {
   "cell_type": "code",
   "execution_count": 99,
   "id": "f1155712",
   "metadata": {},
   "outputs": [],
   "source": [
    "# Creates blank list\n",
    "lst_titles=[]\n",
    "for i in range(100):\n",
    "    # Takes only strings from title\n",
    "    id1,id2=re.match('^[a-zA-Z ]*',lst_titles_temp[i]).span()\n",
    "    # Adds to list\n",
    "    lst_titles.append(lst_titles_temp[i][id1:id2])"
   ]
  },
  {
   "cell_type": "code",
   "execution_count": 100,
   "id": "ab3e0e3a",
   "metadata": {},
   "outputs": [
    {
     "name": "stdout",
     "output_type": "stream",
     "text": [
      "Down and Out in the Magic Kingdom by Cory Doctorow \n",
      "Romeo and Juliet by William Shakespeare \n",
      "Moby Dick\n",
      "A Room with a View by E\n",
      "Middlemarch by George Eliot \n",
      "Little Women\n",
      "The Complete Works of William Shakespeare by William Shakespeare \n",
      "The Enchanted April by Elizabeth Von Arnim \n",
      "The Blue Castle\n",
      "The Adventures of Ferdinand Count Fathom \n",
      "Cranford by Elizabeth Cleghorn Gaskell \n",
      "The Expedition of Humphry Clinker by T\n",
      "Twenty Years After by Alexandre Dumas \n",
      "The Adventures of Roderick Random by T\n",
      "History of Tom Jones\n",
      "My Life \n",
      "Pride and Prejudice by Jane Austen \n",
      "Simple Sabotage Field Manual by United States\n",
      "The green girl by Jack Williamson \n",
      "Alice\n",
      "Ukraine \n",
      "Mark Twain\n",
      "Frankenstein\n",
      "The Adventures of Sherlock Holmes by Arthur Conan Doyle \n",
      "Dracula by Bram Stoker \n",
      "The Picture of Dorian Gray by Oscar Wilde \n",
      "Cleopatra\n",
      "The Prince by Niccol\n",
      "Occult science in medicine by Franz Hartmann \n",
      "The Count of Monte Cristo\n",
      "Selected etchings by Piranesi\n",
      "A Tale of Two Cities by Charles Dickens \n",
      "Metamorphosis by Franz Kafka \n",
      "The Philippines a Century Hence by Jos\n",
      "War and Peace by graf Leo Tolstoy \n",
      "Ulysses by James Joyce \n",
      "The Great Gatsby by F\n",
      "Waverley\n",
      "The Brothers Karamazov by Fyodor Dostoyevsky \n",
      "Anna Karenina by graf Leo Tolstoy \n",
      "The Kama Sutra of Vatsyayana by Vatsyayana \n",
      "The Alo Man \n",
      "The Yellow Wallpaper by Charlotte Perkins Gilman \n",
      "Thus Spake Zarathustra\n",
      "The Romance of Lust\n",
      "The Odyssey by Homer \n",
      "Crime and Punishment by Fyodor Dostoyevsky \n",
      "A Modest Proposal by Jonathan Swift \n",
      "A Doll\n",
      "The Young Visiters or\n",
      "The white mail by Cy Warman \n",
      "The Iliad by Homer \n",
      "The Adventures of Tom Sawyer\n",
      "Dombey and Son by Charles Dickens \n",
      "Moby Multiple Language Lists of Common Words by Grady Ward \n",
      "Meditations by Emperor of Rome Marcus Aurelius \n",
      "Grimms\n",
      "The Prophet by Kahlil Gibran \n",
      "The Importance of Being Earnest\n",
      "Great Expectations by Charles Dickens \n",
      "Beyond Good and Evil by Friedrich Wilhelm Nietzsche \n",
      "The Republic by Plato \n",
      "Jane Eyre\n",
      "Don Quixote by Miguel de Cervantes Saavedra \n",
      "Treasure Island by Robert Louis Stevenson \n",
      "Adventures of Huckleberry Finn by Mark Twain \n",
      "Emma by Jane Austen \n",
      "Anne of Green Gables by L\n",
      "The slang dictionary \n",
      "The Strange Case of Dr\n",
      "The R\n",
      "A Study in Scarlet by Arthur Conan Doyle \n",
      "Wuthering Heights by Emily Bront\n",
      "Celtic Scotland\n",
      "Walden\n",
      "Tractatus Logico\n",
      "The Wonderful Wizard of Oz by L\n",
      "Essays and soliloquies by Miguel de Unamuno \n",
      "Calculus Made Easy by Silvanus P\n",
      "The divine comedy by Dante Alighieri \n",
      "Little Women by Louisa May Alcott \n",
      "Les Mis\n",
      "Demonology and Devil\n",
      "Dubliners by James Joyce \n",
      "Sense and Sensibility by Jane Austen \n",
      "On the Duty of Civil Disobedience by Henry David Thoreau \n",
      "The Scarlet Letter by Nathaniel Hawthorne \n",
      "The War of the Worlds by H\n",
      "Winnie\n",
      "The King in Yellow by Robert W\n",
      "The King James Version of the Bible \n",
      "Notes from the Underground by Fyodor Dostoyevsky \n",
      "Carmilla by Joseph Sheridan Le Fanu \n",
      "The Confessions of St\n",
      "Slave Narratives\n",
      "Peter Pan by J\n",
      "David Copperfield by Charles Dickens \n",
      "The Jungle Book by Rudyard Kipling \n",
      "A tour through Holland \n",
      "The Time Machine by H\n"
     ]
    }
   ],
   "source": [
    "# Displays title\n",
    "for l in lst_titles:\n",
    "    print(l)"
   ]
  },
  {
   "cell_type": "markdown",
   "id": "025d351a",
   "metadata": {},
   "source": [
    "**Data Wrangling with Python: Activity 10, page 295**"
   ]
  },
  {
   "cell_type": "markdown",
   "id": "b9fd6234",
   "metadata": {},
   "source": [
    "1. Import **urllib.requests, urllib.parse, urrlib.error,** and **json**."
   ]
  },
  {
   "cell_type": "code",
   "execution_count": 7,
   "id": "60fe530f",
   "metadata": {},
   "outputs": [],
   "source": [
    "import urllib.request, urllib.parse, urllib.error\n",
    "import json"
   ]
  },
  {
   "cell_type": "markdown",
   "id": "9ce3dd80",
   "metadata": {},
   "source": [
    "2. Load the secret API key (you have to get one from the OMDb webstie and use that; it has a daily limit of 1,000. from a JSON file stored in the same folder in a variable, by using **json.loads**."
   ]
  },
  {
   "cell_type": "markdown",
   "id": "274ce55a",
   "metadata": {},
   "source": [
    "3. Obatin a key and store it in JSON as **APIkeys.json**."
   ]
  },
  {
   "cell_type": "markdown",
   "id": "ccb823b4",
   "metadata": {},
   "source": [
    "Key is stored in the following path OneDrive - Bellevue University/DSC 540 Data Preperation/Week6_7"
   ]
  },
  {
   "cell_type": "markdown",
   "id": "7237e648",
   "metadata": {},
   "source": [
    "4. Open the **APIkeys.json** file."
   ]
  },
  {
   "cell_type": "code",
   "execution_count": 16,
   "id": "27b45c02",
   "metadata": {},
   "outputs": [],
   "source": [
    "# Opens APIKeys json\n",
    "with open('APIkeys.json') as f:\n",
    "    # Loads data\n",
    "    keys = json.load(f)\n",
    "    # Extracts key \n",
    "    omdbapi = keys['OMDBapi']"
   ]
  },
  {
   "cell_type": "markdown",
   "id": "b7ed4d68",
   "metadata": {},
   "source": [
    "5. Assign the OMDb portal as a string to a variable."
   ]
  },
  {
   "cell_type": "markdown",
   "id": "86a3bee5",
   "metadata": {},
   "source": [
    "6. Create a variable called **apikey** with the last portion of the url **(* apikey=secretapikey**, where **secretapikey** is your own API key."
   ]
  },
  {
   "cell_type": "code",
   "execution_count": 35,
   "id": "d4468e71",
   "metadata": {},
   "outputs": [],
   "source": [
    "# Sets url\n",
    "omdb_url = 'http://www.omdbapi.com/?'\n",
    "# Formats api key\n",
    "apikey = 'apikey='+omdbapi+'&'"
   ]
  },
  {
   "cell_type": "markdown",
   "id": "399a4948",
   "metadata": {},
   "source": [
    "7. Write a utility function called **print_json** to print the movie data from a JSON file (which we will get from the portal)."
   ]
  },
  {
   "cell_type": "code",
   "execution_count": 18,
   "id": "007f2634",
   "metadata": {},
   "outputs": [],
   "source": [
    "# JSON example of response from website\n",
    "with open('example.json') as f2:\n",
    "    keys_list = json.load(f2)"
   ]
  },
  {
   "cell_type": "code",
   "execution_count": 20,
   "id": "fe4f2b3d",
   "metadata": {},
   "outputs": [
    {
     "data": {
      "text/plain": [
       "dict_keys(['Title', 'Year', 'Rated', 'Released', 'Runtime', 'Genre', 'Director', 'Writer', 'Actors', 'Plot', 'Language', 'Country', 'Awards', 'Poster', 'Ratings', 'Metascore', 'imdbRating', 'imdbVotes', 'imdbID', 'Type', 'DVD', 'BoxOffice', 'Production', 'Website', 'Response'])"
      ]
     },
     "execution_count": 20,
     "metadata": {},
     "output_type": "execute_result"
    }
   ],
   "source": [
    "# Displays keys in the json file\n",
    "keys_list.keys()"
   ]
  },
  {
   "cell_type": "code",
   "execution_count": 21,
   "id": "ba6c5d9b",
   "metadata": {},
   "outputs": [],
   "source": [
    "# Formats the key disply\n",
    "def print_json(json_data):\n",
    "    keys_list\n",
    "    print(\"-\"*50)\n",
    "     \n",
    "    for k in keys_list:\n",
    "        if k in list(json_data.keys()):\n",
    "            print(f\"{k}: {json_data[k]}\")\n",
    "    print(\"-\"*50)"
   ]
  },
  {
   "cell_type": "markdown",
   "id": "1eb68e83",
   "metadata": {},
   "source": [
    "8. Write a utility function to download a poster of the movie based on the information from the jason dataset and save in your local folder. Use **os** module. The poster data is stored in the JSON key **'Poster'**. Use the Python command open to open a file and write the poster data. Close the file after done. This function will save the poster data as an image file."
   ]
  },
  {
   "cell_type": "code",
   "execution_count": 32,
   "id": "6faac8ce",
   "metadata": {},
   "outputs": [],
   "source": [
    "def save_poster(json_data):\n",
    "    import os\n",
    "    title = json_data['Title']\n",
    "    poster_url = json_data['Poster']\n",
    "    # Splits the poster url\n",
    "    poster_file_extension=poster_url.split('.')[-1]\n",
    "    # Reads the image file from web\n",
    "    poster_data = urllib.request.urlopen(poster_url).read()\n",
    "    \n",
    "    # Adds poster string to current directory\n",
    "    savelocation=os.getcwd()+'\\\\'+'Posters'+'\\\\'\n",
    "    # Creates new directory if the directory does not exist\n",
    "    if not os.path.isdir(savelocation):\n",
    "        os.mkdir(savelocation)\n",
    "    # Creates file\n",
    "    filename=savelocation+str(title)+'.'+poster_file_extension\n",
    "    # Opens\n",
    "    f=open(filename,'wb')\n",
    "    # Creates poster\n",
    "    f.write(poster_data)\n",
    "    f.close()"
   ]
  },
  {
   "cell_type": "markdown",
   "id": "8d8fb7cc",
   "metadata": {},
   "source": [
    "9. Write a utility function **search_movie** to search a movie by its name, print the downloaded **JSON** data and save the movie poster in the local folder. Use try-except loop for this. Use the previously created **serviceurl** and **apikey** variables. You have to pass on a dictionary with a key **t** and the movie name as the corresponding value to **urllib.parse.urlencode()** function and then add the **serviceurl** and **apikey** to the output of the function to construct the full URL. This URL will be used for accessing the data. The JSON data has a key called **Response**. If it is **True**, that means the read was successful. Check this before processing the data. If not successful, then print the **JSON** key **Error**, which will contain the appropriate error message returned by the movie database.\n"
   ]
  },
  {
   "cell_type": "code",
   "execution_count": 36,
   "id": "4b12da0c",
   "metadata": {},
   "outputs": [],
   "source": [
    "def search_movie(title):\n",
    "    try:\n",
    "        # URL Call\n",
    "        url = omdb_url +apikey+ urllib.parse.urlencode({'t': str(title)})\n",
    "        print(f'Retrieving the data of \"{title}\" now... ')\n",
    "        print(url)\n",
    "        # Opens url\n",
    "        uh = urllib.request.urlopen(url)\n",
    "        data = uh.read()\n",
    "        json_data=json.loads(data)\n",
    "        \n",
    "        if json_data['Response']=='True':\n",
    "            print_json(json_data)\n",
    "            # if poster exists, download poster\n",
    "            if json_data['Poster']!='N/A':\n",
    "                save_poster(json_data)\n",
    "        # Error handle\n",
    "        else:\n",
    "            print(\"Error encountered: \",json_data['Error'])\n",
    "    # Error handle\n",
    "    except urllib.error.URLError as e:\n",
    "        print(f\"ERROR: {e.reason}\")"
   ]
  },
  {
   "cell_type": "markdown",
   "id": "eeb91c83",
   "metadata": {},
   "source": [
    "10. Test **search_movie** function by entering **Titanic**"
   ]
  },
  {
   "cell_type": "code",
   "execution_count": 38,
   "id": "d0816abd",
   "metadata": {},
   "outputs": [
    {
     "name": "stdout",
     "output_type": "stream",
     "text": [
      "Retrieving the data of \"Titanic\" now... \n",
      "http://www.omdbapi.com/?apikey=6a73f5de&t=Titanic\n",
      "--------------------------------------------------\n",
      "Title: Titanic\n",
      "Year: 1997\n",
      "Rated: PG-13\n",
      "Released: 19 Dec 1997\n",
      "Runtime: 194 min\n",
      "Genre: Drama, Romance\n",
      "Director: James Cameron\n",
      "Writer: James Cameron\n",
      "Actors: Leonardo DiCaprio, Kate Winslet, Billy Zane\n",
      "Plot: A seventeen-year-old aristocrat falls in love with a kind but poor artist aboard the luxurious, ill-fated R.M.S. Titanic.\n",
      "Language: English, Swedish, Italian, French\n",
      "Country: United States, Mexico\n",
      "Awards: Won 11 Oscars. 126 wins & 83 nominations total\n",
      "Poster: https://m.media-amazon.com/images/M/MV5BMDdmZGU3NDQtY2E5My00ZTliLWIzOTUtMTY4ZGI1YjdiNjk3XkEyXkFqcGdeQXVyNTA4NzY1MzY@._V1_SX300.jpg\n",
      "Ratings: [{'Source': 'Internet Movie Database', 'Value': '7.9/10'}, {'Source': 'Rotten Tomatoes', 'Value': '88%'}, {'Source': 'Metacritic', 'Value': '75/100'}]\n",
      "Metascore: 75\n",
      "imdbRating: 7.9\n",
      "imdbVotes: 1,228,124\n",
      "imdbID: tt0120338\n",
      "Type: movie\n",
      "DVD: 08 Jan 2002\n",
      "BoxOffice: $674,292,608\n",
      "Production: N/A\n",
      "Website: N/A\n",
      "Response: True\n",
      "--------------------------------------------------\n"
     ]
    }
   ],
   "source": [
    "search_movie(\"Titanic\")"
   ]
  },
  {
   "cell_type": "markdown",
   "id": "be4f7d15",
   "metadata": {},
   "source": [
    "11. Test search_movie function by entering **\"Random_error\"** (obviously this will not be found and you should be able to check whether your error catching code is working properly)"
   ]
  },
  {
   "cell_type": "code",
   "execution_count": 39,
   "id": "205985c8",
   "metadata": {},
   "outputs": [
    {
     "name": "stdout",
     "output_type": "stream",
     "text": [
      "Retrieving the data of \"Random_error\" now... \n",
      "http://www.omdbapi.com/?apikey=6a73f5de&t=Random_error\n",
      "Error encountered:  Movie not found!\n"
     ]
    }
   ],
   "source": [
    "search_movie('Random_error')"
   ]
  },
  {
   "cell_type": "markdown",
   "id": "83ec0511",
   "metadata": {},
   "source": [
    "Connect to an API of your choice and do a simple data pull - you can use any API - except the API you have selected for your project.\n",
    "\n",
    "    a. In previous versions of this course we have always used Twitter, but with recent organizational changes at Twitter, it has become increasingly difficult to access the free APIs available at Twitter. You are more than welcome to try to use Twitter's API for this portion of the assignment, but please note, there has been some inconsistency experienced when following along with their documentation posted.\n",
    "    \n",
    "    b. Connect to the API and do a \"Get\" call/operation on the API to return a subset of data from the API"
   ]
  },
  {
   "cell_type": "code",
   "execution_count": 52,
   "id": "1e350c31",
   "metadata": {},
   "outputs": [],
   "source": [
    "# Creates ket\n",
    "with open('weather.json') as f3:\n",
    "    keys_weather = json.load(f3)\n",
    "    appid = keys['appid']"
   ]
  },
  {
   "cell_type": "code",
   "execution_count": 61,
   "id": "7742c9e8",
   "metadata": {},
   "outputs": [],
   "source": [
    "# Creates url and applies api\n",
    "weather_url = 'https://api.openweathermap.org/data/2.5/weather?'\n",
    "weather_appid = '&appid='+appid"
   ]
  },
  {
   "cell_type": "code",
   "execution_count": 62,
   "id": "162a7025",
   "metadata": {},
   "outputs": [],
   "source": [
    "# JSON example of response from website\n",
    "with open('weather_example.json') as f4:\n",
    "    keys_list2 = json.load(f4)"
   ]
  },
  {
   "cell_type": "code",
   "execution_count": 63,
   "id": "22737bb4",
   "metadata": {},
   "outputs": [
    {
     "data": {
      "text/plain": [
       "dict_keys(['coord', 'weather', 'base', 'main', 'visibility', 'wind', 'clouds', 'dt', 'sys', 'id', 'name', 'cod'])"
      ]
     },
     "execution_count": 63,
     "metadata": {},
     "output_type": "execute_result"
    }
   ],
   "source": [
    "keys_list2.keys()"
   ]
  },
  {
   "cell_type": "code",
   "execution_count": 64,
   "id": "04eaf818",
   "metadata": {},
   "outputs": [],
   "source": [
    "# Formats keys and displays\n",
    "def print_json2(json_data):\n",
    "    keys_list2\n",
    "    print(\"-\"*50)\n",
    "    for k in keys_list2:\n",
    "        if k in list(json_data.keys()):\n",
    "            print(f\"{k}: {json_data[k]}\")\n",
    "    print(\"-\"*50)"
   ]
  },
  {
   "cell_type": "code",
   "execution_count": 69,
   "id": "e5758d8d",
   "metadata": {},
   "outputs": [],
   "source": [
    "def search_weather(city):\n",
    "    try:\n",
    "        # URL Call\n",
    "        url = weather_url + urllib.parse.urlencode({'q': str(city)})+weather_appid\n",
    "        print(f'Retrieving the data of \"{city}\" now... ')\n",
    "        print(url)\n",
    "        # Opens URL\n",
    "        uh = urllib.request.urlopen(url)\n",
    "        data = uh.read()\n",
    "        json_data=json.loads(data)\n",
    "        # Prints data\n",
    "        print_json2(json_data)\n",
    "    # Error Handle\n",
    "    except urllib.error.URLError as e:\n",
    "        print(f\"ERROR: {e.reason}\")"
   ]
  },
  {
   "cell_type": "code",
   "execution_count": 70,
   "id": "723139aa",
   "metadata": {},
   "outputs": [
    {
     "name": "stdout",
     "output_type": "stream",
     "text": [
      "Retrieving the data of \"London\" now... \n",
      "https://api.openweathermap.org/data/2.5/weather?q=London&appid=c95457742f9936906058d38ad9153a1b\n",
      "--------------------------------------------------\n",
      "coord: {'lon': -0.1257, 'lat': 51.5085}\n",
      "weather: [{'id': 802, 'main': 'Clouds', 'description': 'scattered clouds', 'icon': '03n'}]\n",
      "base: stations\n",
      "main: {'temp': 285.82, 'feels_like': 285.15, 'temp_min': 283.35, 'temp_max': 287.6, 'pressure': 1011, 'humidity': 77}\n",
      "visibility: 10000\n",
      "wind: {'speed': 0.45, 'deg': 187, 'gust': 0.89}\n",
      "clouds: {'all': 30}\n",
      "dt: 1690331827\n",
      "sys: {'type': 2, 'id': 2075535, 'country': 'GB', 'sunrise': 1690344883, 'sunset': 1690401542}\n",
      "id: 2643743\n",
      "name: London\n",
      "cod: 200\n",
      "--------------------------------------------------\n"
     ]
    }
   ],
   "source": [
    "search_weather('London')"
   ]
  },
  {
   "cell_type": "code",
   "execution_count": 75,
   "id": "15d70a37",
   "metadata": {},
   "outputs": [],
   "source": [
    "import requests"
   ]
  },
  {
   "cell_type": "code",
   "execution_count": 76,
   "id": "316ec9c1",
   "metadata": {},
   "outputs": [],
   "source": [
    "def get_request(city, key):\n",
    "    # URL Call\n",
    "    response = requests.get(weather_url + urllib.parse.urlencode({'q': str(city)})+weather_appid)\n",
    "    # Handle if connection goes through\n",
    "    if response.status_code == 200:\n",
    "        data = response.json()\n",
    "        subset = data[key]  \n",
    "        # Ruturns data from key\n",
    "        return subset\n",
    "    # Error Handle\n",
    "    else:\n",
    "        print(\"Error:\", response.status_code)\n",
    "        return None\n"
   ]
  },
  {
   "cell_type": "code",
   "execution_count": 77,
   "id": "84ec9ee8",
   "metadata": {},
   "outputs": [
    {
     "data": {
      "text/plain": [
       "{'lon': -0.1257, 'lat': 51.5085}"
      ]
     },
     "execution_count": 77,
     "metadata": {},
     "output_type": "execute_result"
    }
   ],
   "source": [
    "get_request('London', 'coord')"
   ]
  },
  {
   "cell_type": "markdown",
   "id": "f8ee7cda",
   "metadata": {},
   "source": [
    "**Using one of the datasets provided, or a dataset of your own, choose 3 of the following visualizations to complete. You must submit via PDF along with your code. You are free to use Matplotlib, Seaborn or another package if you prefer.**\n",
    "\n",
    "    a. Line\n",
    "    b. Scatter\n",
    "    c. Bar\n",
    "    d. Histogram\n",
    "    e. Density Plot\n",
    "    f. Pie Chart"
   ]
  },
  {
   "cell_type": "code",
   "execution_count": 108,
   "id": "3f93de4a",
   "metadata": {},
   "outputs": [],
   "source": [
    "import pandas as pd\n",
    "import numpy as np"
   ]
  },
  {
   "cell_type": "code",
   "execution_count": 88,
   "id": "ebfa5deb",
   "metadata": {},
   "outputs": [],
   "source": [
    "# Read in Data\n",
    "df = pd.DataFrame(np.random.randint(0,100,size=(15, 15)), columns=list('ABCDEFGHIJKLMNO'))"
   ]
  },
  {
   "cell_type": "code",
   "execution_count": 92,
   "id": "4be4fb4c",
   "metadata": {},
   "outputs": [
    {
     "data": {
      "text/html": [
       "<div>\n",
       "<style scoped>\n",
       "    .dataframe tbody tr th:only-of-type {\n",
       "        vertical-align: middle;\n",
       "    }\n",
       "\n",
       "    .dataframe tbody tr th {\n",
       "        vertical-align: top;\n",
       "    }\n",
       "\n",
       "    .dataframe thead th {\n",
       "        text-align: right;\n",
       "    }\n",
       "</style>\n",
       "<table border=\"1\" class=\"dataframe\">\n",
       "  <thead>\n",
       "    <tr style=\"text-align: right;\">\n",
       "      <th></th>\n",
       "      <th>A</th>\n",
       "      <th>B</th>\n",
       "      <th>C</th>\n",
       "      <th>D</th>\n",
       "      <th>E</th>\n",
       "      <th>F</th>\n",
       "      <th>G</th>\n",
       "      <th>H</th>\n",
       "      <th>I</th>\n",
       "      <th>J</th>\n",
       "      <th>K</th>\n",
       "      <th>L</th>\n",
       "      <th>M</th>\n",
       "      <th>N</th>\n",
       "      <th>O</th>\n",
       "    </tr>\n",
       "  </thead>\n",
       "  <tbody>\n",
       "    <tr>\n",
       "      <th>0</th>\n",
       "      <td>11</td>\n",
       "      <td>61</td>\n",
       "      <td>92</td>\n",
       "      <td>91</td>\n",
       "      <td>51</td>\n",
       "      <td>26</td>\n",
       "      <td>49</td>\n",
       "      <td>8</td>\n",
       "      <td>45</td>\n",
       "      <td>0</td>\n",
       "      <td>85</td>\n",
       "      <td>98</td>\n",
       "      <td>56</td>\n",
       "      <td>2</td>\n",
       "      <td>28</td>\n",
       "    </tr>\n",
       "    <tr>\n",
       "      <th>1</th>\n",
       "      <td>65</td>\n",
       "      <td>63</td>\n",
       "      <td>96</td>\n",
       "      <td>31</td>\n",
       "      <td>66</td>\n",
       "      <td>97</td>\n",
       "      <td>51</td>\n",
       "      <td>41</td>\n",
       "      <td>44</td>\n",
       "      <td>28</td>\n",
       "      <td>11</td>\n",
       "      <td>67</td>\n",
       "      <td>56</td>\n",
       "      <td>54</td>\n",
       "      <td>4</td>\n",
       "    </tr>\n",
       "    <tr>\n",
       "      <th>2</th>\n",
       "      <td>44</td>\n",
       "      <td>30</td>\n",
       "      <td>53</td>\n",
       "      <td>1</td>\n",
       "      <td>55</td>\n",
       "      <td>29</td>\n",
       "      <td>14</td>\n",
       "      <td>6</td>\n",
       "      <td>32</td>\n",
       "      <td>91</td>\n",
       "      <td>79</td>\n",
       "      <td>73</td>\n",
       "      <td>79</td>\n",
       "      <td>71</td>\n",
       "      <td>71</td>\n",
       "    </tr>\n",
       "    <tr>\n",
       "      <th>3</th>\n",
       "      <td>12</td>\n",
       "      <td>48</td>\n",
       "      <td>18</td>\n",
       "      <td>6</td>\n",
       "      <td>78</td>\n",
       "      <td>68</td>\n",
       "      <td>5</td>\n",
       "      <td>26</td>\n",
       "      <td>30</td>\n",
       "      <td>42</td>\n",
       "      <td>20</td>\n",
       "      <td>65</td>\n",
       "      <td>31</td>\n",
       "      <td>80</td>\n",
       "      <td>23</td>\n",
       "    </tr>\n",
       "    <tr>\n",
       "      <th>4</th>\n",
       "      <td>35</td>\n",
       "      <td>22</td>\n",
       "      <td>39</td>\n",
       "      <td>71</td>\n",
       "      <td>91</td>\n",
       "      <td>55</td>\n",
       "      <td>14</td>\n",
       "      <td>42</td>\n",
       "      <td>24</td>\n",
       "      <td>24</td>\n",
       "      <td>94</td>\n",
       "      <td>18</td>\n",
       "      <td>10</td>\n",
       "      <td>39</td>\n",
       "      <td>9</td>\n",
       "    </tr>\n",
       "  </tbody>\n",
       "</table>\n",
       "</div>"
      ],
      "text/plain": [
       "    A   B   C   D   E   F   G   H   I   J   K   L   M   N   O\n",
       "0  11  61  92  91  51  26  49   8  45   0  85  98  56   2  28\n",
       "1  65  63  96  31  66  97  51  41  44  28  11  67  56  54   4\n",
       "2  44  30  53   1  55  29  14   6  32  91  79  73  79  71  71\n",
       "3  12  48  18   6  78  68   5  26  30  42  20  65  31  80  23\n",
       "4  35  22  39  71  91  55  14  42  24  24  94  18  10  39   9"
      ]
     },
     "execution_count": 92,
     "metadata": {},
     "output_type": "execute_result"
    }
   ],
   "source": [
    "df.head()"
   ]
  },
  {
   "cell_type": "code",
   "execution_count": 106,
   "id": "334fadd7",
   "metadata": {},
   "outputs": [
    {
     "data": {
      "text/plain": [
       "<matplotlib.legend.Legend at 0x7f91901bf460>"
      ]
     },
     "execution_count": 106,
     "metadata": {},
     "output_type": "execute_result"
    },
    {
     "data": {
      "image/png": "[encoded data removed]",
      "text/plain": [
       "<Figure size 640x480 with 1 Axes>"
      ]
     },
     "metadata": {},
     "output_type": "display_data"
    }
   ],
   "source": [
    "# Line Plot\n",
    "line_plot = df.plot()\n",
    "line_plot.legend(loc='upper left', bbox_to_anchor=(1.0, 1.0))"
   ]
  },
  {
   "cell_type": "code",
   "execution_count": 107,
   "id": "97bc65c8",
   "metadata": {},
   "outputs": [
    {
     "data": {
      "image/png": "[encoded data removed]",
      "text/plain": [
       "<Figure size 640x480 with 1 Axes>"
      ]
     },
     "metadata": {},
     "output_type": "display_data"
    }
   ],
   "source": [
    "# Scatter Plot\n",
    "scatter_plot = df.plot(kind= 'scatter', x = 'A', y ='B')"
   ]
  },
  {
   "cell_type": "code",
   "execution_count": 109,
   "id": "1c4f392c",
   "metadata": {},
   "outputs": [
    {
     "data": {
      "image/png": "[encoded data removed]",
      "text/plain": [
       "<Figure size 640x480 with 1 Axes>"
      ]
     },
     "metadata": {},
     "output_type": "display_data"
    }
   ],
   "source": [
    "# Histogram \n",
    "hist = df['A'].plot(kind = 'hist')"
   ]
  }
 ],
 "metadata": {
  "kernelspec": {
   "display_name": "Python 3 (ipykernel)",
   "language": "python",
   "name": "python3"
  },
  "language_info": {
   "codemirror_mode": {
    "name": "ipython",
    "version": 3
   },
   "file_extension": ".py",
   "mimetype": "text/x-python",
   "name": "python",
   "nbconvert_exporter": "python",
   "pygments_lexer": "ipython3",
   "version": "3.9.13"
  }
 },
 "nbformat": 4,
 "nbformat_minor": 5
}
