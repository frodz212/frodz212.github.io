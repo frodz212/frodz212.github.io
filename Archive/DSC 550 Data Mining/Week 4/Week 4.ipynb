{
 "cells": [
  {
   "cell_type": "markdown",
   "id": "79270544",
   "metadata": {},
   "source": [
    "Load the data as a Pandas data frame and ensure that it imported correctly.\n"
   ]
  },
  {
   "cell_type": "code",
   "execution_count": 233,
   "id": "d535a0bc",
   "metadata": {},
   "outputs": [],
   "source": [
    "import pandas as pd"
   ]
  },
  {
   "cell_type": "code",
   "execution_count": 234,
   "id": "43b3eae2",
   "metadata": {},
   "outputs": [
    {
     "data": {
      "text/html": [
       "<div>\n",
       "<style scoped>\n",
       "    .dataframe tbody tr th:only-of-type {\n",
       "        vertical-align: middle;\n",
       "    }\n",
       "\n",
       "    .dataframe tbody tr th {\n",
       "        vertical-align: top;\n",
       "    }\n",
       "\n",
       "    .dataframe thead th {\n",
       "        text-align: right;\n",
       "    }\n",
       "</style>\n",
       "<table border=\"1\" class=\"dataframe\">\n",
       "  <thead>\n",
       "    <tr style=\"text-align: right;\">\n",
       "      <th></th>\n",
       "      <th>mpg</th>\n",
       "      <th>cylinders</th>\n",
       "      <th>displacement</th>\n",
       "      <th>horsepower</th>\n",
       "      <th>weight</th>\n",
       "      <th>acceleration</th>\n",
       "      <th>model year</th>\n",
       "      <th>origin</th>\n",
       "      <th>car name</th>\n",
       "    </tr>\n",
       "  </thead>\n",
       "  <tbody>\n",
       "    <tr>\n",
       "      <th>0</th>\n",
       "      <td>18.0</td>\n",
       "      <td>8</td>\n",
       "      <td>307.0</td>\n",
       "      <td>130</td>\n",
       "      <td>3504</td>\n",
       "      <td>12.0</td>\n",
       "      <td>70</td>\n",
       "      <td>1</td>\n",
       "      <td>chevrolet chevelle malibu</td>\n",
       "    </tr>\n",
       "    <tr>\n",
       "      <th>1</th>\n",
       "      <td>15.0</td>\n",
       "      <td>8</td>\n",
       "      <td>350.0</td>\n",
       "      <td>165</td>\n",
       "      <td>3693</td>\n",
       "      <td>11.5</td>\n",
       "      <td>70</td>\n",
       "      <td>1</td>\n",
       "      <td>buick skylark 320</td>\n",
       "    </tr>\n",
       "    <tr>\n",
       "      <th>2</th>\n",
       "      <td>18.0</td>\n",
       "      <td>8</td>\n",
       "      <td>318.0</td>\n",
       "      <td>150</td>\n",
       "      <td>3436</td>\n",
       "      <td>11.0</td>\n",
       "      <td>70</td>\n",
       "      <td>1</td>\n",
       "      <td>plymouth satellite</td>\n",
       "    </tr>\n",
       "    <tr>\n",
       "      <th>3</th>\n",
       "      <td>16.0</td>\n",
       "      <td>8</td>\n",
       "      <td>304.0</td>\n",
       "      <td>150</td>\n",
       "      <td>3433</td>\n",
       "      <td>12.0</td>\n",
       "      <td>70</td>\n",
       "      <td>1</td>\n",
       "      <td>amc rebel sst</td>\n",
       "    </tr>\n",
       "    <tr>\n",
       "      <th>4</th>\n",
       "      <td>17.0</td>\n",
       "      <td>8</td>\n",
       "      <td>302.0</td>\n",
       "      <td>140</td>\n",
       "      <td>3449</td>\n",
       "      <td>10.5</td>\n",
       "      <td>70</td>\n",
       "      <td>1</td>\n",
       "      <td>ford torino</td>\n",
       "    </tr>\n",
       "  </tbody>\n",
       "</table>\n",
       "</div>"
      ],
      "text/plain": [
       "    mpg  cylinders  displacement horsepower  weight  acceleration  model year  \\\n",
       "0  18.0          8         307.0        130    3504          12.0          70   \n",
       "1  15.0          8         350.0        165    3693          11.5          70   \n",
       "2  18.0          8         318.0        150    3436          11.0          70   \n",
       "3  16.0          8         304.0        150    3433          12.0          70   \n",
       "4  17.0          8         302.0        140    3449          10.5          70   \n",
       "\n",
       "   origin                   car name  \n",
       "0       1  chevrolet chevelle malibu  \n",
       "1       1          buick skylark 320  \n",
       "2       1         plymouth satellite  \n",
       "3       1              amc rebel sst  \n",
       "4       1                ford torino  "
      ]
     },
     "execution_count": 234,
     "metadata": {},
     "output_type": "execute_result"
    }
   ],
   "source": [
    "# Read Data\n",
    "data = pd.read_csv('auto-mpg.csv')\n",
    "data.head()"
   ]
  },
  {
   "cell_type": "markdown",
   "id": "dafde316",
   "metadata": {},
   "source": [
    "Begin by prepping the data for modeling:\n"
   ]
  },
  {
   "cell_type": "markdown",
   "id": "08a801d3",
   "metadata": {},
   "source": [
    "Remove the car name column."
   ]
  },
  {
   "cell_type": "code",
   "execution_count": 236,
   "id": "90bf95ce",
   "metadata": {},
   "outputs": [
    {
     "data": {
      "text/plain": [
       "Index(['mpg', 'cylinders', 'displacement', 'horsepower', 'weight',\n",
       "       'acceleration', 'model year', 'origin', 'car name'],\n",
       "      dtype='object')"
      ]
     },
     "execution_count": 236,
     "metadata": {},
     "output_type": "execute_result"
    }
   ],
   "source": [
    "# Look at name of columns\n",
    "data.columns"
   ]
  },
  {
   "cell_type": "code",
   "execution_count": 237,
   "id": "13ef296f",
   "metadata": {},
   "outputs": [],
   "source": [
    "# Remove column\n",
    "data = data.drop(columns=\"car name\")"
   ]
  },
  {
   "cell_type": "code",
   "execution_count": 238,
   "id": "fd5a016d",
   "metadata": {},
   "outputs": [
    {
     "data": {
      "text/html": [
       "<div>\n",
       "<style scoped>\n",
       "    .dataframe tbody tr th:only-of-type {\n",
       "        vertical-align: middle;\n",
       "    }\n",
       "\n",
       "    .dataframe tbody tr th {\n",
       "        vertical-align: top;\n",
       "    }\n",
       "\n",
       "    .dataframe thead th {\n",
       "        text-align: right;\n",
       "    }\n",
       "</style>\n",
       "<table border=\"1\" class=\"dataframe\">\n",
       "  <thead>\n",
       "    <tr style=\"text-align: right;\">\n",
       "      <th></th>\n",
       "      <th>mpg</th>\n",
       "      <th>cylinders</th>\n",
       "      <th>displacement</th>\n",
       "      <th>horsepower</th>\n",
       "      <th>weight</th>\n",
       "      <th>acceleration</th>\n",
       "      <th>model year</th>\n",
       "      <th>origin</th>\n",
       "    </tr>\n",
       "  </thead>\n",
       "  <tbody>\n",
       "    <tr>\n",
       "      <th>0</th>\n",
       "      <td>18.0</td>\n",
       "      <td>8</td>\n",
       "      <td>307.0</td>\n",
       "      <td>130</td>\n",
       "      <td>3504</td>\n",
       "      <td>12.0</td>\n",
       "      <td>70</td>\n",
       "      <td>1</td>\n",
       "    </tr>\n",
       "    <tr>\n",
       "      <th>1</th>\n",
       "      <td>15.0</td>\n",
       "      <td>8</td>\n",
       "      <td>350.0</td>\n",
       "      <td>165</td>\n",
       "      <td>3693</td>\n",
       "      <td>11.5</td>\n",
       "      <td>70</td>\n",
       "      <td>1</td>\n",
       "    </tr>\n",
       "    <tr>\n",
       "      <th>2</th>\n",
       "      <td>18.0</td>\n",
       "      <td>8</td>\n",
       "      <td>318.0</td>\n",
       "      <td>150</td>\n",
       "      <td>3436</td>\n",
       "      <td>11.0</td>\n",
       "      <td>70</td>\n",
       "      <td>1</td>\n",
       "    </tr>\n",
       "    <tr>\n",
       "      <th>3</th>\n",
       "      <td>16.0</td>\n",
       "      <td>8</td>\n",
       "      <td>304.0</td>\n",
       "      <td>150</td>\n",
       "      <td>3433</td>\n",
       "      <td>12.0</td>\n",
       "      <td>70</td>\n",
       "      <td>1</td>\n",
       "    </tr>\n",
       "    <tr>\n",
       "      <th>4</th>\n",
       "      <td>17.0</td>\n",
       "      <td>8</td>\n",
       "      <td>302.0</td>\n",
       "      <td>140</td>\n",
       "      <td>3449</td>\n",
       "      <td>10.5</td>\n",
       "      <td>70</td>\n",
       "      <td>1</td>\n",
       "    </tr>\n",
       "  </tbody>\n",
       "</table>\n",
       "</div>"
      ],
      "text/plain": [
       "    mpg  cylinders  displacement horsepower  weight  acceleration  model year  \\\n",
       "0  18.0          8         307.0        130    3504          12.0          70   \n",
       "1  15.0          8         350.0        165    3693          11.5          70   \n",
       "2  18.0          8         318.0        150    3436          11.0          70   \n",
       "3  16.0          8         304.0        150    3433          12.0          70   \n",
       "4  17.0          8         302.0        140    3449          10.5          70   \n",
       "\n",
       "   origin  \n",
       "0       1  \n",
       "1       1  \n",
       "2       1  \n",
       "3       1  \n",
       "4       1  "
      ]
     },
     "execution_count": 238,
     "metadata": {},
     "output_type": "execute_result"
    }
   ],
   "source": [
    "data.head()"
   ]
  },
  {
   "cell_type": "markdown",
   "id": "302a113a",
   "metadata": {},
   "source": [
    "The horsepower column values likely imported as a string data type. Figure out why and replace any strings with the column mean."
   ]
  },
  {
   "cell_type": "code",
   "execution_count": 239,
   "id": "4d344ab5",
   "metadata": {
    "scrolled": true
   },
   "outputs": [
    {
     "data": {
      "text/plain": [
       "mpg             float64\n",
       "cylinders         int64\n",
       "displacement    float64\n",
       "horsepower       object\n",
       "weight            int64\n",
       "acceleration    float64\n",
       "model year        int64\n",
       "origin            int64\n",
       "dtype: object"
      ]
     },
     "execution_count": 239,
     "metadata": {},
     "output_type": "execute_result"
    }
   ],
   "source": [
    "# Display data types\n",
    "data.dtypes"
   ]
  },
  {
   "cell_type": "code",
   "execution_count": 241,
   "id": "0dde296c",
   "metadata": {},
   "outputs": [],
   "source": [
    "# Changes horsepower to numeric and converts errors to NaN\n",
    "data['horsepower'] = pd.to_numeric(data['horsepower'], errors='coerce')"
   ]
  },
  {
   "cell_type": "code",
   "execution_count": 243,
   "id": "83f13244",
   "metadata": {},
   "outputs": [],
   "source": [
    "# Removes any NaN\n",
    "data = data.dropna(axis= 0, how='any')"
   ]
  },
  {
   "cell_type": "code",
   "execution_count": 244,
   "id": "ab6dada1",
   "metadata": {},
   "outputs": [
    {
     "data": {
      "text/plain": [
       "mpg             float64\n",
       "cylinders         int64\n",
       "displacement    float64\n",
       "horsepower      float64\n",
       "weight            int64\n",
       "acceleration    float64\n",
       "model year        int64\n",
       "origin            int64\n",
       "dtype: object"
      ]
     },
     "execution_count": 244,
     "metadata": {},
     "output_type": "execute_result"
    }
   ],
   "source": [
    "data.dtypes"
   ]
  },
  {
   "cell_type": "markdown",
   "id": "b81e8f0a",
   "metadata": {},
   "source": [
    "Create dummy variables for the origin column."
   ]
  },
  {
   "cell_type": "code",
   "execution_count": 245,
   "id": "b70a4292",
   "metadata": {},
   "outputs": [],
   "source": [
    "# Creates dummies for origin column\n",
    "dummy_origin = pd.get_dummies(data[\"origin\"])"
   ]
  },
  {
   "cell_type": "code",
   "execution_count": 246,
   "id": "995ec3e5",
   "metadata": {},
   "outputs": [
    {
     "data": {
      "text/html": [
       "<div>\n",
       "<style scoped>\n",
       "    .dataframe tbody tr th:only-of-type {\n",
       "        vertical-align: middle;\n",
       "    }\n",
       "\n",
       "    .dataframe tbody tr th {\n",
       "        vertical-align: top;\n",
       "    }\n",
       "\n",
       "    .dataframe thead th {\n",
       "        text-align: right;\n",
       "    }\n",
       "</style>\n",
       "<table border=\"1\" class=\"dataframe\">\n",
       "  <thead>\n",
       "    <tr style=\"text-align: right;\">\n",
       "      <th></th>\n",
       "      <th>1</th>\n",
       "      <th>2</th>\n",
       "      <th>3</th>\n",
       "    </tr>\n",
       "  </thead>\n",
       "  <tbody>\n",
       "    <tr>\n",
       "      <th>0</th>\n",
       "      <td>1</td>\n",
       "      <td>0</td>\n",
       "      <td>0</td>\n",
       "    </tr>\n",
       "    <tr>\n",
       "      <th>1</th>\n",
       "      <td>1</td>\n",
       "      <td>0</td>\n",
       "      <td>0</td>\n",
       "    </tr>\n",
       "    <tr>\n",
       "      <th>2</th>\n",
       "      <td>1</td>\n",
       "      <td>0</td>\n",
       "      <td>0</td>\n",
       "    </tr>\n",
       "    <tr>\n",
       "      <th>3</th>\n",
       "      <td>1</td>\n",
       "      <td>0</td>\n",
       "      <td>0</td>\n",
       "    </tr>\n",
       "    <tr>\n",
       "      <th>4</th>\n",
       "      <td>1</td>\n",
       "      <td>0</td>\n",
       "      <td>0</td>\n",
       "    </tr>\n",
       "    <tr>\n",
       "      <th>...</th>\n",
       "      <td>...</td>\n",
       "      <td>...</td>\n",
       "      <td>...</td>\n",
       "    </tr>\n",
       "    <tr>\n",
       "      <th>393</th>\n",
       "      <td>1</td>\n",
       "      <td>0</td>\n",
       "      <td>0</td>\n",
       "    </tr>\n",
       "    <tr>\n",
       "      <th>394</th>\n",
       "      <td>0</td>\n",
       "      <td>1</td>\n",
       "      <td>0</td>\n",
       "    </tr>\n",
       "    <tr>\n",
       "      <th>395</th>\n",
       "      <td>1</td>\n",
       "      <td>0</td>\n",
       "      <td>0</td>\n",
       "    </tr>\n",
       "    <tr>\n",
       "      <th>396</th>\n",
       "      <td>1</td>\n",
       "      <td>0</td>\n",
       "      <td>0</td>\n",
       "    </tr>\n",
       "    <tr>\n",
       "      <th>397</th>\n",
       "      <td>1</td>\n",
       "      <td>0</td>\n",
       "      <td>0</td>\n",
       "    </tr>\n",
       "  </tbody>\n",
       "</table>\n",
       "<p>392 rows × 3 columns</p>\n",
       "</div>"
      ],
      "text/plain": [
       "     1  2  3\n",
       "0    1  0  0\n",
       "1    1  0  0\n",
       "2    1  0  0\n",
       "3    1  0  0\n",
       "4    1  0  0\n",
       "..  .. .. ..\n",
       "393  1  0  0\n",
       "394  0  1  0\n",
       "395  1  0  0\n",
       "396  1  0  0\n",
       "397  1  0  0\n",
       "\n",
       "[392 rows x 3 columns]"
      ]
     },
     "execution_count": 246,
     "metadata": {},
     "output_type": "execute_result"
    }
   ],
   "source": [
    "dummy_origin"
   ]
  },
  {
   "cell_type": "markdown",
   "id": "b578148c",
   "metadata": {},
   "source": [
    "Create a correlation coefficient matrix and/or visualization. Are there features highly correlated with mpg?"
   ]
  },
  {
   "cell_type": "code",
   "execution_count": 247,
   "id": "7d9097ed",
   "metadata": {},
   "outputs": [],
   "source": [
    "# Creates correlation matrix\n",
    "corr_matrix = data.corr()"
   ]
  },
  {
   "cell_type": "code",
   "execution_count": 248,
   "id": "71f992a6",
   "metadata": {},
   "outputs": [],
   "source": [
    "import seaborn as sns"
   ]
  },
  {
   "cell_type": "code",
   "execution_count": 249,
   "id": "1bb36d36",
   "metadata": {
    "scrolled": true
   },
   "outputs": [
    {
     "data": {
      "image/png": "[encoded data removed]",
      "text/plain": [
       "<Figure size 640x480 with 2 Axes>"
      ]
     },
     "metadata": {},
     "output_type": "display_data"
    }
   ],
   "source": [
    "# Diplays correlation matrix\n",
    "cm_plot = sns.heatmap(corr_matrix, annot=True)"
   ]
  },
  {
   "cell_type": "markdown",
   "id": "9c75092e",
   "metadata": {},
   "source": [
    "The image above created from the correlation matrix of the Auto Data, shows us that MPG is highly correlated with the following features: Displacement and Weight. "
   ]
  },
  {
   "cell_type": "markdown",
   "id": "91b570fd",
   "metadata": {},
   "source": [
    "Plot mpg versus weight. Analyze this graph and explain how it relates to the corresponding correlation coefficient."
   ]
  },
  {
   "cell_type": "code",
   "execution_count": 250,
   "id": "bca3f5c2",
   "metadata": {},
   "outputs": [],
   "source": [
    "# Import Necessary Libraries\n",
    "import matplotlib as plot"
   ]
  },
  {
   "cell_type": "code",
   "execution_count": 251,
   "id": "4a4bef08",
   "metadata": {},
   "outputs": [],
   "source": [
    "# Converts weight to numeric to avoid errors\n",
    "data['weight'] = pd.to_numeric(data['weight'], errors='coerce')"
   ]
  },
  {
   "cell_type": "code",
   "execution_count": 252,
   "id": "ab3e2d84",
   "metadata": {},
   "outputs": [
    {
     "data": {
      "text/plain": [
       "<AxesSubplot:xlabel='mpg', ylabel='weight'>"
      ]
     },
     "execution_count": 252,
     "metadata": {},
     "output_type": "execute_result"
    },
    {
     "data": {
      "image/png": "[encoded data removed]",
      "text/plain": [
       "<Figure size 640x480 with 1 Axes>"
      ]
     },
     "metadata": {},
     "output_type": "display_data"
    }
   ],
   "source": [
    "# Creates scatter plot of age versus weight \n",
    "data.plot.scatter(x = 'mpg', y = 'weight')"
   ]
  },
  {
   "cell_type": "markdown",
   "id": "37e61483",
   "metadata": {},
   "source": [
    "MPG versus weight has a correlation coefficient of - 0.83. Since this is so close to - 1, it indicates that there is a negative correlation between the two. As weight goes down, MPG goes up. The scatter plot shows this as the points are in a negative slope as MPG increases"
   ]
  },
  {
   "cell_type": "markdown",
   "id": "0e07ad18",
   "metadata": {},
   "source": [
    "Randomly split the data into 80% training data and 20% test data, where your target is mpg."
   ]
  },
  {
   "cell_type": "code",
   "execution_count": 253,
   "id": "9b825e7a",
   "metadata": {},
   "outputs": [],
   "source": [
    "from sklearn.model_selection import train_test_split"
   ]
  },
  {
   "cell_type": "code",
   "execution_count": 254,
   "id": "9501e003",
   "metadata": {},
   "outputs": [],
   "source": [
    "# Separate the target from the features\n",
    "feature = data.drop('mpg', axis=1)\n",
    "target = data['mpg']\n",
    "\n",
    "#Split the data into 80% training and 20% test\n",
    "feature_train, feature_test, target_train, target_test = train_test_split(feature, target, test_size=0.2, random_state=42)"
   ]
  },
  {
   "cell_type": "markdown",
   "id": "f20e4c24",
   "metadata": {},
   "source": [
    "Train an ordinary linear regression on the training data."
   ]
  },
  {
   "cell_type": "code",
   "execution_count": 255,
   "id": "19756e3f",
   "metadata": {},
   "outputs": [],
   "source": [
    "# Import necessary Libraries\n",
    "from sklearn.linear_model import LinearRegression"
   ]
  },
  {
   "cell_type": "code",
   "execution_count": 256,
   "id": "637ddb4e",
   "metadata": {},
   "outputs": [],
   "source": [
    "# Create Linear Regression Model\n",
    "regression = LinearRegression()"
   ]
  },
  {
   "cell_type": "code",
   "execution_count": 257,
   "id": "74d53b01",
   "metadata": {},
   "outputs": [],
   "source": [
    "# Drops any NaN to avoid errors\n",
    "data = data.dropna(axis= 0, how='any')"
   ]
  },
  {
   "cell_type": "code",
   "execution_count": 258,
   "id": "9056e5de",
   "metadata": {},
   "outputs": [],
   "source": [
    "# Creates model\n",
    "model = regression.fit(feature_train, target_train)"
   ]
  },
  {
   "cell_type": "markdown",
   "id": "3856535e",
   "metadata": {},
   "source": [
    "Calculate R2, RMSE, and MAE on both the training and test sets and interpret your results."
   ]
  },
  {
   "cell_type": "code",
   "execution_count": 259,
   "id": "2a971c34",
   "metadata": {},
   "outputs": [
    {
     "data": {
      "text/plain": [
       "0.826001578671067"
      ]
     },
     "execution_count": 259,
     "metadata": {},
     "output_type": "execute_result"
    }
   ],
   "source": [
    "# R2 for train data \n",
    "regression.score(feature_train, target_train)"
   ]
  },
  {
   "cell_type": "code",
   "execution_count": 260,
   "id": "9f023b7e",
   "metadata": {},
   "outputs": [
    {
     "data": {
      "text/plain": [
       "0.7901500386760352"
      ]
     },
     "execution_count": 260,
     "metadata": {},
     "output_type": "execute_result"
    }
   ],
   "source": [
    "# R2 for test data\n",
    "# R2 for train data \n",
    "regression.score(feature_test, target_test)"
   ]
  },
  {
   "cell_type": "code",
   "execution_count": 261,
   "id": "97cfa5b1",
   "metadata": {},
   "outputs": [],
   "source": [
    "# Import necessary libraries\n",
    "from sklearn.metrics import mean_squared_error"
   ]
  },
  {
   "cell_type": "code",
   "execution_count": 262,
   "id": "936fa355",
   "metadata": {},
   "outputs": [
    {
     "data": {
      "text/plain": [
       "LinearRegression()"
      ]
     },
     "execution_count": 262,
     "metadata": {},
     "output_type": "execute_result"
    }
   ],
   "source": [
    "model.fit(feature_test,target_test)"
   ]
  },
  {
   "cell_type": "code",
   "execution_count": 263,
   "id": "312011c8",
   "metadata": {},
   "outputs": [],
   "source": [
    "# Creates preditions of test features\n",
    "y_pred_test = model.predict(feature_test)"
   ]
  },
  {
   "cell_type": "code",
   "execution_count": 264,
   "id": "89abde47",
   "metadata": {},
   "outputs": [
    {
     "data": {
      "text/plain": [
       "2.9816057261316895"
      ]
     },
     "execution_count": 264,
     "metadata": {},
     "output_type": "execute_result"
    }
   ],
   "source": [
    "# RMSE of test\n",
    "rmse_test = mean_squared_error(target_test, y_pred_test)**0.5\n",
    "rmse_test"
   ]
  },
  {
   "cell_type": "code",
   "execution_count": 265,
   "id": "f7dfc37d",
   "metadata": {},
   "outputs": [
    {
     "data": {
      "text/plain": [
       "LinearRegression()"
      ]
     },
     "execution_count": 265,
     "metadata": {},
     "output_type": "execute_result"
    }
   ],
   "source": [
    "model.fit(feature_train,target_train)"
   ]
  },
  {
   "cell_type": "code",
   "execution_count": 266,
   "id": "08e0e560",
   "metadata": {},
   "outputs": [],
   "source": [
    "# Creates predictions of training features\n",
    "y_pred_train = model.predict(feature_train)"
   ]
  },
  {
   "cell_type": "code",
   "execution_count": 267,
   "id": "3d1358a6",
   "metadata": {},
   "outputs": [
    {
     "data": {
      "text/plain": [
       "3.3134960151437447"
      ]
     },
     "execution_count": 267,
     "metadata": {},
     "output_type": "execute_result"
    }
   ],
   "source": [
    "# RSEM of train\n",
    "rmse_train = mean_squared_error(target_train, y_pred_train)**0.5\n",
    "rmse_train"
   ]
  },
  {
   "cell_type": "code",
   "execution_count": 268,
   "id": "3e40c62b",
   "metadata": {},
   "outputs": [],
   "source": [
    "# Import necessary Libraries\n",
    "from sklearn.metrics import mean_absolute_error as mae"
   ]
  },
  {
   "cell_type": "code",
   "execution_count": 269,
   "id": "eb80fe37",
   "metadata": {},
   "outputs": [
    {
     "name": "stdout",
     "output_type": "stream",
     "text": [
      "MAE Test: 2.1864311671060714\n"
     ]
    }
   ],
   "source": [
    "# MAE of Test\n",
    "print(\"MAE Test:\", mae(target_test,y_pred_test))"
   ]
  },
  {
   "cell_type": "code",
   "execution_count": 270,
   "id": "19e0e8e3",
   "metadata": {},
   "outputs": [
    {
     "name": "stdout",
     "output_type": "stream",
     "text": [
      "MAE Train: 2.548168196215135\n"
     ]
    }
   ],
   "source": [
    "# MAE of Train\n",
    "print(\"MAE Train:\", mae(target_train,y_pred_train))"
   ]
  },
  {
   "cell_type": "markdown",
   "id": "8606b9b6",
   "metadata": {},
   "source": [
    "Pick another regression model and repeat the previous two steps. Note: Do NOT choose logistic regression as it is more like a classification model."
   ]
  },
  {
   "cell_type": "code",
   "execution_count": 271,
   "id": "48fb05e8",
   "metadata": {},
   "outputs": [],
   "source": [
    "# Import necessary Libraries\n",
    "from sklearn.linear_model import Ridge"
   ]
  },
  {
   "cell_type": "code",
   "execution_count": 272,
   "id": "b1ff1537",
   "metadata": {},
   "outputs": [
    {
     "data": {
      "text/plain": [
       "Ridge(alpha=10)"
      ]
     },
     "execution_count": 272,
     "metadata": {},
     "output_type": "execute_result"
    }
   ],
   "source": [
    "# Create Ridge Regression\n",
    "ridgeReg = Ridge(alpha=10)\n",
    "\n",
    "ridgeReg.fit(feature_train,target_train)"
   ]
  },
  {
   "cell_type": "code",
   "execution_count": 273,
   "id": "550a6eef",
   "metadata": {},
   "outputs": [],
   "source": [
    "# Runs ridge regression \n",
    "train_score_ridge = ridgeReg.score(feature_train, target_train)\n",
    "test_score_ridge = ridgeReg.score(feature_test, target_test)"
   ]
  },
  {
   "cell_type": "code",
   "execution_count": 274,
   "id": "947d93f5",
   "metadata": {},
   "outputs": [
    {
     "name": "stdout",
     "output_type": "stream",
     "text": [
      "The train score for ridge model is 0.8258936780257804\n",
      "The test score for ridge model is 0.7915211170468783\n"
     ]
    }
   ],
   "source": [
    "print(\"The train score for ridge model is {}\".format(train_score_ridge))\n",
    "\n",
    "print(\"The test score for ridge model is {}\".format(test_score_ridge))"
   ]
  }
 ],
 "metadata": {
  "kernelspec": {
   "display_name": "Python 3 (ipykernel)",
   "language": "python",
   "name": "python3"
  },
  "language_info": {
   "codemirror_mode": {
    "name": "ipython",
    "version": 3
   },
   "file_extension": ".py",
   "mimetype": "text/x-python",
   "name": "python",
   "nbconvert_exporter": "python",
   "pygments_lexer": "ipython3",
   "version": "3.9.13"
  }
 },
 "nbformat": 4,
 "nbformat_minor": 5
}
