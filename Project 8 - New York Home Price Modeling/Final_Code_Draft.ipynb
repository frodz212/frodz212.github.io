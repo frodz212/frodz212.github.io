{
 "cells": [
  {
   "cell_type": "code",
   "execution_count": 14,
   "id": "598300c4",
   "metadata": {
    "hideCode": false,
    "hidePrompt": false,
    "hide_input": false
   },
   "outputs": [
    {
     "name": "stdout",
     "output_type": "stream",
     "text": [
      "Predicted price for a house with 1800 sq. ft: 460000.0\n"
     ]
    }
   ],
   "source": [
    "import numpy as np\n",
    "from sklearn.linear_model import LinearRegression\n",
    "\n",
    "# Sample data: house square footage and corresponding prices\n",
    "square_footage = np.array([1000, 1500, 2000, 2500, 3000]).reshape(-1, 1)\n",
    "prices = np.array([300000, 400000, 500000, 600000, 700000])\n",
    "\n",
    "# Create and fit the linear regression model\n",
    "model = LinearRegression()\n",
    "model.fit(square_footage, prices)\n",
    "\n",
    "# Predict the price for a house with 1800 square footage\n",
    "predicted_price = model.predict([[1800]])\n",
    "print(\"Predicted price for a house with 1800 sq. ft:\", predicted_price[0])\n"
   ]
  },
  {
   "cell_type": "code",
   "execution_count": 9,
   "id": "8f413ac6",
   "metadata": {
    "hideCode": false,
    "hidePrompt": false
   },
   "outputs": [
    {
     "name": "stdout",
     "output_type": "stream",
     "text": [
      "Predicted price for a house with zip code 30001: 500000.00000000006\n"
     ]
    }
   ],
   "source": [
    "import numpy as np\n",
    "from sklearn.linear_model import LinearRegression\n",
    "from sklearn.preprocessing import OneHotEncoder\n",
    "\n",
    "# Sample data: house zip codes and corresponding prices\n",
    "zip_codes = np.array([10001, 20001, 30001, 10001, 20001]).reshape(-1, 1)\n",
    "prices = np.array([300000, 400000, 500000, 600000, 700000])\n",
    "\n",
    "# One-hot encode the zip codes\n",
    "encoder = OneHotEncoder()\n",
    "zip_codes_encoded = encoder.fit_transform(zip_codes).toarray()\n",
    "\n",
    "# Create and fit the linear regression model\n",
    "model = LinearRegression()\n",
    "model.fit(zip_codes_encoded, prices)\n",
    "\n",
    "# Predict the price for a house with zip code 30001\n",
    "predicted_price = model.predict(encoder.transform([[30001]]))\n",
    "print(\"Predicted price for a house with zip code 30001:\", predicted_price[0])"
   ]
  },
  {
   "cell_type": "code",
   "execution_count": 11,
   "id": "b87e3edb",
   "metadata": {
    "hideCode": false,
    "hidePrompt": false
   },
   "outputs": [
    {
     "name": "stdout",
     "output_type": "stream",
     "text": [
      "Predicted price for a house with zip code 20001: 550000.0\n"
     ]
    }
   ],
   "source": [
    "new_zip_code = np.array([20001]).reshape(-1, 1)\n",
    "new_zip_code_encoded = encoder.transform(new_zip_code).toarray()\n",
    "\n",
    "# Predict the price for the new house\n",
    "predicted_price_new = model.predict(new_zip_code_encoded)\n",
    "print(\"Predicted price for a house with zip code 20001:\", predicted_price_new[0])"
   ]
  },
  {
   "cell_type": "code",
   "execution_count": 12,
   "id": "dc6e4890",
   "metadata": {
    "hideCode": false,
    "hidePrompt": false
   },
   "outputs": [
    {
     "name": "stdout",
     "output_type": "stream",
     "text": [
      "Correlation between zip codes and house prices: 0.18898223650461363\n",
      "Correlation between predicted prices and actual prices: 0.31622776601683794\n"
     ]
    }
   ],
   "source": [
    "zip_code_corr = np.corrcoef(zip_codes.flatten(), prices)[0, 1]\n",
    "print(\"Correlation between zip codes and house prices:\", zip_code_corr)\n",
    "\n",
    "# Calculate correlation between predicted prices and actual prices\n",
    "predicted_prices = model.predict(zip_codes_encoded)\n",
    "price_corr = np.corrcoef(predicted_prices, prices)[0, 1]\n",
    "print(\"Correlation between predicted prices and actual prices:\", price_corr)"
   ]
  },
  {
   "cell_type": "code",
   "execution_count": 15,
   "id": "9d214cd6",
   "metadata": {
    "hideCode": false,
    "hidePrompt": false
   },
   "outputs": [
    {
     "name": "stdout",
     "output_type": "stream",
     "text": [
      "Correlation between square footage and house prices: 1.0\n",
      "Correlation between predicted prices (based on square footage) and actual prices: 1.0\n"
     ]
    }
   ],
   "source": [
    "# Calculate correlation between square footage and house prices\n",
    "square_footage_corr = np.corrcoef(square_footage.flatten(), prices)[0, 1]\n",
    "print(\"Correlation between square footage and house prices:\", square_footage_corr)\n",
    "\n",
    "# Calculate correlation between predicted prices and actual prices using square footage\n",
    "predicted_prices_sqft = model.predict(square_footage)\n",
    "price_corr_sqft = np.corrcoef(predicted_prices_sqft, prices)[0, 1]\n",
    "print(\"Correlation between predicted prices (based on square footage) and actual prices:\", price_corr_sqft)"
   ]
  },
  {
   "cell_type": "markdown",
   "id": "227afb8f",
   "metadata": {
    "hideCode": false,
    "hidePrompt": false
   },
   "source": [
    "Business Problem\n",
    "\n",
    "Background/History\n",
    "\n",
    "Data Explanation (Data Prep/Data Dictionary/etc)\n",
    "\n",
    "Methods\n",
    "\n",
    "Analysis\n",
    "\n",
    "Conclusion\n",
    "\n",
    "Assumptions\n",
    "\n",
    "Limitations\n",
    "\n",
    "Challenges\n",
    "\n",
    "Future Uses/Additional Applications\n",
    "\n",
    "Recommendations\n",
    "\n",
    "Implementation Plan\n",
    "\n",
    "Ethical Assessment"
   ]
  },
  {
   "cell_type": "markdown",
   "id": "d6dce358",
   "metadata": {
    "hideCode": false,
    "hidePrompt": false
   },
   "source": [
    "# Real Estate Pricing Analysis"
   ]
  },
  {
   "cell_type": "markdown",
   "id": "6a494a0a",
   "metadata": {
    "hideCode": false,
    "hidePrompt": false
   },
   "source": [
    "## Business Problem"
   ]
  },
  {
   "cell_type": "markdown",
   "id": "1aea9987",
   "metadata": {
    "hideCode": false,
    "hidePrompt": false
   },
   "source": [
    "A real estate agency wants to understand their real estate listings countrywide. Additionally, the company wants to build a model to accurately predict prices based on zip code and size, specifically for the state of New York.  The data provided contains historical listing information that will aid in the analysis and modeling. The model and predictions will be used to provide more accurate pricing recommendations to clients. "
   ]
  },
  {
   "cell_type": "markdown",
   "id": "5d0b7e52",
   "metadata": {
    "hideCode": false,
    "hidePrompt": false
   },
   "source": [
    "## Background/History"
   ]
  },
  {
   "cell_type": "markdown",
   "id": "565e05df",
   "metadata": {
    "hideCode": false,
    "hidePrompt": false
   },
   "source": []
  },
  {
   "cell_type": "markdown",
   "id": "612cb1f6",
   "metadata": {
    "hideCode": false,
    "hidePrompt": false
   },
   "source": [
    "## Data Explanation"
   ]
  },
  {
   "cell_type": "markdown",
   "id": "dea2566d",
   "metadata": {
    "hideCode": false,
    "hidePrompt": false
   },
   "source": [
    "The data is being obtained from Kaggle and is sourced from Realtor.com. The data contains housing data. "
   ]
  },
  {
   "cell_type": "code",
   "execution_count": 1,
   "id": "3d90e78f",
   "metadata": {
    "hideCode": false,
    "hidePrompt": false
   },
   "outputs": [],
   "source": [
    "import pandas as pd\n",
    "df = pd.read_csv(\"realtor-data.csv\")"
   ]
  },
  {
   "cell_type": "code",
   "execution_count": 12,
   "id": "b15a794d",
   "metadata": {},
   "outputs": [],
   "source": [
    "import matplotlib.pyplot as plt"
   ]
  },
  {
   "cell_type": "markdown",
   "id": "06f45faa",
   "metadata": {
    "hideCode": false
   },
   "source": [
    "#### Data Dictionary"
   ]
  },
  {
   "cell_type": "code",
   "execution_count": 54,
   "id": "492da2ce",
   "metadata": {
    "hideCode": true,
    "hideOutput": false,
    "hidePrompt": true,
    "hide_input": true
   },
   "outputs": [
    {
     "name": "stdout",
     "output_type": "stream",
     "text": [
      "Data Dictionary\n",
      "\n",
      "| column         | description                                                              | data_type   |\n",
      "|:---------------|:-------------------------------------------------------------------------|:------------|\n",
      "| status         | Current standing of the home (for sale or ready to build)                | object      |\n",
      "| bed            | Number of beds in the home                                               | float64     |\n",
      "| bath           | Number of baths in the home                                              | float64     |\n",
      "| acre_lot       | Size of the lot                                                          | float64     |\n",
      "| city           | City where the home is located                                           | object      |\n",
      "| state          | State where the home is located                                          | object      |\n",
      "| zip_code       | Zip code of the home                                                     | float64     |\n",
      "| house_size     | Square fottage of the home                                               | float64     |\n",
      "| prev_sold_date | Date when the home was previously sold                                   | object      |\n",
      "| price          | Current sale price or previously sold price if the house is not for sale | float64     |\n"
     ]
    }
   ],
   "source": [
    "description = {\n",
    "    'status': 'Current standing of the home (for sale or ready to build)',\n",
    "    'bed': 'Number of beds in the home',\n",
    "    'bath': 'Number of baths in the home',\n",
    "    'acre_lot': 'Size of the lot',\n",
    "    'city': 'City where the home is located',\n",
    "    'state': 'State where the home is located',\n",
    "    'zip_code': 'Zip code of the home',\n",
    "    'house_size': 'Square fottage of the home',\n",
    "    'prev_sold_date': 'Date when the home was previously sold',\n",
    "    'price': 'Current sale price or previously sold price if the house is not for sale'\n",
    "              }\n",
    "    # Initialize an empty dictionary to store data types\n",
    "dtype_dict = {}\n",
    "\n",
    "    # Iterate through each column and store its data type in the dictionary\n",
    "for col in df.columns:\n",
    "    dtype_dict[col] = str(df[col].dtype)\n",
    "\n",
    "series1 = pd.Series(description, name='description')\n",
    "series1 = series1.rename_axis('column')\n",
    "series2 = pd.Series(dtype_dict, name='data_type')\n",
    "series2 = series2.rename_axis('column')\n",
    "\n",
    "\n",
    "\n",
    "    # Combining the Series into a DataFrame using pd.merge()\n",
    "data_dictionary = pd.merge(series1, series2, left_index=True, right_index=True)\n",
    "print('Data Dictionary\\n')\n",
    "print(data_dictionary.to_markdown())\n"
   ]
  },
  {
   "cell_type": "code",
   "execution_count": 49,
   "id": "79a4cf0c",
   "metadata": {
    "scrolled": true
   },
   "outputs": [
    {
     "name": "stdout",
     "output_type": "stream",
     "text": [
      "Number of unique states: 25\n",
      "Puerto Rico\n",
      "Virgin Islands\n",
      "Massachusetts\n",
      "Connecticut\n",
      "New Hampshire\n",
      "Vermont\n",
      "New Jersey\n",
      "New York\n",
      "South Carolina\n",
      "Tennessee\n",
      "Rhode Island\n",
      "Virginia\n",
      "Wyoming\n",
      "Maine\n",
      "Georgia\n",
      "Pennsylvania\n",
      "West Virginia\n",
      "Delaware\n",
      "Louisiana\n",
      "Ohio\n",
      "California\n",
      "Colorado\n",
      "Maryland\n",
      "Missouri\n",
      "District of Columbia\n"
     ]
    }
   ],
   "source": [
    "unique_states_count = df['state'].nunique()\n",
    "\n",
    "print(\"Number of unique states:\", unique_states_count)\n",
    "\n",
    "unique_states = df['state'].unique()\n",
    "\n",
    "for state in unique_states:\n",
    "    print(state)"
   ]
  },
  {
   "cell_type": "code",
   "execution_count": 3,
   "id": "e505e32f",
   "metadata": {},
   "outputs": [],
   "source": [
    "df_cleaned = df.dropna()"
   ]
  },
  {
   "cell_type": "code",
   "execution_count": 4,
   "id": "b0f33756",
   "metadata": {},
   "outputs": [],
   "source": [
    "df_filtered = df[~df['state'].isin(['Puerto Rico', 'Virgin Islands'])]"
   ]
  },
  {
   "cell_type": "code",
   "execution_count": 5,
   "id": "9941e9e1",
   "metadata": {},
   "outputs": [],
   "source": [
    "df_filtered = df_filtered.dropna()"
   ]
  },
  {
   "cell_type": "code",
   "execution_count": 6,
   "id": "980a43de",
   "metadata": {},
   "outputs": [],
   "source": [
    "df_filtered['zip_code'] = df_filtered['zip_code'].astype(int).astype(str)"
   ]
  },
  {
   "cell_type": "code",
   "execution_count": 88,
   "id": "3b8008eb",
   "metadata": {
    "hideCode": false,
    "hidePrompt": false,
    "scrolled": false
   },
   "outputs": [
    {
     "data": {
      "text/html": [
       "<div>\n",
       "<style scoped>\n",
       "    .dataframe tbody tr th:only-of-type {\n",
       "        vertical-align: middle;\n",
       "    }\n",
       "\n",
       "    .dataframe tbody tr th {\n",
       "        vertical-align: top;\n",
       "    }\n",
       "\n",
       "    .dataframe thead th {\n",
       "        text-align: right;\n",
       "    }\n",
       "</style>\n",
       "<table border=\"1\" class=\"dataframe\">\n",
       "  <thead>\n",
       "    <tr style=\"text-align: right;\">\n",
       "      <th></th>\n",
       "      <th>status</th>\n",
       "      <th>bed</th>\n",
       "      <th>bath</th>\n",
       "      <th>acre_lot</th>\n",
       "      <th>city</th>\n",
       "      <th>state</th>\n",
       "      <th>zip_code</th>\n",
       "      <th>house_size</th>\n",
       "      <th>prev_sold_date</th>\n",
       "      <th>price</th>\n",
       "    </tr>\n",
       "  </thead>\n",
       "  <tbody>\n",
       "    <tr>\n",
       "      <th>2701660</th>\n",
       "      <td>for_sale</td>\n",
       "      <td>3.0</td>\n",
       "      <td>3.0</td>\n",
       "      <td>0.40</td>\n",
       "      <td>Fredericksburg</td>\n",
       "      <td>Virginia</td>\n",
       "      <td>22405</td>\n",
       "      <td>2316.0</td>\n",
       "      <td>1999-06-01</td>\n",
       "      <td>439900.0</td>\n",
       "    </tr>\n",
       "    <tr>\n",
       "      <th>2701661</th>\n",
       "      <td>for_sale</td>\n",
       "      <td>4.0</td>\n",
       "      <td>3.0</td>\n",
       "      <td>0.06</td>\n",
       "      <td>Fredericksburg</td>\n",
       "      <td>Virginia</td>\n",
       "      <td>22407</td>\n",
       "      <td>2080.0</td>\n",
       "      <td>2004-04-22</td>\n",
       "      <td>319900.0</td>\n",
       "    </tr>\n",
       "    <tr>\n",
       "      <th>2701663</th>\n",
       "      <td>for_sale</td>\n",
       "      <td>3.0</td>\n",
       "      <td>3.0</td>\n",
       "      <td>0.50</td>\n",
       "      <td>Stafford</td>\n",
       "      <td>Virginia</td>\n",
       "      <td>22556</td>\n",
       "      <td>1747.0</td>\n",
       "      <td>2002-04-17</td>\n",
       "      <td>430000.0</td>\n",
       "    </tr>\n",
       "    <tr>\n",
       "      <th>2701664</th>\n",
       "      <td>for_sale</td>\n",
       "      <td>5.0</td>\n",
       "      <td>5.0</td>\n",
       "      <td>0.16</td>\n",
       "      <td>Stafford</td>\n",
       "      <td>Virginia</td>\n",
       "      <td>22554</td>\n",
       "      <td>4549.0</td>\n",
       "      <td>2017-01-30</td>\n",
       "      <td>744900.0</td>\n",
       "    </tr>\n",
       "    <tr>\n",
       "      <th>2701665</th>\n",
       "      <td>for_sale</td>\n",
       "      <td>4.0</td>\n",
       "      <td>3.0</td>\n",
       "      <td>0.27</td>\n",
       "      <td>Fredericksburg</td>\n",
       "      <td>Virginia</td>\n",
       "      <td>22407</td>\n",
       "      <td>2192.0</td>\n",
       "      <td>2020-04-28</td>\n",
       "      <td>425000.0</td>\n",
       "    </tr>\n",
       "  </tbody>\n",
       "</table>\n",
       "</div>"
      ],
      "text/plain": [
       "           status  bed  bath  acre_lot            city     state zip_code  \\\n",
       "2701660  for_sale  3.0   3.0      0.40  Fredericksburg  Virginia    22405   \n",
       "2701661  for_sale  4.0   3.0      0.06  Fredericksburg  Virginia    22407   \n",
       "2701663  for_sale  3.0   3.0      0.50        Stafford  Virginia    22556   \n",
       "2701664  for_sale  5.0   5.0      0.16        Stafford  Virginia    22554   \n",
       "2701665  for_sale  4.0   3.0      0.27  Fredericksburg  Virginia    22407   \n",
       "\n",
       "         house_size prev_sold_date     price  \n",
       "2701660      2316.0     1999-06-01  439900.0  \n",
       "2701661      2080.0     2004-04-22  319900.0  \n",
       "2701663      1747.0     2002-04-17  430000.0  \n",
       "2701664      4549.0     2017-01-30  744900.0  \n",
       "2701665      2192.0     2020-04-28  425000.0  "
      ]
     },
     "execution_count": 88,
     "metadata": {},
     "output_type": "execute_result"
    }
   ],
   "source": [
    "df_filtered.tail()"
   ]
  },
  {
   "cell_type": "code",
   "execution_count": 66,
   "id": "0e5c4c0b",
   "metadata": {},
   "outputs": [],
   "source": [
    "import matplotlib.pyplot as plt"
   ]
  },
  {
   "cell_type": "code",
   "execution_count": 4,
   "id": "34fde37c",
   "metadata": {},
   "outputs": [],
   "source": [
    "state_set = df[['state', 'price']]"
   ]
  },
  {
   "cell_type": "code",
   "execution_count": 10,
   "id": "40f3eee5",
   "metadata": {},
   "outputs": [],
   "source": [
    "state_agg = state_set.groupby('state')['price'].sum().rename('total price')"
   ]
  },
  {
   "cell_type": "code",
   "execution_count": null,
   "id": "2d3ae1a0",
   "metadata": {
    "hideCode": false,
    "hidePrompt": false
   },
   "outputs": [],
   "source": [
    "state_agg.plot(kind='bar', x = 'state', y = 'total price')\n",
    "plt.title('Total Price by State')\n",
    "plt.show()"
   ]
  },
  {
   "cell_type": "code",
   "execution_count": 29,
   "id": "1d2a892f",
   "metadata": {},
   "outputs": [],
   "source": [
    "subset_ny = df_filtered[df_filtered['state'] == 'New York']"
   ]
  },
  {
   "cell_type": "code",
   "execution_count": 15,
   "id": "df26c18d",
   "metadata": {},
   "outputs": [
    {
     "data": {
      "text/html": [
       "<div>\n",
       "<style scoped>\n",
       "    .dataframe tbody tr th:only-of-type {\n",
       "        vertical-align: middle;\n",
       "    }\n",
       "\n",
       "    .dataframe tbody tr th {\n",
       "        vertical-align: top;\n",
       "    }\n",
       "\n",
       "    .dataframe thead th {\n",
       "        text-align: right;\n",
       "    }\n",
       "</style>\n",
       "<table border=\"1\" class=\"dataframe\">\n",
       "  <thead>\n",
       "    <tr style=\"text-align: right;\">\n",
       "      <th></th>\n",
       "      <th>zip_code</th>\n",
       "      <th>price</th>\n",
       "    </tr>\n",
       "  </thead>\n",
       "  <tbody>\n",
       "    <tr>\n",
       "      <th>0</th>\n",
       "      <td>10001</td>\n",
       "      <td>213750000.0</td>\n",
       "    </tr>\n",
       "    <tr>\n",
       "      <th>1</th>\n",
       "      <td>10002</td>\n",
       "      <td>689000.0</td>\n",
       "    </tr>\n",
       "    <tr>\n",
       "      <th>2</th>\n",
       "      <td>10003</td>\n",
       "      <td>275915000.0</td>\n",
       "    </tr>\n",
       "    <tr>\n",
       "      <th>3</th>\n",
       "      <td>10004</td>\n",
       "      <td>100000000.0</td>\n",
       "    </tr>\n",
       "    <tr>\n",
       "      <th>4</th>\n",
       "      <td>10005</td>\n",
       "      <td>14795000.0</td>\n",
       "    </tr>\n",
       "    <tr>\n",
       "      <th>...</th>\n",
       "      <td>...</td>\n",
       "      <td>...</td>\n",
       "    </tr>\n",
       "    <tr>\n",
       "      <th>5147</th>\n",
       "      <td>8887</td>\n",
       "      <td>3690000.0</td>\n",
       "    </tr>\n",
       "    <tr>\n",
       "      <th>5148</th>\n",
       "      <td>8889</td>\n",
       "      <td>37190500.0</td>\n",
       "    </tr>\n",
       "    <tr>\n",
       "      <th>5149</th>\n",
       "      <td>8901</td>\n",
       "      <td>116213204.0</td>\n",
       "    </tr>\n",
       "    <tr>\n",
       "      <th>5150</th>\n",
       "      <td>8902</td>\n",
       "      <td>298585465.0</td>\n",
       "    </tr>\n",
       "    <tr>\n",
       "      <th>5151</th>\n",
       "      <td>8904</td>\n",
       "      <td>89126659.0</td>\n",
       "    </tr>\n",
       "  </tbody>\n",
       "</table>\n",
       "<p>5152 rows × 2 columns</p>\n",
       "</div>"
      ],
      "text/plain": [
       "     zip_code        price\n",
       "0       10001  213750000.0\n",
       "1       10002     689000.0\n",
       "2       10003  275915000.0\n",
       "3       10004  100000000.0\n",
       "4       10005   14795000.0\n",
       "...       ...          ...\n",
       "5147     8887    3690000.0\n",
       "5148     8889   37190500.0\n",
       "5149     8901  116213204.0\n",
       "5150     8902  298585465.0\n",
       "5151     8904   89126659.0\n",
       "\n",
       "[5152 rows x 2 columns]"
      ]
     },
     "execution_count": 15,
     "metadata": {},
     "output_type": "execute_result"
    }
   ],
   "source": [
    "ny_summed_prices = df_filtered.groupby('zip_code')['price'].sum().reset_index()\n",
    "\n",
    "ny_summed_prices"
   ]
  },
  {
   "cell_type": "code",
   "execution_count": 34,
   "id": "6c7a8a81",
   "metadata": {},
   "outputs": [],
   "source": [
    "import pgeocode\n",
    "latitude_values = []\n",
    "longitude_values = []\n",
    "nomi = pgeocode.Nominatim('us')\n",
    "for zip_code in ny_summed_prices['zip_code'].tolist():\n",
    "    try:\n",
    "        location = nomi.query_postal_code(zip_code)\n",
    "        latitude = location.latitude\n",
    "        longitude = location.longitude\n",
    "        latitude_values.append(latitude)\n",
    "        longitude_values.append(longitude)\n",
    "    except:\n",
    "        latitude_values.append(None)\n",
    "        longitude_values.append(None)\n",
    "        \n",
    "\n",
    "ny_summed_prices['Latitude'] = latitude_values\n",
    "ny_summed_prices['Longitude'] = longitude_values"
   ]
  },
  {
   "cell_type": "code",
   "execution_count": 56,
   "id": "9fb1f68a",
   "metadata": {
    "hideCode": false
   },
   "outputs": [
    {
     "data": {
      "text/html": [
       "<div style=\"width:100%;\"><div style=\"position:relative;width:100%;height:0;padding-bottom:60%;\"><span style=\"color:#565656\">Make this Notebook Trusted to load map: File -> Trust Notebook</span><iframe srcdoc=\"&lt;!DOCTYPE html&gt;\n",
       "&lt;html&gt;\n",
       "&lt;head&gt;\n",
       "    \n",
       "    &lt;meta http-equiv=&quot;content-type&quot; content=&quot;text/html; charset=UTF-8&quot; /&gt;\n",
       "    \n",
       "        &lt;script&gt;\n",
       "            L_NO_TOUCH = false;\n",
       "            L_DISABLE_3D = false;\n",
       "        &lt;/script&gt;\n",
       "    \n",
       "    &lt;style&gt;html, body {width: 100%;height: 100%;margin: 0;padding: 0;}&lt;/style&gt;\n",
       "    &lt;style&gt;#map {position:absolute;top:0;bottom:0;right:0;left:0;}&lt;/style&gt;\n",
       "    &lt;script src=&quot;https://cdn.jsdelivr.net/npm/leaflet@1.9.3/dist/leaflet.js&quot;&gt;&lt;/script&gt;\n",
       "    &lt;script src=&quot;https://code.jquery.com/jquery-3.7.1.min.js&quot;&gt;&lt;/script&gt;\n",
       "    &lt;script src=&quot;https://cdn.jsdelivr.net/npm/bootstrap@5.2.2/dist/js/bootstrap.bundle.min.js&quot;&gt;&lt;/script&gt;\n",
       "    &lt;script src=&quot;https://cdnjs.cloudflare.com/ajax/libs/Leaflet.awesome-markers/2.0.2/leaflet.awesome-markers.js&quot;&gt;&lt;/script&gt;\n",
       "    &lt;link rel=&quot;stylesheet&quot; href=&quot;https://cdn.jsdelivr.net/npm/leaflet@1.9.3/dist/leaflet.css&quot;/&gt;\n",
       "    &lt;link rel=&quot;stylesheet&quot; href=&quot;https://cdn.jsdelivr.net/npm/bootstrap@5.2.2/dist/css/bootstrap.min.css&quot;/&gt;\n",
       "    &lt;link rel=&quot;stylesheet&quot; href=&quot;https://netdna.bootstrapcdn.com/bootstrap/3.0.0/css/bootstrap.min.css&quot;/&gt;\n",
       "    &lt;link rel=&quot;stylesheet&quot; href=&quot;https://cdn.jsdelivr.net/npm/@fortawesome/fontawesome-free@6.2.0/css/all.min.css&quot;/&gt;\n",
       "    &lt;link rel=&quot;stylesheet&quot; href=&quot;https://cdnjs.cloudflare.com/ajax/libs/Leaflet.awesome-markers/2.0.2/leaflet.awesome-markers.css&quot;/&gt;\n",
       "    &lt;link rel=&quot;stylesheet&quot; href=&quot;https://cdn.jsdelivr.net/gh/python-visualization/folium/folium/templates/leaflet.awesome.rotate.min.css&quot;/&gt;\n",
       "    \n",
       "            &lt;meta name=&quot;viewport&quot; content=&quot;width=device-width,\n",
       "                initial-scale=1.0, maximum-scale=1.0, user-scalable=no&quot; /&gt;\n",
       "            &lt;style&gt;\n",
       "                #map_23590e927cfca30d5637fd0d410b6c7d {\n",
       "                    position: relative;\n",
       "                    width: 100.0%;\n",
       "                    height: 100.0%;\n",
       "                    left: 0.0%;\n",
       "                    top: 0.0%;\n",
       "                }\n",
       "                .leaflet-container { font-size: 1rem; }\n",
       "            &lt;/style&gt;\n",
       "        \n",
       "    &lt;script src=&quot;https://cdn.jsdelivr.net/gh/python-visualization/folium@main/folium/templates/leaflet_heat.min.js&quot;&gt;&lt;/script&gt;\n",
       "&lt;/head&gt;\n",
       "&lt;body&gt;\n",
       "    \n",
       "    \n",
       "            &lt;div class=&quot;folium-map&quot; id=&quot;map_23590e927cfca30d5637fd0d410b6c7d&quot; &gt;&lt;/div&gt;\n",
       "        \n",
       "&lt;/body&gt;\n",
       "&lt;script&gt;\n",
       "    \n",
       "    \n",
       "            var map_23590e927cfca30d5637fd0d410b6c7d = L.map(\n",
       "                &quot;map_23590e927cfca30d5637fd0d410b6c7d&quot;,\n",
       "                {\n",
       "                    center: [40.7128, -74.006],\n",
       "                    crs: L.CRS.EPSG3857,\n",
       "                    zoom: 11,\n",
       "                    zoomControl: true,\n",
       "                    preferCanvas: false,\n",
       "                }\n",
       "            );\n",
       "\n",
       "            \n",
       "\n",
       "        \n",
       "    \n",
       "            var tile_layer_0e95dcc17e417d13fd48f8677c7b8ffc = L.tileLayer(\n",
       "                &quot;https://tile.openstreetmap.org/{z}/{x}/{y}.png&quot;,\n",
       "                {&quot;attribution&quot;: &quot;\\u0026copy; \\u003ca href=\\&quot;https://www.openstreetmap.org/copyright\\&quot;\\u003eOpenStreetMap\\u003c/a\\u003e contributors&quot;, &quot;detectRetina&quot;: false, &quot;maxNativeZoom&quot;: 19, &quot;maxZoom&quot;: 19, &quot;minZoom&quot;: 0, &quot;noWrap&quot;: false, &quot;opacity&quot;: 1, &quot;subdomains&quot;: &quot;abc&quot;, &quot;tms&quot;: false}\n",
       "            );\n",
       "        \n",
       "    \n",
       "            tile_layer_0e95dcc17e417d13fd48f8677c7b8ffc.addTo(map_23590e927cfca30d5637fd0d410b6c7d);\n",
       "        \n",
       "    \n",
       "            var heat_map_e0b720504d65dcefeeb346ddedf9aec0 = L.heatLayer(\n",
       "                [[40.7484, -73.9967, 213750000.0], [40.7152, -73.9877, 689000.0], [40.7313, -73.9892, 275915000.0], [40.7143, -74.006, 100000000.0], [40.7056, -74.0083, 14795000.0], [40.7085, -74.0135, 6850000.0], [40.7139, -74.007, 114493000.0], [40.7262, -73.9796, 9350000.0], [40.7375, -73.9813, 149695000.0], [40.7402, -73.9996, 713697000.0], [40.7255, -73.9983, 144780000.0], [40.7185, -74.0025, 837220000.0], [40.7339, -74.0054, 597710000.0], [40.7443, -73.9781, 1267083000.0], [40.7517, -73.9707, 115028500.0], [40.7651, -73.9858, 99024000.0], [40.7685, -73.9588, 1746640000.0], [40.7571, -73.9657, 462103990.0], [40.7764, -73.9827, 655314000.0], [40.7864, -73.9764, 461275000.0], [40.7975, -73.9683, 123904000.0], [40.8019, -73.9531, 2549000.0], [40.8116, -73.955, 215285000.0], [40.7763, -73.9529, 1740135000.0], [40.7918, -73.9447, 699000.0], [40.8183, -73.9426, 28899500.0], [40.8246, -73.9507, 153095000.0], [40.8382, -73.942, 10989000.0], [40.8496, -73.9356, 38464000.0], [40.8011, -73.9371, 14000000.0], [40.7597, -73.9918, 61250000.0], [40.7101, -74.0013, 13947000.0], [40.8265, -73.9383, 12101000.0], [40.8583, -73.9296, 2675000.0], [40.7618, -73.9505, 1050000.0], [40.7651, -73.9638, 987386000.0], [40.778, -73.9884, 89613000.0], [40.7143, -74.006, 601667000.0], [40.7816, -73.9511, 115763000.0], [40.7105, -74.0163, 224798000.0], [40.6316, -74.0927, 519076595.0], [40.6306, -74.1379, 159458217.0], [40.6301, -74.1607, 211679292.0], [40.6102, -74.0878, 401660925.0], [40.5973, -74.0768, 433338866.0], [40.5682, -74.1184, 373701663.0], [40.5085, -74.2445, 228833474.0], [40.5518, -74.1526, 240577636.0], [40.5352, -74.2116, 343073878.0], [40.6324, -74.1171, 273386741.0], [40.5457, -74.1792, 492602629.0], [40.6039, -74.1472, 485851129.0], [40.8222, -73.9217, 59300980.0], [40.8376, -73.9216, 58940971.0], [40.852, -73.9129, 26564000.0], [40.8085, -73.9198, 29563000.0], [40.8153, -73.9072, 27964000.0], [40.8316, -73.9099, 229782173.0], [40.8486, -73.8999, 204624835.0], [40.8633, -73.8895, 114637000.0], [40.8247, -73.894, 255581960.0], [40.8409, -73.8794, 112397084.0], [40.8465, -73.841, 410066911.0], [40.8434, -73.8602, 336988986.0], [40.8798, -73.9067, 176968688.0], [40.8469, -73.7874, 104555014.0], [40.8261, -73.8196, 736450502.0], [40.8904, -73.8503, 418269224.0], [40.8737, -73.8712, 273053851.0], [40.8662, -73.9003, 79641000.0], [40.8702, -73.8495, 586789466.0], [40.9, -73.8622, 106809000.0], [40.9011, -73.9053, 547951872.0], [40.8295, -73.8716, 158225200.0], [40.8194, -73.8606, 424444102.0], [40.8139, -73.8841, 74848974.0], [40.8729, -73.8278, 105624000.0], [41.2946, -73.7611, 43987000.0], [41.0113, -73.8413, 66820000.0], [41.136, -73.7009, 1083376874.0], [41.1909, -73.6355, 61447000.0], [41.2344, -73.6915, 303320000.0], [41.4097, -73.5992, 300666976.0], [41.1444, -73.835, 466274372.0], [41.2583, -73.9412, 13167000.0], [41.4432, -73.6815, 279840471.0], [41.1705, -73.7715, 508495900.0], [41.4414, -73.9335, 359370375.0], [41.2722, -73.602, 950000.0], [41.3477, -73.661, 9101000.0], [41.218, -73.8924, 506659224.0], [41.0118, -73.8665, 81494700.0], [41.0572, -73.8136, 128670980.0], [41.3621, -73.92, 670922000.0], [41.3004, -73.6479, 12527982.0], [41.3098, -73.753, 27974000.0], [40.9719, -73.7181, 367970000.0], [41.0197, -73.8074, 103712297.0], [41.1073, -73.796, 55761300.0], [41.0381, -73.8597, 177667000.0], [41.3385, -73.7947, 44253000.0], [41.2709, -73.6841, 360150900.0], [41.3374, -73.8838, 71307972.0], [40.9351, -73.7571, 515274968.0], [41.3717, -73.7508, 490822458.0], [40.9525, -73.735, 381814685.0], [41.3143, -73.8508, 51314666.0], [41.2496, -73.9446, 31930000.0], [41.205, -73.7299, 718523476.0], [40.9079, -73.838, 235313379.0], [40.9231, -73.8299, 197151686.0], [40.9086, -73.8221, 60476040.0], [41.3414, -73.5929, 202108500.0], [41.1673, -73.8538, 383940927.0], [41.2892, -73.9184, 189911600.0], [41.284, -73.8931, 507162938.0], [41.135, -73.7845, 197055000.0], [41.0222, -73.6798, 217480387.0], [41.2042, -73.5732, 149815550.0], [41.0384, -73.7156, 317202000.0], [41.3259, -73.6551, 11998000.0], [41.3728, -73.8502, 304148073.0], [40.9734, -73.6907, 675055996.0], [40.9927, -73.7995, 2313538799.0], [41.3286, -73.8273, 26500000.0], [41.3346, -73.6951, 204998000.0], [41.2553, -73.5402, 11595000.0], [41.0897, -73.844, 99459000.0], [41.1182, -73.7733, 165590000.0], [41.0856, -73.7776, 133510500.0], [41.2548, -73.9587, 40761400.0], [41.3032, -73.6032, 154800000.0], [41.2999, -73.7924, 333034955.0], [41.033, -73.7652, 31856284.0], [41.0499, -73.7776, 72173550.0], [41.0592, -73.7395, 292997000.0], [41.0141, -73.7552, 73472000.0], [41.0247, -73.7781, 87958000.0], [41.0398, -73.8117, 132312278.0], [40.9461, -73.8669, 178267040.0], [40.9518, -73.8852, 248563187.0], [40.9176, -73.8593, 110024679.0], [40.9177, -73.895, 122003000.0], [40.9878, -73.863, 96511000.0], [40.9569, -73.8198, 115827391.0], [40.9391, -73.8353, 706330000.0], [40.955, -73.8086, 152865000.0], [40.9656, -73.8434, 210766047.0], [40.9166, -73.7877, 187782280.0], [40.9045, -73.8073, 117914549.0], [40.9491, -73.7863, 242438984.0], [40.9002, -73.781, 108045989.0], [41.1177, -74.1241, 463341189.0], [41.0626, -73.9629, 52179000.0], [41.4093, -74.1951, 18585000.0], [41.443, -74.2505, 155973300.0], [41.3268, -74.122, 31499980.0], [41.3554, -74.2651, 172011985.0], [41.5244, -74.385, 3058200.0], [41.1487, -73.9413, 45775000.0], [41.3295, -74.3528, 27137300.0], [41.2021, -74.0005, 111331968.0], [41.3946, -74.3302, 236895200.0], [41.2101, -74.3033, 59669200.0], [41.3005, -74.1249, 17738974.0], [41.1971, -73.969, 109734978.0], [41.3582, -73.9746, 33511000.0], [41.3536, -74.1197, 347483688.0], [41.4512, -74.4701, 321812681.0], [41.4886, -74.345, 124955600.0], [41.3286, -74.1885, 703389453.0], [41.1163, -74.0736, 326904600.0], [41.4009, -74.0785, 15525000.0], [41.0977, -74.0109, 338274435.0], [41.1472, -73.9962, 407633000.0], [41.3627, -74.4435, 18865000.0], [41.0914, -73.9252, 767732500.0], [41.0442, -73.9609, 20437479.0], [41.4818, -74.5294, 27338500.0], [41.0103, -73.925, 156635400.0], [41.0629, -74.0159, 211967983.0], [41.0395, -73.9192, 271490973.0], [41.2926, -74.4888, 9939000.0], [41.1901, -74.0436, 86213300.0], [41.376, -74.4847, 28421100.0], [41.1575, -74.2008, 57572400.0], [41.248, -74.1762, 14361200.0], [41.0256, -73.9229, 6006000.0], [41.1158, -74.0474, 329036900.0], [41.2292, -73.9962, 302928971.0], [41.1112, -74.0999, 17600000.0], [41.0278, -73.9491, 61692000.0], [41.2078, -74.0154, 74046967.0], [41.2598, -73.9892, 53539000.0], [41.1925, -74.2159, 1181957800.0], [41.302, -74.5615, 1899600.0], [41.1183, -73.943, 203270977.0], [41.2656, -74.3604, 244310000.0], [41.4237, -74.1601, 213997975.0], [41.209, -73.9821, 13087968.0], [41.0973, -73.9768, 69113000.0], [41.3214, -74.5529, 27999200.0], [40.7236, -73.7058, 305886129.0], [40.6976, -73.7049, 252069580.0], [40.7481, -73.7114, 137258000.0], [40.701, -73.6758, 101851392.0], [40.7742, -73.7189, 205197992.0], [40.7867, -73.727, 382063000.0], [40.7993, -73.7343, 176228000.0], [40.8171, -73.7416, 763266000.0], [40.7934, -73.6888, 494995993.0], [40.7294, -73.6828, 297412917.0], [40.835, -73.6964, 858704394.0], [40.6205, -73.7474, 4792000.0], [40.7446, -73.9345, 89937000.0], [40.7706, -73.9265, 77013724.0], [40.7627, -73.9149, 8518000.0], [40.7436, -73.9216, 116264776.0], [40.7763, -73.911, 181503974.0], [40.7608, -73.9295, 261914600.0], [40.7454, -73.9575, 107257000.0], [40.694, -73.9903, 907172000.0], [40.6505, -73.9349, 278983865.0], [40.6179, -73.9856, 100578000.0], [40.6924, -73.9666, 80015000.0], [40.7012, -73.9436, 63947899.0], [40.6705, -73.894, 527846287.0], [40.6762, -73.8736, 395634909.0], [40.6251, -74.0303, 351207535.0], [40.6281, -73.9467, 573206949.0], [40.7095, -73.9563, 272305000.0], [40.6625, -73.9145, 174250594.0], [40.67, -73.9367, 138012664.0], [40.6016, -73.9968, 328876113.0], [40.6669, -73.9828, 910622999.0], [40.6794, -73.9496, 300308000.0], [40.6816, -73.9798, 193723000.0], [40.6424, -73.9758, 311040000.0], [40.6336, -73.996, 113930886.0], [40.6412, -74.0133, 443661104.0], [40.6907, -73.9274, 278756000.0], [40.7272, -73.9498, 209978096.0], [40.5979, -73.9743, 175362774.0], [40.5767, -73.9884, 79044879.0], [40.6628, -73.9546, 211940998.0], [40.6467, -73.957, 168081999.0], [40.6174, -74.0121, 532108065.0], [40.6011, -73.9475, 417811446.0], [40.6225, -73.965, 170190887.0], [40.6794, -74.0014, 261688000.0], [40.6521, -74.0018, 58210000.0], [40.6784, -73.9211, 545089988.0], [40.6205, -73.9239, 1023427608.0], [40.5839, -73.9536, 403556393.0], [40.6407, -73.9028, 464985154.0], [40.7006, -73.918, 54226000.0], [40.679, -73.9644, 357438964.0], [40.6497, -73.8824, 28526000.0], [40.6451, -73.945, 27750000.0], [40.7667, -73.8241, 164776424.0], [40.7536, -73.8226, 309924976.0], [40.7855, -73.845, 636884168.0], [40.7851, -73.8096, 531637616.0], [40.7606, -73.7968, 544358989.0], [40.7807, -73.7812, 326211056.0], [40.7627, -73.7745, 384849366.0], [40.7591, -73.7326, 325080989.0], [40.7722, -73.7454, 272541000.0], [40.7428, -73.7588, 268699400.0], [40.7374, -73.7951, 366858316.0], [40.7272, -73.7949, 329602400.0], [40.728, -73.8195, 73246320.0], [40.7453, -73.8611, 690639661.0], [40.7613, -73.8739, 219886998.0], [40.7611, -73.8916, 119649558.0], [40.7513, -73.883, 199482000.0], [40.7351, -73.8776, 314898515.0], [40.7278, -73.8602, 96302776.0], [40.7229, -73.8473, 540309887.0], [40.745, -73.9069, 574896816.0], [40.7239, -73.8997, 288241000.0], [40.7173, -73.8792, 191105946.0], [40.7036, -73.8961, 698776966.0], [40.6947, -73.7374, 90960200.0], [40.6958, -73.7617, 410895172.0], [40.6645, -73.7559, 299331845.0], [40.6588, -73.8438, 342255447.0], [40.7069, -73.8297, 71896000.0], [40.6838, -73.8514, 154998206.0], [40.6769, -73.8448, 215029957.0], [40.6982, -73.8345, 464773376.0], [40.6868, -73.823, 152571000.0], [40.6744, -73.819, 192845225.0], [40.6913, -73.8585, 277244234.0], [40.6621, -73.7353, 190875693.0], [40.7142, -73.7677, 138476988.0], [40.7347, -73.723, 261342000.0], [40.7277, -73.7489, 171150200.0], [40.7208, -73.7433, 212141426.0], [40.709, -73.7401, 182088798.0], [40.7119, -73.7944, 670930851.0], [40.6969, -73.7877, 162330987.0], [40.6775, -73.7758, 580338738.0], [40.7029, -73.8111, 316246996.0], [40.6763, -73.7966, 128177950.0], [40.7469, -73.6398, 60138104.0], [40.7703, -73.6514, 117449994.0], [40.5887, -73.7255, 242265007.0], [40.6548, -73.6097, 199575434.0], [40.7512, -73.6119, 26484000.0], [40.6236, -73.7264, 96802432.0], [40.6404, -73.6674, 111803997.0], [40.6536, -73.5866, 164156280.0], [40.7245, -73.6487, 382441243.0], [40.865, -73.6277, 81993000.0], [40.8281, -73.6076, 641509996.0], [40.8125, -73.6261, 63042000.0], [40.7049, -73.6176, 155745780.0], [40.6929, -73.6539, 136648711.0], [40.702, -73.592, 34247796.0], [40.7149, -73.5561, 137914094.0], [40.6404, -73.6957, 458209291.0], [40.604, -73.6554, 41586132.0], [40.614, -73.733, 69679200.0], [40.8817, -73.5927, 203895995.0], [40.5877, -73.6595, 396767150.0], [40.6571, -73.6741, 126621991.0], [40.675, -73.6731, 62480532.0], [40.6685, -73.5536, 204465981.0], [40.7882, -73.5875, 347958916.0], [40.5905, -73.5808, 11700000.0], [40.6637, -73.638, 178826678.0], [40.6362, -73.6375, 375610355.0], [40.6802, -73.5867, 50766978.0], [40.7984, -73.6477, 221870759.0], [40.7845, -73.6403, 115763040.0], [40.846, -73.6436, 14577400.0], [40.6742, -73.7057, 245542795.0], [40.6523, -73.7118, 131923000.0], [40.7557, -73.5723, 131730057.0], [40.7592, -73.6449, 65254676.0], [40.6326, -73.7141, 288425991.0], [40.6006, -73.758, 99271642.0], [40.5923, -73.7933, 74386990.0], [40.6076, -73.8198, 53201996.0], [40.5766, -73.8428, 178943000.0], [40.6842, -73.4171, 89179128.0], [40.6957, -73.3257, 109551357.0], [40.7321, -73.3236, 33096444.0], [40.7135, -73.3546, 83518686.0], [40.7444, -73.0542, 32210820.0], [40.7051, -73.243, 44065501.0], [40.9074, -73.5601, 18429000.0], [40.6729, -73.5365, 155320951.0], [40.7733, -72.9469, 21595390.0], [40.74, -73.4857, 52735210.0], [40.7501, -73.0352, 12761000.0], [40.7678, -73.1163, 25107955.0], [40.7809, -73.2503, 22625496.0], [40.728, -73.2646, 6000000.0], [40.7843, -72.8921, 13788995.0], [40.8705, -73.0822, 84786820.0], [40.8929, -73.3754, 38380000.0], [40.7866, -73.1961, 31489934.0], [40.8601, -73.4423, 70300000.0], [40.843, -73.2799, 68788353.0], [40.6778, -73.3963, 36695877.0], [40.885, -73.0069, 111910390.0], [40.7591, -73.3257, 47964885.0], [40.7282, -73.1805, 62119940.0], [40.857, -73.3146, 32386988.0], [40.8472, -73.5349, 54138000.0], [40.9426, -73.1116, 141763249.0], [40.7315, -73.4327, 93511441.0], [40.8366, -73.0413, 53734638.0], [40.7297, -73.1607, 3995000.0], [40.8621, -73.3646, 20802000.0], [40.7964, -73.0718, 30672370.0], [40.8105, -73.0416, 28291388.0], [40.8676, -73.4102, 137727296.0], [40.8143, -73.3634, 297903079.0], [40.7946, -73.403, 160130394.0], [40.7348, -73.2221, 33469995.0], [40.7548, -73.1827, 6979995.0], [40.7881, -73.5331, 102953216.0], [40.8861, -73.2438, 23955994.0], [40.8567, -73.1168, 37067946.0], [40.7254, -73.5166, 141180068.0], [40.6884, -73.3745, 147828792.0], [40.6682, -73.4588, 245692641.0], [40.6807, -73.4444, 46357842.0], [40.8174, -72.9852, 58186937.0], [40.9436, -72.9913, 64034956.0], [40.8857, -73.5526, 20995000.0], [40.9271, -73.0127, 91086198.0], [40.8462, -73.1482, 32780324.0], [40.9051, -73.3309, 71655500.0], [40.7382, -73.1297, 56225645.0], [40.6443, -73.1613, 11999996.0], [40.866, -73.5272, 309034500.0], [40.7609, -72.9871, 90905509.0], [40.9136, -73.0464, 54727698.0], [40.9457, -73.0611, 115154423.0], [40.9492, -72.9357, 18422971.0], [40.8083, -73.1305, 29966350.0], [40.8813, -73.1591, 98860432.0], [40.7459, -73.0859, 45881644.0], [40.6795, -73.491, 98034089.0], [40.8699, -73.0448, 49065543.0], [40.9485, -72.8927, 18545656.0], [40.8542, -73.2138, 90887184.0], [40.8231, -73.1958, 26044314.0], [40.9567, -72.9742, 15708749.0], [40.9068, -73.1277, 25100300.0], [40.8146, -73.5024, 203533192.0], [40.952, -72.8348, 38583737.0], [40.685, -73.5103, 75514733.0], [40.7117, -73.3007, 131735538.0], [40.732, -73.1, 2745000.0], [40.8154, -73.4716, 113128632.0], [40.7523, -73.3761, 49012771.0], [40.7623, -73.523, 98697387.0], [40.7781, -73.4816, 185677352.0], [40.765, -73.4575, 42194208.0], [40.9262, -72.652, 128921045.0], [40.9895, -72.0959, 143378000.0], [40.9339, -72.3077, 143725000.0], [40.9297, -72.7423, 51213395.0], [40.7997, -72.797, 85627996.0], [41.0139, -72.4803, 94392000.0], [40.993, -72.179, 1332971995.0], [41.1264, -72.3419, 37125000.0], [40.809, -72.7538, 31706500.0], [40.8297, -72.7283, 19778000.0], [40.8428, -72.5813, 355019988.0], [41.1039, -72.3674, 99151000.0], [40.8726, -72.5202, 380620000.0], [40.9674, -72.554, 13225000.0], [40.8421, -72.8002, 37551957.0], [40.8064, -72.8566, 35277921.0], [40.7657, -72.8537, 68193492.0], [40.9943, -72.5363, 107656500.0], [40.8782, -72.9525, 19146992.0], [41.0459, -71.944, 230397000.0], [40.8095, -72.8229, 17605600.0], [41.1437, -72.2879, 35944000.0], [41.0392, -72.4666, 6399992.0], [40.8226, -72.6012, 136475994.0], [40.8086, -72.7064, 272495000.0], [40.9018, -72.8881, 55166770.0], [40.9305, -72.2707, 305954000.0], [40.982, -72.3067, 1089824200.0], [41.064, -72.3366, 101445000.0], [40.8015, -72.8676, 75022989.0], [40.9043, -72.4103, 2507273000.0], [41.0555, -72.429, 181724400.0], [40.9396, -72.2425, 32850000.0], [40.9209, -72.3491, 1851416996.0], [40.818, -72.6699, 152728995.0], [40.8295, -72.6473, 475517970.0], [40.837, -72.9174, 12550692.0], [42.7063, -74.0193, 43145385.0], [42.9387, -74.1882, 94895893.0], [42.2736, -73.8152, 178089000.0], [42.3223, -73.455, 66358600.0], [42.6365, -73.5504, 84053500.0], [42.9192, -73.8552, 96503191.0], [43.005, -73.8486, 177047366.0], [42.6919, -73.3702, 2169700.0], [42.6108, -74.1466, 24016900.0], [43.0727, -74.1684, 19029400.0], [42.9329, -73.896, 24672740.0], [42.9601, -73.4497, 629800.0], [42.4132, -73.4159, 18064500.0], [43.1922, -74.5169, 1998500.0], [42.5376, -73.7071, 149115600.0], [42.533, -74.6819, 1677000.0], [42.3496, -73.5873, 42412681.0], [42.5759, -73.964, 4233000.0], [42.684, -74.4939, 41623400.0], [42.7754, -73.7124, 173846468.0], [42.3501, -73.8199, 114315500.0], [42.7667, -73.4719, 7950000.0], [42.748, -74.1868, 74812500.0], [42.6158, -73.8373, 153621500.0], [42.7708, -74.0839, 26902787.0], [42.3527, -73.9062, 33478400.0], [42.6191, -74.0555, 71441300.0], [42.433, -73.4903, 51072000.0], [42.5951, -73.6826, 190698576.0], [42.5352, -73.4984, 32596400.0], [42.6321, -74.6674, 935000.0], [42.8499, -73.7851, 331798021.0], [42.7717, -74.2882, 10715000.0], [42.555, -73.9237, 32703900.0], [42.9571, -74.4021, 6569500.0], [42.9765, -74.2484, 938000.0], [42.9036, -74.3598, 18467179.0], [43.0217, -74.029, 5553500.0], [42.3036, -73.6486, 67536000.0], [42.4108, -74.4003, 57932700.0], [42.5971, -73.7959, 87574400.0], [43.0616, -74.3375, 28266800.0], [42.4113, -74.0222, 61765800.0], [42.6973, -73.8975, 2199000.0], [42.8937, -73.3581, 38529800.0], [42.7045, -74.3648, 1380000.0], [42.4999, -74.6117, 32570000.0], [42.8769, -73.4989, 1548000.0], [43.0069, -74.3715, 22806200.0], [42.3767, -73.7183, 209200800.0], [42.7462, -73.763, 240159300.0], [42.5371, -74.903, 5251800.0], [43.1411, -74.2444, 6975300.0], [42.9168, -73.7214, 71026900.0], [42.8412, -73.6077, 1925000.0], [42.5637, -74.3292, 46799300.0], [42.5271, -73.6118, 38110900.0], [42.4442, -73.7882, 3907700.0], [42.4759, -73.3773, 22669000.0], [43.2662, -74.2288, 18472500.0], [42.4357, -73.5545, 439834000.0], [42.8499, -74.1231, 2389300.0], [42.7495, -73.3401, 11280000.0], [43.4481, -74.5263, 2514000.0], [42.6918, -73.5627, 2933700.0], [42.4754, -73.822, 55482500.0], [42.6359, -73.7219, 231598276.0], [42.5133, -74.1474, 12071000.0], [42.8524, -73.8701, 30986200.0], [42.6424, -74.571, 24890300.0], [42.8745, -74.0465, 3578500.0], [42.6379, -73.4989, 11700000.0], [42.9144, -73.6154, 14137100.0], [42.59, -74.8149, 12553900.0], [42.4816, -73.748, 32729000.0], [42.6615, -74.3047, 18585200.0], [42.5486, -73.8129, 52722589.0], [42.6485, -73.8711, 97060800.0], [42.7599, -74.3642, 3180000.0], [43.5042, -74.3667, 1439400.0], [42.8484, -74.4536, 14927800.0], [42.4174, -74.6098, 46397300.0], [42.5487, -73.374, 23135900.0], [42.5855, -73.4154, 10332100.0], [43.0019, -73.6609, 22105700.0], [42.2857, -73.7335, 8237000.0], [42.3596, -73.7613, 24197700.0], [42.535, -74.5452, 7872000.0], [42.7287, -73.6683, 518912017.0], [42.7829, -73.6648, 131597562.0], [42.746, -73.6943, 9311300.0], [42.4321, -73.6683, 134417300.0], [42.8855, -73.5437, 31229300.0], [42.6431, -73.9448, 52908000.0], [42.6604, -74.5074, 3638000.0], [42.81, -73.6995, 51985417.0], [42.7298, -73.7123, 148011361.0], [43.4012, -74.2886, 3584000.0], [42.4029, -73.8283, 30168000.0], [42.5156, -74.0394, 42384200.0], [42.5506, -74.4631, 2799200.0], [42.638, -73.6109, 36391700.0], [42.6049, -74.7299, 25686400.0], [42.6878, -73.6383, 97583481.0], [42.6413, -73.7641, 76343179.0], [42.7003, -73.8575, 218168039.0], [42.6847, -73.7354, 44126100.0], [42.7198, -73.8207, 170148146.0], [42.6683, -73.7744, 163108379.0], [42.656, -73.7964, 126493931.0], [42.6417, -73.7854, 147791180.0], [42.6568, -73.7605, 74260700.0], [42.713, -73.7739, 224195000.0], [42.88, -73.9913, 166296591.0], [42.7823, -73.9448, 159102490.0], [42.7841, -73.9094, 172356400.0], [42.8161, -73.9398, 14652100.0], [42.7904, -73.9809, 167564899.0], [42.8047, -73.9363, 29774379.0], [42.8179, -73.9206, 119980877.0], [42.8091, -73.8693, 224448188.0], [41.9697, -74.0668, 1194101186.0], [41.8083, -74.2353, 77115500.0], [42.3304, -74.0857, 23816000.0], [42.1417, -74.5721, 30728200.0], [42.3037, -74.3335, 53478000.0], [42.0406, -74.1551, 148474000.0], [42.074, -74.453, 3580000.0], [41.8752, -74.0436, 12961000.0], [42.0048, -74.2658, 24761000.0], [42.3096, -74.0115, 68482400.0], [42.2276, -73.8985, 355384100.0], [41.8467, -74.1038, 11732000.0], [42.2522, -74.5407, 20464000.0], [42.386, -74.1117, 118885300.0], [42.2469, -74.1353, 135367000.0], [42.1643, -74.1245, 7163000.0], [41.7218, -74.4141, 96112584.0], [41.8279, -73.9651, 44419000.0], [42.1772, -74.5473, 70354000.0], [42.3815, -74.0623, 45468000.0], [42.0437, -73.9474, 22327100.0], [42.0053, -74.1532, 40945000.0], [42.362, -74.494, 5681000.0], [41.7281, -74.5201, 10431000.0], [42.1955, -74.1023, 27076000.0], [42.2898, -74.2165, 10125000.0], [41.8167, -74.1311, 112140000.0], [42.2333, -74.2416, 100074000.0], [41.9327, -74.0687, 95004200.0], [42.2694, -74.2793, 93078600.0], [41.7939, -74.3035, 164750900.0], [42.0733, -74.2123, 25375000.0], [41.9918, -73.9924, 11281000.0], [42.1332, -74.2443, 7695336.0], [42.3045, -73.9457, 37768100.0], [42.0987, -73.9354, 10070000.0], [42.1852, -74.6178, 30886000.0], [42.0357, -74.0002, 4170000.0], [42.0435, -74.2485, 16250000.0], [41.759, -74.3804, 28985300.0], [42.2094, -74.6837, 2925000.0], [41.875, -74.2734, 144665000.0], [42.1729, -74.0167, 32130000.0], [42.0848, -74.3154, 35779000.0], [41.8948, -73.9767, 35472700.0], [42.2979, -74.3895, 11678000.0], [42.4563, -74.242, 17572000.0], [42.2959, -74.0773, 28565714.0], [41.8402, -74.073, 60701400.0], [42.2678, -74.0523, 15148000.0], [42.2957, -74.5631, 15256500.0], [42.0738, -73.9797, 826155700.0], [42.1363, -74.3774, 43480000.0], [41.9767, -74.2119, 80913000.0], [42.2681, -73.9554, 5628800.0], [41.8616, -74.1697, 150323000.0], [42.1956, -74.1338, 59339000.0], [41.8338, -74.0626, 32313000.0], [41.8651, -73.9948, 130772300.0], [41.9973, -74.1049, 93233967.0], [41.9673, -74.2871, 35566800.0], [42.0849, -74.2407, 13972000.0], [42.3175, -74.262, 421403433.0], [42.0348, -74.112, 290633000.0], [41.8447, -73.5542, 44400000.0], [42.0851, -73.6424, 48615000.0], [41.5097, -73.9634, 494802077.0], [42.2251, -73.7346, 43712000.0], [41.8693, -73.7659, 210255000.0], [41.6749, -74.0557, 17579983.0], [42.1113, -73.5526, 39850989.0], [42.1367, -73.5108, 18187000.0], [41.4162, -74.0395, 210389034.0], [41.433, -74.0061, 6373500.0], [42.176, -73.6571, 85900000.0], [41.7351, -73.587, 19158300.0], [42.0902, -73.7818, 85542500.0], [41.5404, -73.8979, 271734865.0], [41.6576, -74.1672, 105397000.0], [42.1219, -73.8625, 131231300.0], [41.7167, -73.9928, 270531635.0], [42.1868, -73.5483, 45808600.0], [41.5325, -73.6628, 32933700.0], [41.5603, -73.7939, 363753840.0], [42.247, -73.7552, 529219073.0], [41.7887, -73.9063, 1089756100.0], [41.6615, -73.745, 84125040.0], [41.6056, -73.988, 156773900.0], [41.4886, -74.2163, 37020400.0], [41.7803, -73.6885, 198000770.0], [41.9536, -73.5287, 97841400.0], [41.6535, -73.9772, 35620400.0], [41.6503, -74.1036, 13696000.0], [41.5333, -74.2534, 137599300.0], [41.5372, -74.0526, 772922680.0], [41.4724, -74.0566, 371184116.0], [41.7464, -74.1092, 512738900.0], [41.4888, -73.5815, 87940181.0], [41.5749, -73.5948, 107351993.0], [41.6178, -74.3263, 214517710.0], [41.9896, -73.6602, 43373500.0], [41.747, -73.8143, 146451555.0], [41.6194, -73.6783, 67496091.0], [42.0064, -73.8546, 547296500.0], [41.9272, -73.8888, 660708176.0], [41.9151, -73.9517, 25650000.0], [41.4575, -74.1659, 19449969.0], [41.4497, -74.1214, 48633975.0], [41.805, -73.8013, 67081000.0], [41.8502, -73.8988, 146590383.0], [41.8877, -73.6945, 19307800.0], [41.5512, -73.7255, 71543500.0], [42.0579, -73.9025, 75731274.0], [41.7227, -73.7184, 10659400.0], [41.5596, -74.1764, 105737367.0], [41.616, -74.1439, 216677538.0], [41.595, -73.8876, 467796369.0], [41.7759, -73.5544, 62964300.0], [41.6538, -73.5556, 27626200.0], [41.7035, -73.9117, 375265143.0], [41.6907, -73.8621, 401577867.0], [41.6516, -74.7007, 393557988.0], [41.4912, -74.9152, 10393600.0], [41.6693, -74.894, 17202500.0], [41.5644, -74.4304, 52541500.0], [41.7673, -75.0563, 49294200.0], [41.9657, -74.5293, 70281000.0], [41.692, -74.9741, 42826800.0], [41.4776, -74.5976, 15664000.0], [41.5328, -74.8968, 60162900.0], [41.7273, -74.6154, 5130000.0], [41.7349, -74.7345, 18866800.0], [41.8782, -75.0343, 12350000.0], [41.4858, -74.7995, 23717000.0], [41.8807, -74.5127, 64440000.0], [41.7143, -74.7263, 2158000.0], [41.5309, -74.8516, 29603800.0], [41.7629, -75.0306, 4318200.0], [41.4179, -74.631, 1199985.0], [41.7356, -74.6743, 4748100.0], [41.7784, -74.9196, 22656000.0], [41.6874, -74.8358, 12600000.0], [41.7296, -74.9611, 7798000.0], [41.6838, -74.6724, 3781000.0], [41.6782, -74.9949, 5863300.0], [41.7962, -74.7484, 63314178.0], [41.8778, -74.827, 93258000.0], [41.7789, -74.6614, 3038100.0], [41.8644, -75.0942, 4500000.0], [41.681, -74.8028, 52428000.0], [41.6918, -74.5358, 34916000.0], [41.5921, -75.0107, 88046305.0], [41.8492, -74.6127, 24570000.0], [41.8142, -74.9824, 19602000.0], [41.8517, -74.7359, 11750000.0], [41.4511, -74.841, 16142000.0], [41.3786, -74.6691, 98493700.0], [41.6134, -74.5872, 67906969.0], [41.9609, -74.9346, 37370000.0], [41.5691, -74.7241, 14464000.0], [41.7042, -74.6444, 82508200.0], [41.4443, -74.7213, 65540000.0], [41.7285, -74.8341, 48213000.0], [41.6485, -74.8654, 29390000.0], [41.7708, -74.5928, 33067562.0], [41.717, -74.5815, 76450681.0], [41.5877, -74.5039, 87325191.0], [41.5226, -74.9329, 11656500.0], [43.3115, -73.6448, 75627891.0], [43.2836, -73.6294, 42571516.0], [43.329, -73.6818, 134912053.0], [43.2381, -73.4641, 18800000.0], [43.4839, -73.8817, 4365000.0], [43.5766, -73.6714, 37137000.0], [43.6989, -73.7205, 29963100.0], [43.0466, -73.3814, 36275100.0], [43.6451, -73.8066, 8635200.0], [43.6435, -73.4326, 1589700.0], [43.2426, -73.8369, 5430900.0], [43.5156, -73.7001, 41800000.0], [43.4285, -73.4784, 27682800.0], [43.2653, -73.5822, 55366691.0], [43.1803, -73.7053, 90712839.0], [43.3776, -73.2978, 61367864.0], [43.1401, -73.8398, 51493800.0], [43.0947, -73.503, 57713087.0], [43.3173, -73.8482, 8380600.0], [43.7463, -73.5282, 12368900.0], [43.5248, -73.2518, 11253500.0], [43.3493, -73.4049, 6017400.0], [43.3149, -73.5746, 36802400.0], [43.6392, -73.5071, 6877000.0], [43.7606, -74.2766, 14647800.0], [43.586, -73.9165, 8408500.0], [43.4167, -73.6975, 4664100.0], [43.3165, -73.8228, 13325700.0], [43.4508, -73.3031, 4160000.0], [43.0975, -74.0167, 6334000.0], [43.946, -74.1299, 2519100.0], [43.6978, -73.986, 3192000.0], [43.9869, -73.7121, 1428900.0], [43.1724, -73.8839, 1499400.0], [43.7312, -73.8193, 3150000.0], [43.756, -73.4123, 3918600.0], [43.0662, -73.9215, 2374400.0], [43.1828, -73.3327, 29986600.0], [43.0708, -73.7408, 489697790.0], [43.8412, -73.7674, 25121700.0], [43.0878, -73.6007, 15093200.0], [43.1106, -73.3231, 15052800.0], [43.4214, -73.9495, 1665000.0], [43.8463, -73.4426, 84421083.0], [43.5003, -73.792, 37442889.0], [43.5531, -73.3864, 44752483.0], [44.6927, -73.466, 135132891.0], [44.6854, -73.4474, 12084200.0], [44.8816, -73.6408, 3051400.0], [44.4499, -73.6857, 3789000.0], [44.3985, -74.0829, 3152000.0], [44.8282, -74.5223, 4643000.0], [44.9177, -74.1731, 2093500.0], [44.6862, -73.6702, 1839200.0], [44.9773, -73.4466, 2264700.0], [44.9088, -74.0741, 9620994.0], [44.8884, -73.4501, 3338600.0], [44.9417, -74.3297, 1877500.0], [43.9526, -73.4665, 22016000.0], [44.72, -73.7192, 4244100.0], [44.7233, -74.5523, 1404400.0], [44.8444, -73.8685, 3922800.0], [44.9163, -73.7876, 2311000.0], [44.2807, -73.3731, 14720000.0], [44.9731, -74.4929, 690000.0], [44.3734, -73.7247, 29622100.0], [44.2555, -73.7915, 3560000.0], [44.4999, -73.4745, 18731600.0], [44.3375, -74.2381, 2961000.0], [44.2796, -73.982, 184970600.0], [44.7255, -73.9195, 539000.0], [44.8482, -74.2928, 62498750.0], [44.8043, -73.973, 6549900.0], [44.0876, -73.5236, 13202500.0], [44.9592, -73.5834, 2055000.0], [44.9602, -73.673, 959400.0], [44.0438, -73.5079, 3355000.0], [44.6894, -73.5772, 4162935.0], [44.703, -74.6805, 828000.0], [44.8532, -74.4191, 3356300.0], [44.775, -74.6653, 2173500.0], [44.7308, -74.1342, 6449000.0], [44.5851, -73.5293, 30445825.0], [44.0465, -73.4705, 15923900.0], [44.467, -74.1729, 3592000.0], [44.9884, -73.3691, 6364600.0], [44.6578, -74.5155, 2724000.0], [44.7032, -73.7481, 3463900.0], [44.3243, -74.133, 31023200.0], [44.6287, -73.5579, 3521000.0], [44.232, -74.4905, 11851100.0], [44.3364, -73.7757, 14192000.0], [44.4601, -74.0573, 23056000.0], [44.797, -73.5112, 16161300.0], [44.205, -73.4702, 21340500.0], [44.3604, -73.3963, 70680100.0], [44.3755, -73.8431, 4449000.0], [44.0827, -73.5306, 885000.0], [42.8187, -76.0724, 1948500.0], [42.93, -76.5626, 207095413.0], [42.7472, -76.6775, 20136000.0], [43.162, -76.3237, 195755942.0], [43.2717, -75.9373, 1798800.0], [43.2252, -76.1351, 17562000.0], [43.159, -75.97, 30624700.0], [43.0417, -76.2807, 75561900.0], [43.0878, -75.7602, 67815300.0], [43.1794, -76.5648, 10463800.0], [42.9142, -76.7024, 1970300.0], [42.938, -75.8392, 146934700.0], [43.309, -76.1849, 12015900.0], [43.0552, -75.8768, 93762900.0], [43.1707, -76.0962, 66174800.0], [42.5385, -75.903, 24787300.0], [43.1737, -76.1707, 63637121.0], [43.2432, -75.8537, 11063800.0], [43.2728, -76.0042, 6657391.0], [42.5952, -76.1857, 108009400.0], [42.7494, -75.8582, 13565000.0], [42.4861, -76.2872, 19023989.0], [43.1579, -75.6714, 1998000.0], [43.0734, -76.0558, 35763686.0], [43.0252, -76.4352, 6365900.0], [42.8531, -75.9836, 21198700.0], [43.0268, -76.0145, 90213056.0], [42.4998, -76.3636, 19312475.0], [43.3211, -76.4034, 26753740.0], [42.5855, -76.3633, 10504500.0], [43.3111, -76.546, 4706100.0], [43.3527, -76.1477, 2471600.0], [42.6726, -76.1878, 26018100.0], [42.983, -76.0766, 85737000.0], [43.0651, -76.4598, 9318600.0], [42.6635, -76.6216, 3430400.0], [43.0981, -75.955, 11311400.0], [43.6429, -76.0503, 2930000.0], [42.891, -76.1061, 7260000.0], [43.1099, -76.187, 89467090.0], [43.1528, -76.2235, 100803339.0], [42.6558, -76.4154, 2590000.0], [42.5948, -76.082, 5197500.0], [42.9904, -75.9703, 237500781.0], [42.9821, -76.3323, 35685800.0], [42.8974, -76.2806, 3306000.0], [43.0934, -76.403, 5157600.0], [43.4605, -76.2446, 3552000.0], [43.0772, -76.0098, 4453000.0], [43.0101, -76.7033, 1854400.0], [42.7355, -76.399, 11596800.0], [42.9559, -76.1529, 5007100.0], [42.8441, -75.8635, 848300.0], [42.6372, -75.8164, 3825000.0], [43.4394, -76.4613, 41115100.0], [43.4153, -76.1, 8404400.0], [43.2609, -76.2395, 12077300.0], [43.2468, -76.3064, 5478600.0], [42.899, -76.016, 1683000.0], [43.0427, -76.6449, 5979600.0], [42.795, -76.2141, 3107000.0], [43.5562, -76.1252, 11935396.0], [43.2291, -76.7146, 6742900.0], [43.5776, -76.0029, 4956000.0], [43.6517, -76.1264, 5034800.0], [43.0934, -76.7565, 778700.0], [42.7708, -76.5862, 1899000.0], [42.9094, -76.7925, 20403700.0], [42.9258, -76.4052, 320261100.0], [43.3296, -76.6747, 5505100.0], [43.1965, -75.7305, 15397200.0], [42.7085, -76.0189, 8191600.0], [42.807, -76.1394, 14365500.0], [42.8335, -76.674, 3418200.0], [43.1885, -75.7126, 13116800.0], [43.0932, -76.2904, 12176700.0], [42.9045, -76.8755, 19825210.0], [43.0489, -76.5425, 20617600.0], [43.2882, -76.0797, 5527700.0], [43.041, -76.1489, 6368300.0], [43.0607, -76.1369, 33283085.0], [43.0444, -76.1758, 30660000.0], [43.0123, -76.1452, 34386200.0], [43.0677, -76.1102, 41520300.0], [43.0195, -76.165, 22098200.0], [43.073, -76.1486, 46575372.0], [43.0847, -76.2405, 51502600.0], [43.0354, -76.1282, 82183284.0], [43.1036, -76.1195, 18004000.0], [43.1226, -76.1284, 77282968.0], [43.0397, -76.0722, 31432200.0], [42.9722, -76.2276, 63551700.0], [43.0409, -76.2262, 49519400.0], [43.0421, -76.1046, 29359600.0], [43.497, -75.9719, 13741000.0], [43.3445, -75.4509, 12303000.0], [43.2237, -75.1612, 14870800.0], [43.2303, -75.6873, 7753000.0], [43.4786, -75.344, 12547500.0], [43.6887, -75.2921, 20700000.0], [42.8792, -75.2672, 1528200.0], [42.7516, -75.169, 12966000.0], [43.3392, -75.7543, 13409000.0], [42.8671, -74.5956, 16134800.0], [42.9069, -75.2607, 9209100.0], [43.0226, -75.2656, 2937900.0], [42.7823, -74.7444, 3500000.0], [43.0923, -75.3796, 4137700.0], [42.9801, -75.251, 6138400.0], [43.0586, -75.3808, 112549600.0], [43.3024, -74.9977, 8920994.0], [43.563, -75.4584, 11792700.0], [42.7005, -74.9243, 159872000.0], [43.9095, -75.3542, 3114700.0], [42.9818, -75.4383, 57441000.0], [43.1042, -74.7643, 9182300.0], [43.8167, -74.8862, 4508000.0], [42.7197, -75.5589, 6566000.0], [42.8484, -75.6314, 11967900.0], [42.6979, -75.2438, 2595000.0], [42.7252, -74.9869, 15701600.0], [43.4737, -75.1787, 1152000.0], [42.9372, -74.6433, 24897758.0], [43.044, -75.1072, 45813800.0], [43.7323, -75.3669, 10815900.0], [42.8231, -75.5434, 74689100.0], [42.695, -75.055, 46658986.0], [43.0307, -74.9876, 14396900.0], [43.2484, -75.2535, 23794300.0], [43.0064, -75.0484, 20959290.0], [42.9148, -74.9515, 3199200.0], [43.3148, -75.5055, 8772000.0], [42.8087, -75.2527, 6286400.0], [43.0474, -74.8606, 12861900.0], [43.7893, -75.4156, 28410400.0], [43.6262, -75.3553, 5894000.0], [42.8969, -75.5076, 2640000.0], [43.1639, -75.2783, 18509500.0], [43.1369, -74.924, 420000.0], [42.99, -74.9853, 12813100.0], [42.9108, -75.6487, 5640000.0], [42.9863, -75.594, 13709900.0], [42.9379, -74.6117, 2380000.0], [42.6224, -75.3474, 10861100.0], [43.0654, -75.2906, 74920800.0], [43.18, -74.9861, 5260900.0], [43.1, -75.2937, 3147900.0], [43.7435, -74.8935, 12389000.0], [43.0862, -75.6508, 92746678.0], [43.1524, -75.3434, 6423900.0], [42.9576, -75.4838, 4992500.0], [42.9221, -74.5708, 3198600.0], [43.5802, -75.3263, 4249000.0], [43.5658, -75.8242, 1599200.0], [43.3385, -75.1616, 8792200.0], [42.8402, -74.9716, 26382700.0], [43.2193, -75.4498, 221963100.0], [42.708, -74.8025, 12400000.0], [43.017, -74.646, 4839320.0], [43.1625, -74.7809, 1663000.0], [43.0073, -75.2626, 19066200.0], [42.7634, -74.5919, 18130200.0], [42.6859, -75.483, 25206700.0], [43.0704, -75.599, 28369800.0], [42.8388, -74.859, 3141000.0], [43.2229, -75.2899, 2443500.0], [43.1791, -74.6768, 2190000.0], [43.3366, -75.6027, 10318500.0], [43.6441, -75.4132, 1020000.0], [43.0443, -75.521, 19704500.0], [43.1473, -75.5724, 9510000.0], [42.9332, -75.3815, 18915100.0], [42.7868, -75.3149, 5848500.0], [43.3294, -75.3151, 5826700.0], [42.6809, -74.7653, 768900.0], [43.4597, -75.5127, 3193500.0], [43.1017, -75.4533, 17104200.0], [42.8826, -75.1835, 18715200.0], [43.1158, -75.3095, 56518200.0], [43.4106, -75.9044, 5301600.0], [43.5249, -75.1428, 1599000.0], [43.1116, -75.2756, 2798000.0], [43.0871, -75.2315, 140051000.0], [43.1067, -75.2314, 112218800.0], [43.9743, -75.9122, 234707959.0], [43.8062, -76.049, 12437900.0], [43.8631, -76.0041, 6002500.0], [44.3359, -75.9177, 24332200.0], [44.2358, -75.6005, 5252300.0], [43.778, -76.1259, 909300.0], [44.0042, -75.7958, 66445300.0], [44.8467, -74.7473, 1461000.0], [44.5924, -75.1628, 10627000.0], [44.1244, -76.3164, 1474800.0], [43.9791, -75.6013, 96061000.0], [43.8843, -75.4604, 7645800.0], [44.8672, -75.073, 792000.0], [44.0848, -76.1232, 2894950.0], [44.1442, -76.062, 22845000.0], [44.5016, -74.9327, 2220000.0], [43.8801, -75.6839, 1978800.0], [44.4896, -75.2871, 800000.0], [44.4989, -75.4772, 626500.0], [44.0069, -76.065, 10961200.0], [44.0817, -75.8305, 29717700.0], [44.3213, -76.0172, 3150000.0], [44.3283, -75.4651, 40046418.0], [44.4502, -75.6727, 5264500.0], [44.1613, -75.3252, 5824200.0], [43.8467, -76.2352, 4499991.0], [43.8708, -76.1809, 1950000.0], [44.4448, -75.1987, 4725400.0], [44.593, -75.4203, 1380000.0], [44.7184, -75.2694, 1498800.0], [43.7568, -75.9053, 4280400.0], [44.769, -75.1413, 799500.0], [44.9322, -74.8845, 56481187.0], [44.063, -75.5039, 5199100.0], [44.8424, -74.9577, 3031000.0], [44.7472, -74.9992, 7136000.0], [44.6902, -75.4774, 17932196.0], [44.1933, -75.0659, 2029100.0], [44.5927, -74.7941, 927200.0], [44.1589, -75.7099, 8288000.0], [44.2774, -75.8496, 1035000.0], [44.6592, -74.9681, 42503800.0], [44.3211, -75.815, 1550000.0], [44.44, -75.3777, 6080000.0], [44.3824, -75.1043, 1240000.0], [43.9398, -76.105, 19515591.0], [44.1578, -75.033, 480000.0], [44.2113, -75.8014, 16070400.0], [44.0551, -76.2689, 2979600.0], [44.8564, -75.2049, 4096000.0], [44.7583, -74.8066, 2279400.0], [42.2417, -75.5366, 16410000.0], [42.1569, -74.7887, 68922000.0], [42.0556, -76.1519, 54919500.0], [42.312, -75.4894, 15857595.0], [42.0695, -76.3983, 10220100.0], [42.3074, -76.192, 8876800.0], [42.3522, -74.8071, 11080000.0], [42.2709, -74.7661, 33000000.0], [42.2063, -76.3322, 18131570.0], [42.2568, -75.9087, 5378900.0], [42.2778, -75.8462, 6101000.0], [42.0454, -75.8076, 539100.0], [42.4711, -74.8357, 16004750.0], [42.2884, -75.1051, 9065880.0], [42.2937, -74.9207, 60577000.0], [42.0666, -75.4287, 19467400.0], [42.0716, -75.0152, 5054000.0], [42.0039, -75.1226, 4251000.0], [42.4101, -74.8987, 18478000.0], [42.1506, -76.0551, 260088757.0], [42.3421, -75.1485, 32250600.0], [42.4715, -75.3257, 4134600.0], [42.2573, -75.9805, 935000.0], [42.3401, -75.7342, 23449400.0], [42.4269, -75.4823, 2246600.0], [42.1787, -74.9984, 2025000.0], [41.9914, -75.2647, 25194300.0], [42.4499, -74.6871, 6766000.0], [42.1823, -75.6545, 20959200.0], [42.3594, -74.6759, 8246000.0], [42.1267, -75.9685, 97073994.0], [42.0695, -75.7967, 1350000.0], [42.5383, -75.1279, 13200600.0], [42.3409, -76.0302, 9783600.0], [42.5068, -75.7623, 12829900.0], [42.4527, -76.0395, 3304500.0], [42.2102, -75.3739, 1300500.0], [42.6148, -74.9685, 5772900.0], [42.5478, -75.2448, 42561500.0], [42.4081, -75.4003, 9943500.0], [42.6068, -75.1264, 840000.0], [42.2281, -76.1625, 11843600.0], [42.0301, -76.354, 9516500.0], [42.1625, -75.5484, 1879500.0], [42.5414, -75.5274, 47542991.0], [42.4625, -75.0491, 134108000.0], [42.4133, -75.2079, 29315700.0], [42.1138, -76.2528, 96171100.0], [42.4379, -75.5673, 32502292.0], [42.1958, -75.7591, 8507600.0], [42.3945, -76.1865, 3065000.0], [42.3074, -75.3908, 7901900.0], [42.2441, -75.2871, 15081000.0], [42.5295, -75.3852, 11483600.0], [42.6053, -75.633, 5724000.0], [42.3252, -75.3366, 27976700.0], [42.0771, -76.0118, 217070682.0], [42.1756, -75.1532, 26863200.0], [42.3384, -75.9522, 5397000.0], [42.452, -75.9014, 1798500.0], [42.3029, -76.3897, 4313000.0], [42.0759, -75.6405, 4605200.0], [42.1463, -75.8865, 76712300.0], [42.0811, -75.8977, 113582886.0], [42.1171, -75.8653, 59319400.0], [42.1151, -75.9309, 148095987.0], [43.0249, -78.5084, 30736900.0], [42.8984, -78.5257, 57585400.0], [42.6366, -79.0497, 36496500.0], [43.3105, -78.6372, 2957900.0], [42.563, -78.4134, 30960100.0], [42.8499, -78.2798, 15881800.0], [43.3368, -78.542, 1879500.0], [43.0807, -78.3951, 349500.0], [43.0003, -78.1929, 40005585.0], [42.5799, -78.2581, 1347300.0], [42.6314, -78.7391, 19965000.0], [42.941, -78.688, 930000.0], [43.3221, -78.7141, 3039200.0], [42.5605, -78.5025, 1750000.0], [42.981, -78.6162, 69224600.0], [43.0362, -78.639, 55966985.0], [42.6551, -78.6921, 14457100.0], [42.5001, -78.893, 12773100.0], [42.9777, -78.3929, 19218300.0], [42.8112, -78.4481, 2465000.0], [42.4926, -78.4793, 10932300.0], [42.905, -78.7041, 41207634.0], [42.6974, -78.9834, 36990700.0], [42.4877, -79.3283, 29649600.0], [43.0429, -78.6988, 66757190.0], [42.7701, -78.602, 179340400.0], [42.6506, -78.8781, 15089700.0], [43.0897, -78.1704, 2268500.0], [42.834, -78.6343, 54081900.0], [42.4482, -79.1607, 5848200.0], [42.4333, -79.3339, 18267100.0], [42.4897, -78.3501, 1080000.0], [42.619, -78.1795, 9402000.0], [43.2106, -78.5745, 1943895.0], [43.024, -78.7532, 12413500.0], [42.4712, -78.9339, 17653900.0], [43.0183, -78.9591, 33553200.0], [42.7334, -78.8389, 161959052.0], [42.6396, -78.5439, 28822200.0], [42.5739, -79.0596, 12545000.0], [42.6769, -78.441, 3737800.0], [42.7215, -78.9327, 30299200.0], [42.9017, -78.6631, 127029751.0], [42.5404, -78.9212, 3198400.0], [43.1722, -79.0215, 26158297.0], [43.16, -78.6923, 92213885.0], [43.3233, -78.3811, 9202800.0], [42.4083, -78.5059, 9801100.0], [42.8332, -78.5587, 9748700.0], [43.2184, -78.3874, 14169098.0], [43.2183, -78.4841, 5462700.0], [43.2724, -78.707, 14278700.0], [42.5896, -78.9107, 13467286.0], [43.0498, -78.851, 52198934.0], [43.0717, -78.2702, 3198000.0], [43.3378, -78.7148, 2079600.0], [42.7639, -78.7518, 200577668.0], [43.2286, -78.8982, 4898898.0], [43.1419, -78.8785, 4168100.0], [42.5357, -79.1628, 12844085.0], [42.3718, -79.0501, 5453800.0], [42.7063, -78.5452, 14025000.0], [42.52, -78.6847, 23054300.0], [42.9829, -78.0898, 2398800.0], [42.7249, -78.4347, 9306200.0], [43.0028, -78.8547, 40083014.0], [42.7459, -78.3167, 5102900.0], [42.7053, -78.6779, 18094000.0], [42.4315, -78.628, 10893600.0], [43.2968, -78.8244, 9215000.0], [43.2461, -79.0245, 9153432.0], [42.8967, -78.8846, 23359988.0], [42.887, -78.8779, 30977794.0], [42.884, -78.8597, 2964400.0], [42.8811, -78.8104, 53913325.0], [42.9491, -78.8978, 37956335.0], [42.9154, -78.8505, 25009352.0], [42.913, -78.8656, 41262300.0], [42.8614, -78.8205, 39278530.0], [42.9082, -78.8225, 23031200.0], [42.8946, -78.8245, 12330526.0], [42.9167, -78.8895, 55225378.0], [42.9414, -78.8374, 27440100.0], [42.9335, -78.8115, 43047082.0], [42.9499, -78.8599, 46447125.0], [42.9719, -78.8769, 56718681.0], [42.8146, -78.8078, 39992006.0], [42.7863, -78.8264, 26237200.0], [42.8441, -78.8182, 68471211.0], [42.9685, -78.7492, 129659201.0], [42.9164, -78.8763, 36737700.0], [42.9731, -78.845, 35112798.0], [42.8371, -78.7484, 144204648.0], [42.9255, -78.7481, 61147884.0], [42.9744, -78.7949, 78994572.0], [42.8853, -78.7462, 46859077.0], [43.0408, -78.7812, 39440360.0], [43.0955, -79.0414, 15081885.0], [43.0878, -79.037, 6832350.0], [43.0908, -78.9644, 19136694.0], [43.1146, -79.0378, 13731197.0], [43.2398, -78.2068, 9841100.0], [42.903, -77.7274, 24449000.0], [43.0869, -77.9603, 4459700.0], [43.2128, -77.9368, 7043892.0], [43.0738, -78.0629, 2543000.0], [42.9567, -77.8493, 10162100.0], [42.8689, -77.2846, 185868629.0], [42.958, -77.3083, 34388100.0], [42.6359, -78.0547, 2090000.0], [43.0749, -77.835, 2800000.0], [42.9632, -77.144, 2848500.0], [43.0855, -76.8725, 2212900.0], [42.7216, -77.6747, 20976000.0], [42.57, -77.7109, 6839900.0], [43.1128, -77.4906, 13133600.0], [43.0892, -77.436, 44546100.0], [42.7938, -77.7996, 23812300.0], [42.8637, -76.9913, 24356100.0], [42.7966, -77.0639, 189900.0], [43.3076, -77.927, 4982700.0], [43.0483, -77.6122, 14851748.0], [43.2923, -77.7905, 25059292.0], [42.8851, -77.46, 3998000.0], [43.2159, -78.0731, 8785100.0], [42.7901, -77.5169, 2158400.0], [42.9695, -77.5781, 2757600.0], [42.938, -77.5009, 12497500.0], [43.3341, -78.1355, 2559200.0], [42.5708, -77.1226, 6762000.0], [43.2363, -78.3138, 944300.0], [42.7739, -77.899, 3372300.0], [42.9774, -77.9851, 7557800.0], [42.8135, -77.6635, 23366900.0], [43.0777, -76.9896, 6248900.0], [43.0784, -77.3372, 9308500.0], [42.9689, -77.2332, 2970000.0], [43.1546, -77.1863, 7755000.0], [42.9953, -77.5001, 33797500.0], [42.6835, -77.8664, 15099200.0], [42.9928, -77.8603, 2002000.0], [42.6404, -77.3901, 2864000.0], [43.0519, -77.0946, 20146096.0], [43.1964, -76.9152, 675000.0], [42.5867, -77.918, 3938000.0], [43.2291, -77.3088, 13004500.0], [42.6898, -76.7941, 8394000.0], [43.0622, -77.2218, 8723300.0], [42.9102, -78.0269, 11898300.0], [43.1396, -77.456, 10900500.0], [42.6645, -77.0569, 36166200.0], [42.7229, -78.0059, 23676300.0], [42.9582, -77.0473, 1558800.0], [42.8435, -77.8962, 19932200.0], [43.0695, -77.5141, 113167200.0], [42.557, -78.0856, 9597000.0], [42.7497, -76.8449, 10197700.0], [42.7597, -77.2395, 10724650.0], [43.0246, -77.7743, 14234800.0], [42.6742, -78.0845, 3242700.0], [43.2217, -77.0514, 2599000.0], [43.2546, -76.9835, 924300.0], [43.1895, -77.8043, 16787600.0], [42.6776, -77.5775, 16445000.0], [42.8303, -77.1207, 1832000.0], [42.9866, -77.418, 80182600.0], [43.1402, -77.2858, 3644800.0], [42.741, -78.1429, 24764800.0], [43.3326, -78.243, 1505000.0], [42.5593, -77.5906, 6793900.0], [43.2196, -77.4616, 50940160.0], [43.0397, -77.6871, 22917300.0], [43.2421, -77.17, 3178600.0], [43.2341, -76.8217, 11979276.0], [42.8317, -78.0833, 30521100.0], [43.1698, -77.6007, 12498900.0], [43.1685, -77.6845, 26009434.0], [43.1501, -77.589, 28856700.0], [43.1521, -77.6258, 30127700.0], [43.174, -77.5637, 39267900.0], [43.1452, -77.5495, 30875100.0], [43.1484, -77.6394, 37308283.0], [43.2566, -77.6652, 21599270.0], [43.1831, -77.6393, 26520600.0], [43.2058, -77.6521, 16989900.0], [43.2346, -77.6577, 15847500.0], [43.2203, -77.5994, 5610100.0], [43.1122, -77.5618, 34388100.0], [43.1367, -77.6481, 27838700.0], [43.1317, -77.6062, 11845000.0], [43.1834, -77.6043, 26990500.0], [43.214, -77.5555, 13622938.0], [43.0834, -77.6344, 17046200.0], [43.1216, -77.7311, 30202987.0], [43.1522, -77.5057, 22678400.0], [43.2126, -77.704, 52517847.0], [42.0928, -79.244, 80977500.0], [42.0918, -78.4999, 18643400.0], [42.0126, -78.0578, 2310300.0], [42.3263, -77.9947, 6578000.0], [42.1084, -79.4056, 27721000.0], [42.32, -78.0943, 437800.0], [42.1513, -79.3581, 14984800.0], [42.0704, -78.1448, 4833600.0], [42.394, -79.4344, 1680000.0], [42.364, -78.184, 494000.0], [42.3504, -79.2993, 3825000.0], [42.3333, -78.8885, 15884000.0], [42.2098, -79.4667, 10450000.0], [42.3127, -79.1203, 2623500.0], [42.0557, -79.6685, 18095000.0], [42.1882, -78.2751, 19812300.0], [42.3971, -78.7432, 5950000.0], [42.2959, -78.6606, 99487700.0], [42.1239, -79.1895, 16520100.0], [42.4508, -78.1043, 6798000.0], [42.3388, -78.44, 29024300.0], [42.0528, -79.1318, 6746400.0], [42.1907, -78.1359, 6107400.0], [42.2147, -79.1649, 7032900.0], [42.2083, -78.6208, 12805700.0], [42.1979, -78.4159, 2984900.0], [42.4228, -78.2063, 2657000.0], [42.0973, -79.3291, 10797000.0], [42.0639, -78.632, 1932000.0], [42.2541, -78.8093, 26705100.0], [42.2409, -79.4963, 10369000.0], [42.0821, -78.426, 33644873.0], [42.057, -79.4815, 2998000.0], [42.0273, -78.3314, 4867900.0], [42.1631, -78.96, 5705000.0], [42.2482, -79.7121, 1500000.0], [42.1604, -78.7304, 11160800.0], [42.1631, -79.5857, 5939400.0], [42.2455, -79.2673, 9498100.0], [42.3182, -79.3758, 8573000.0], [42.322, -79.5726, 23506500.0], [42.0983, -77.266, 6457500.0], [42.2558, -77.7781, 13511700.0], [42.316, -77.778, 2998000.0], [42.1575, -77.792, 14396600.0], [42.4225, -77.6918, 9356200.0], [42.3679, -77.4641, 7770900.0], [42.3575, -77.3028, 20675900.0], [42.2798, -76.972, 19417900.0], [42.2334, -78.011, 9121200.0], [42.1455, -76.9527, 4410000.0], [42.3825, -77.0913, 3885000.0], [42.1939, -76.7361, 6178700.0], [42.3765, -76.3668, 8115000.0], [42.4394, -76.8292, 24582000.0], [42.2128, -77.4403, 5598600.0], [42.2386, -77.2066, 4237592.0], [42.4585, -77.7954, 1198000.0], [42.2635, -77.5897, 7298000.0], [42.2774, -76.6974, 4915500.0], [42.0392, -76.6202, 4405800.0], [42.5003, -77.4998, 3517800.0], [42.1383, -77.0475, 74892450.0], [42.5053, -77.0028, 12109000.0], [42.1859, -76.6819, 6274885.0], [42.1398, -77.636, 4233000.0], [42.4312, -77.1977, 78365000.0], [42.4966, -76.8786, 2240000.0], [42.3274, -77.6569, 38235700.0], [42.1805, -76.8345, 162961679.0], [42.5388, -77.9818, 7505000.0], [42.4406, -76.4966, 510983640.0], [42.0284, -77.1397, 5839000.0], [42.1149, -76.5366, 2392000.0], [42.0694, -76.693, 4799900.0], [42.2581, -76.8392, 3278400.0], [42.3437, -76.8396, 10000800.0], [42.3621, -76.592, 1613100.0], [42.171, -77.1194, 35224500.0], [42.0419, -76.8815, 36392000.0], [42.5224, -77.2983, 820500.0], [42.1697, -77.99, 2354100.0], [42.5645, -76.5375, 63394000.0], [42.2467, -76.4899, 8865000.0], [42.0501, -77.5502, 1955000.0], [42.521, -76.6681, 45661800.0], [42.3771, -76.9022, 38763600.0], [42.0172, -76.5333, 92148000.0], [42.0273, -76.7723, 7760100.0], [42.1108, -77.9419, 32175800.0], [42.0456, -77.8106, 929100.0], [42.1008, -76.812, 47949172.0], [42.1198, -76.8877, 70425060.0], [42.0729, -76.8037, 49466271.0], [42.0869, -76.8397, 39885774.0], [40.5921, -80.3197, 133176667.0], [40.6005, -80.2105, 34303086.0], [40.3413, -80.3822, 1467900.0], [40.6416, -80.1985, 28491100.0], [40.6972, -80.3365, 106728000.0], [40.7687, -80.3592, 129820586.0], [40.1588, -79.8122, 17754000.0], [40.6082, -79.7414, 10406200.0], [40.6372, -80.0811, 44385000.0], [40.3472, -80.1153, 332093120.0], [40.3821, -80.4044, 44209800.0], [40.1404, -79.92, 98334500.0], [40.5681, -79.841, 62847950.0], [40.3243, -79.9317, 364479530.0], [40.5131, -80.3423, 25948000.0], [40.6649, -80.2349, 8972600.0], [40.1768, -79.8619, 9830300.0], [40.3527, -79.8895, 8186100.0], [40.3839, -79.8079, 13100000.0], [40.2656, -79.8568, 186759556.0], [40.683, -80.2147, 38628400.0], [40.6252, -79.9443, 582316800.0], [40.326, -79.8883, 29497195.0], [40.5563, -80.2286, 18445200.0], [40.3123, -79.8067, 41755000.0], [40.5622, -80.4388, 12478000.0], [40.5695, -79.8637, 5929000.0], [40.6671, -80.4151, 11525300.0], [40.3625, -80.4086, 5983100.0], [40.3058, -80.1219, 6367400.0], [40.5662, -80.2099, 7050500.0], [40.3697, -80.2562, 170547000.0], [40.6793, -80.4908, 6398789.0], [40.6718, -80.2917, 39059600.0], [40.1524, -79.8835, 5961044.0], [40.1937, -79.9241, 78421910.0], [40.3542, -80.1398, 4290000.0], [40.6421, -79.7273, 79954530.0], [40.7393, -80.2972, 37218087.0], [40.2066, -79.9534, 13475000.0], [40.5616, -79.7129, 52825200.0], [40.4033, -80.1842, 136062357.0], [40.7157, -80.2603, 15742184.0], [40.6073, -79.8347, 5149700.0], [40.3584, -80.3879, 7798000.0], [40.6187, -79.7852, 48881200.0], [40.3857, -79.7223, 549900.0], [40.2716, -79.8966, 5715600.0], [40.2075, -79.758, 11130000.0], [40.612, -80.0649, 204831654.0], [40.57, -79.9665, 221649779.0], [40.321, -80.0398, 327732600.0], [40.4038, -79.8625, 27284300.0], [40.4029, -80.0915, 171015900.0], [40.5, -80.1996, 433406300.0], [40.3704, -79.8522, 18393220.0], [40.4036, -79.8389, 14064750.0], [40.5375, -79.9644, 83617700.0], [40.3926, -79.9052, 96647300.0], [40.3634, -79.8664, 171704098.0], [40.4584, -80.2649, 87532626.0], [40.2932, -79.996, 78938200.0], [40.3478, -79.8642, 47172600.0], [40.3478, -79.8642, 84232280.0], [40.3478, -79.8642, 54019600.0], [40.3478, -79.8642, 63911300.0], [40.4717, -80.0876, 201326201.0], [40.3762, -79.8124, 58971700.0], [40.5196, -79.8369, 134763500.0], [40.4048, -79.777, 36971700.0], [40.3847, -80.1209, 16065000.0], [40.557, -80.1578, 971095692.0], [40.544, -79.7844, 32664800.0], [40.4113, -79.822, 40877800.0], [40.429, -79.7623, 282087700.0], [40.4927, -79.8345, 112470700.0], [40.3934, -79.7951, 4285800.0], [40.4752, -79.9528, 490309471.0], [40.5053, -80.0685, 189048405.0], [40.4254, -79.9799, 296360306.0], [40.4554, -80.0644, 58529200.0], [40.4322, -80.1021, 223222300.0], [40.4723, -79.9132, 689354600.0], [40.4003, -79.9338, 89181400.0], [40.4532, -79.8995, 139880900.0], [40.4999, -79.9739, 88514700.0], [40.4072, -79.9839, 168214273.0], [40.4295, -80.0144, 361420653.0], [40.4406, -79.9959, 489590919.0], [40.444, -79.9552, 338120852.0], [40.4865, -80.014, 88095839.0], [40.5048, -79.9138, 317225600.0], [40.4001, -80.0462, 265427670.0], [40.4308, -79.9205, 767153600.0], [40.4237, -79.89, 202107325.0], [40.4423, -79.983, 78720898.0], [40.4181, -80.0526, 137932174.0], [40.4346, -79.8655, 311204900.0], [40.4477, -79.9933, 154275100.0], [40.5051, -79.9528, 28482100.0], [40.4642, -79.9448, 244021264.0], [40.4001, -80.0161, 109421600.0], [40.3805, -79.9667, 386800759.0], [40.3696, -80.0439, 307372100.0], [40.5203, -80.037, 73517934.0], [40.4525, -79.9319, 307663400.0], [40.4608, -80.0348, 65930000.0], [40.3688, -80.0224, 219258268.0], [40.4598, -79.8224, 404463093.0], [40.3351, -79.9832, 455256100.0], [40.5488, -80.0474, 351283811.0], [40.5346, -79.8805, 510334800.0], [40.4837, -79.7381, 153216000.0], [40.3323, -80.081, 687602500.0], [40.3748, -80.0731, 218528172.0], [40.1717, -80.256, 420377938.0], [40.2734, -80.4565, 24028300.0], [40.1187, -80.007, 15111600.0], [40.2706, -80.1668, 877325440.0], [39.8825, -79.971, 11420300.0], [40.3234, -80.1879, 18997000.0], [39.9667, -80.0452, 10394800.0], [40.1179, -80.4103, 12547600.0], [40.1008, -80.0652, 3570000.0], [39.7555, -79.9771, 15980000.0], [40.1868, -80.0627, 275798800.0], [40.2593, -79.9753, 228248000.0], [40.0026, -79.9981, 9648900.0], [39.8045, -79.9399, 18349800.0], [40.2425, -80.2209, 35888400.0], [39.774, -80.0246, 6117600.0], [40.2928, -80.2003, 5475000.0], [40.0859, -80.0703, 3552000.0], [40.2505, -80.1984, 11996800.0], [40.2755, -80.0598, 742697500.0], [39.8917, -80.1795, 43038100.0], [40.1065, -80.4978, 3998400.0], [39.8897, -79.7282, 377958220.0], [39.8965, -79.922, 9534700.0], [39.7476, -79.3454, 4423500.0], [40.0959, -79.8499, 3900000.0], [40.0237, -79.8839, 37115900.0], [40.0625, -79.8953, 51525100.0], [39.9567, -79.8662, 4953800.0], [40.0973, -79.8839, 35648000.0], [39.8129, -79.3567, 6143700.0], [40.0265, -79.5566, 108073000.0], [40.0638, -79.6602, 29085000.0], [39.9722, -79.6431, 7840000.0], [39.9822, -79.9664, 20140000.0], [40.0797, -79.8758, 4725000.0], [39.8229, -79.7551, 24720700.0], [39.807, -79.5832, 100410000.0], [40.0084, -79.8404, 12505000.0], [39.8728, -79.6568, 64523600.0], [39.9311, -79.6477, 24327000.0], [39.8882, -79.8694, 54604500.0], [39.7597, -79.46, 1925000.0], [39.8424, -79.9003, 29076000.0], [39.968, -79.4622, 17033000.0], [39.9183, -79.7158, 2768300.0], [40.0646, -79.7756, 6715800.0], [39.7351, -79.899, 35583000.0], [39.7923, -79.8127, 11376200.0], [39.9961, -79.7678, 5193500.0], [40.0726, -79.4251, 29700000.0], [40.0248, -79.0808, 27964779.0], [40.046, -79.2585, 16148100.0], [39.9908, -78.5261, 29562700.0], [39.9188, -78.9637, 7632000.0], [40.1918, -79.0362, 11590000.0], [39.922, -78.6996, 1538900.0], [39.8533, -78.4392, 9950000.0], [40.0098, -78.3713, 6065700.0], [40.011, -78.9033, 28864200.0], [39.8646, -79.0616, 1300000.0], [39.8049, -78.7335, 3700600.0], [39.7905, -79.0261, 3066000.0], [40.1254, -78.6184, 5239000.0], [40.0914, -79.0872, 420000.0], [39.9373, -79.1865, 5466000.0], [40.0948, -78.9658, 717600.0], [40.3074, -79.5424, 187266000.0], [40.1201, -79.4051, 15331000.0], [40.5565, -79.5772, 26860800.0], [40.5221, -79.4853, 1305000.0], [40.044, -79.3247, 1755000.0], [40.4139, -79.5764, 10640000.0], [40.0911, -79.5873, 4400000.0], [40.4252, -79.611, 8820000.0], [40.366, -79.6565, 45296000.0], [40.3191, -79.7205, 191168600.0], [40.3295, -79.6144, 22750000.0], [40.2926, -79.4103, 7530300.0], [40.6344, -79.6201, 26606000.0], [40.2431, -79.2375, 46735000.0], [40.1742, -79.5134, 20990600.0], [40.4467, -79.6842, 48655040.0], [40.2192, -79.6095, 17680000.0], [40.593, -79.5581, 13307500.0], [40.5429, -79.3978, 2358000.0], [40.6418, -79.5399, 3750000.0], [40.6196, -79.1596, 133097930.0], [40.6661, -78.792, 14435900.0], [40.9704, -78.8758, 8609000.0], [40.4413, -79.2533, 18557000.0], [40.5891, -78.7037, 4676100.0], [40.7554, -78.8474, 3416200.0], [40.5039, -79.3677, 6597000.0], [40.6688, -79.0119, 1369400.0], [40.4992, -79.1739, 5324100.0], [40.7199, -79.2014, 3021304.0], [40.8508, -78.8555, 5365000.0], [40.7834, -79.1641, 12866100.0], [40.5245, -79.0843, 37847500.0], [40.7876, -78.6514, 2321900.0], [40.7814, -79.0252, 6787900.0], [40.9479, -78.9681, 187426600.0], [40.8846, -78.9414, 16216700.0], [40.6388, -79.3191, 30294900.0], [41.126, -78.7527, 22114582.0], [41.2406, -78.8116, 6610600.0], [41.1627, -79.0816, 34193700.0], [41.3233, -79.1466, 2248200.0], [41.5177, -78.2536, 3570000.0], [41.1455, -78.8128, 15734390.0], [41.4928, -78.6783, 1169000.0], [41.097, -78.8886, 13526700.0], [41.3621, -78.7262, 3956300.0], [41.4289, -78.5505, 9492000.0], [41.3099, -79.054, 5999985.0], [41.1058, -79.1726, 18353500.0], [41.0514, -78.8195, 6605600.0], [40.3078, -78.8969, 17678900.0], [40.285, -78.8654, 113572200.0], [40.3072, -78.943, 184519200.0], [40.3522, -78.9383, 24283200.0], [40.4096, -78.8712, 8825800.0], [40.3173, -78.7009, 2097000.0], [40.5176, -78.8767, 8750000.0], [40.1149, -78.7851, 2906100.0], [40.0913, -78.8448, 25250900.0], [40.4801, -78.7263, 84300900.0], [40.1488, -78.9141, 1300000.0], [40.5105, -78.6294, 4021500.0], [40.4704, -78.8375, 8082400.0], [40.3724, -78.6328, 20825000.0], [40.4099, -79.0232, 5731300.0], [40.3629, -78.7887, 3396600.0], [40.4939, -78.9427, 7875000.0], [40.2287, -78.8303, 34446400.0], [40.8859, -79.934, 58594800.0], [40.8409, -79.8592, 34040460.0], [41.0571, -79.7291, 3380000.0], [40.7924, -79.76, 7367800.0], [40.9458, -79.7462, 12157460.0], [40.9744, -79.6302, 425000.0], [40.7808, -80.0592, 31982300.0], [41.0022, -79.716, 1058000.0], [40.7005, -80.0358, 200874730.0], [41.1009, -79.6889, 42878000.0], [41.0442, -79.7711, 19370000.0], [40.9468, -80.139, 9099000.0], [40.9049, -80.0679, 4788000.0], [40.81, -79.977, 4503300.0], [40.7143, -79.7424, 31462000.0], [41.0454, -80.0468, 11561700.0], [40.7018, -79.9235, 30401182.0], [41.0026, -79.8751, 2945000.0], [40.7609, -80.1094, 24170400.0], [40.685, -80.1071, 133544400.0], [40.9922, -80.3284, 73142382.0], [40.9677, -80.3907, 19702500.0], [41.0241, -80.3454, 100016300.0], [40.9755, -80.4937, 1610000.0], [40.7968, -80.4556, 35656500.0], [41.0276, -80.4632, 3526800.0], [40.8729, -80.2559, 30296700.0], [40.8125, -80.2073, 50750000.0], [41.4057, -80.3739, 9598500.0], [41.1607, -80.0841, 13515000.0], [41.1382, -80.3245, 10164000.0], [41.0942, -80.4685, 4320000.0], [41.2316, -80.4993, 4877300.0], [41.2326, -80.453, 2598700.0], [41.0938, -80.2441, 9168700.0], [40.8819, -80.3392, 8148400.0], [40.9301, -80.3611, 2268500.0], [40.8155, -79.5107, 64029800.0], [41.2123, -79.3773, 67989900.0], [40.8741, -79.2686, 3040000.0], [41.0429, -79.2784, 34215000.0], [40.7384, -79.5122, 23002800.0], [40.7033, -79.663, 18204300.0], [41.0178, -79.2799, 4309200.0], [41.2245, -79.5194, 17606000.0], [41.3671, -79.3022, 7505000.0], [40.7818, -79.5218, 3237300.0], [41.4622, -79.1306, 999700.0], [40.9906, -79.2617, 3600000.0], [40.9999, -79.3527, 8653600.0], [41.0411, -79.5017, 3448500.0], [40.7885, -79.2991, 3637400.0], [40.7774, -79.2336, 5576400.0], [41.2475, -79.4332, 21322100.0], [41.1955, -79.3082, 1737500.0], [40.9419, -79.4499, 8072000.0], [40.8378, -79.6298, 1855000.0], [41.4319, -79.6916, 68729000.0], [41.7302, -79.1719, 476000.0], [41.5205, -80.0573, 8475100.0], [41.6189, -80.3086, 10677000.0], [41.498, -79.8757, 3299880.0], [41.4048, -79.8309, 83336000.0], [41.8117, -79.2643, 2627200.0], [41.3261, -79.4459, 9247500.0], [41.6338, -80.1488, 10287100.0], [41.5867, -79.5685, 8439500.0], [41.3583, -79.9346, 878400.0], [41.411, -79.7493, 720000.0], [41.4717, -79.6881, 3435400.0], [41.9461, -79.1271, 10549000.0], [41.3744, -79.6759, 30076500.0], [41.7005, -79.0348, 1565000.0], [41.9475, -79.3186, 5263200.0], [41.703, -79.3752, 1784100.0], [41.7434, -79.0528, 475300.0], [41.5116, -79.3663, 22030800.0], [41.6382, -79.6855, 17273600.0], [41.4798, -79.9403, 14054000.0], [41.8436, -79.1726, 30414811.0], [41.2848, -79.7393, 4246600.0], [41.8947, -80.3111, 4058082.0], [41.8034, -80.0594, 1375000.0], [41.9382, -79.5731, 4513900.0], [41.7455, -80.3445, 3192000.0], [41.9226, -79.6567, 31552900.0], [41.9162, -80.3085, 4949000.0], [41.9794, -80.4303, 6502800.0], [41.8756, -80.1356, 22721500.0], [42.0407, -80.2395, 92155288.0], [41.9896, -80.3178, 27072300.0], [42.1767, -79.9416, 3446100.0], [42.0204, -80.3388, 3436400.0], [41.6244, -80.4523, 954000.0], [41.999, -80.1473, 7688500.0], [41.8773, -79.9692, 4953200.0], [42.2008, -79.8332, 29391400.0], [41.7268, -80.1479, 700000.0], [41.7936, -79.6849, 1485000.0], [41.8113, -80.3753, 1271200.0], [41.8939, -79.8455, 9880800.0], [41.9603, -79.9996, 40661800.0], [42.0391, -79.8363, 2599700.0], [41.9465, -80.465, 3967500.0], [42.126, -80.086, 1950000.0], [42.1133, -80.0976, 24682300.0], [42.1265, -80.064, 5015976.0], [42.1108, -80.0521, 19532900.0], [42.1109, -80.1534, 64052900.0], [42.0738, -80.1484, 109388592.0], [42.1316, -80.0864, 8887700.0], [42.0976, -80.0935, 39613244.0], [42.0763, -80.0668, 70520700.0], [42.1087, -79.9535, 65727827.0], [42.1553, -80.0177, 49791700.0], [40.5209, -78.4089, 35923700.0], [40.5052, -78.3905, 18091400.0], [40.5485, -78.0951, 3600500.0], [40.6039, -78.3372, 6362000.0], [40.8387, -78.3526, 2295000.0], [40.2821, -78.5083, 3105000.0], [40.4608, -78.5861, 8903400.0], [40.4262, -78.4383, 49797600.0], [40.3282, -78.4475, 13179000.0], [40.6867, -78.4992, 7797000.0], [40.6876, -78.5523, 7126900.0], [40.6659, -78.7029, 4564200.0], [40.4387, -78.3686, 109288775.0], [40.8305, -78.3618, 12370700.0], [40.5023, -78.005, 28328483.0], [40.3567, -78.1887, 18970000.0], [40.8271, -78.4275, 3410000.0], [40.8722, -78.2757, 10454000.0], [40.1695, -78.5203, 5229000.0], [40.623, -78.635, 2036600.0], [40.603, -77.9984, 4407000.0], [40.8015, -78.3998, 3045000.0], [40.3277, -78.3928, 7221000.0], [40.2233, -78.2471, 4417400.0], [40.6218, -78.1361, 4875000.0], [40.271, -78.0772, 12536700.0], [40.6619, -78.2419, 31640000.0], [40.1276, -78.0628, 2560000.0], [40.2185, -78.3666, 6300000.0], [41.9547, -78.654, 28165500.0], [41.6296, -78.0908, 7506000.0], [41.6619, -78.7978, 3965000.0], [41.8169, -78.2799, 1280000.0], [41.9572, -78.1906, 8543900.0], [41.8847, -78.3308, 1708200.0], [40.7925, -77.8523, 589204000.0], [40.8082, -77.8926, 433467800.0], [40.8987, -77.4562, 8444984.0], [40.967, -78.2014, 4417400.0], [41.0845, -77.5851, 18279400.0], [40.8978, -77.7732, 202972100.0], [40.9848, -78.3064, 3507400.0], [41.0642, -77.5978, 3373500.0], [40.7793, -77.7822, 44776300.0], [40.8254, -77.6742, 86182300.0], [41.0585, -77.9312, 2417800.0], [41.021, -78.4435, 54779700.0], [40.966, -78.5272, 9400500.0], [41.0242, -78.1083, 5397600.0], [41.1038, -78.2345, 1725000.0], [40.9818, -78.5949, 3117400.0], [41.0036, -78.1104, 2925625.0], [41.0203, -77.6702, 38515800.0], [40.8917, -77.9332, 25717300.0], [41.1136, -78.0875, 6450900.0], [40.9605, -78.1144, 3975000.0], [40.8082, -77.8125, 5428500.0], [40.9417, -77.785, 3895000.0], [40.8935, -77.4733, 4288700.0], [41.0001, -78.2357, 15077400.0], [41.0342, -78.0095, 1343000.0], [40.9056, -78.5001, 7947000.0], [40.71, -77.996, 22811200.0], [40.8863, -78.219, 66843876.0], [40.8018, -78.0788, 94440600.0], [41.0376, -77.9523, 4177800.0], [40.8578, -77.574, 54367000.0], [40.7414, -78.0775, 73294900.0], [40.9493, -78.3129, 1822500.0], [41.0098, -78.3214, 8796700.0], [41.7373, -77.308, 42524904.0], [41.6698, -77.0797, 12806300.0], [41.8638, -76.7825, 9885094.0], [41.7762, -77.9567, 36917900.0], [41.7448, -77.0772, 2699000.0], [41.9882, -77.3134, 15173435.0], [41.7471, -77.568, 3800000.0], [41.723, -77.6548, 8536100.0], [41.9401, -77.8725, 11325600.0], [41.9568, -76.7713, 7439100.0], [41.9587, -77.6587, 6863600.0], [41.9596, -77.4357, 6414200.0], [41.9783, -77.1136, 6117900.0], [41.5656, -77.1195, 1625000.0], [41.784, -76.9983, 4582000.0], [41.8123, -77.0716, 43285700.0], [41.8664, -77.3128, 7337960.0], [41.9625, -76.9748, 8640600.0], [41.9656, -77.7111, 3152500.0], [41.5475, -77.292, 2249100.0], [41.9125, -77.1393, 7220300.0], [41.7781, -76.7711, 11570000.0], [41.8459, -77.7126, 809010.0], [41.9193, -77.523, 22620400.0], [40.3456, -76.5447, 34031700.0], [40.6016, -77.7358, 19275500.0], [40.1449, -77.1195, 6469100.0], [40.6361, -77.5625, 10028500.0], [40.2352, -76.9291, 76880426.0], [40.2417, -77.1983, 84802195.0], [40.1772, -77.2312, 58108500.0], [40.6483, -76.8797, 2484930.0], [40.3846, -76.9283, 10710600.0], [40.0964, -77.0339, 25130700.0], [40.4087, -77.0473, 17480000.0], [40.1553, -76.6025, 115153900.0], [40.555, -76.8355, 38344400.0], [40.4096, -77.3121, 6767600.0], [40.2922, -76.9432, 51538109.0], [40.4524, -76.4267, 17804000.0], [40.3606, -76.6713, 399200.0], [40.476, -76.894, 24526400.0], [40.2638, -76.6545, 119515316.0], [40.2083, -76.7853, 10993600.0], [40.2782, -76.7094, 120302705.0], [40.4363, -77.397, 3508700.0], [40.4361, -76.5038, 25387100.0], [40.3326, -77.3191, 7127900.0], [40.3316, -76.3976, 188222556.0], [40.2469, -76.9001, 20950150.0], [40.5994, -77.5756, 63524500.0], [40.5753, -77.0083, 16146800.0], [40.3812, -76.4368, 62818745.0], [40.3658, -77.4138, 6126300.0], [40.5909, -76.7074, 3821100.0], [40.2122, -77.0265, 139563750.0], [40.5046, -77.7186, 5760000.0], [40.3864, -77.9604, 15372000.0], [40.3351, -76.9722, 27116368.0], [40.179, -77.0036, 71875400.0], [40.2041, -76.7331, 42137955.0], [40.5727, -77.3761, 6257000.0], [40.5587, -76.9305, 111631485.0], [40.5505, -77.1298, 18016000.0], [40.7203, -77.5567, 1330000.0], [40.2476, -76.4711, 36302600.0], [40.1115, -77.1902, 13855850.0], [40.3901, -77.8637, 15211200.0], [40.3789, -76.3143, 27712600.0], [40.4193, -77.1938, 17264200.0], [40.2151, -76.8689, 27165500.0], [40.3495, -76.2133, 14642100.0], [40.4827, -77.1659, 5095600.0], [40.3011, -76.5886, 65653595.0], [40.6722, -77.6116, 19298000.0], [40.6884, -77.1223, 6449000.0], [40.3806, -76.2654, 13462100.0], [40.2984, -76.2944, 6487000.0], [40.3299, -77.1809, 19071100.0], [40.5908, -77.2076, 1330000.0], [40.5808, -76.6223, 7420900.0], [40.6431, -77.5805, 6847200.0], [40.2618, -76.8831, 6930000.0], [40.2728, -76.891, 21007687.0], [40.2724, -76.861, 33439745.0], [40.2597, -76.8594, 23841405.0], [40.291, -76.8203, 30904300.0], [40.303, -76.8862, 45893893.0], [40.2721, -76.8017, 76321875.0], [40.3352, -76.7914, 91164185.0], [40.239, -76.8416, 26830350.0], [39.9313, -77.6579, 63839389.0], [39.9072, -77.636, 91283200.0], [39.7575, -78.4031, 5168900.0], [39.7399, -77.4707, 3887000.0], [40.2184, -77.6797, 1607700.0], [39.9065, -77.531, 58377780.0], [39.9547, -77.8984, 11334000.0], [39.7818, -77.747, 44168988.0], [39.9443, -77.9901, 16386279.0], [39.8195, -77.9073, 15241100.0], [39.8417, -77.5537, 6886000.0], [39.8713, -78.1439, 7610000.0], [40.1333, -77.5669, 18039800.0], [40.1855, -77.4114, 12171892.0], [39.9241, -77.7908, 17473000.0], [40.173, -77.868, 22330700.0], [40.0514, -77.5195, 98866500.0], [40.1834, -77.9941, 14665900.0], [40.086, -77.409, 3279200.0], [39.7698, -78.1986, 29987800.0], [39.7635, -77.5674, 67149540.0], [39.8881, -76.9931, 25279891.0], [39.821, -76.4012, 12155100.0], [39.9765, -77.2287, 3524400.0], [39.9281, -77.2885, 93657300.0], [39.8608, -76.4673, 2318400.0], [39.9124, -76.6535, 73270688.0], [39.7518, -76.3441, 41330015.0], [40.0062, -76.8555, 79093586.0], [39.9645, -77.0073, 34374425.0], [40.1545, -76.8019, 33513700.0], [39.7808, -77.3619, 80790590.0], [39.751, -76.4392, 14700000.0], [39.836, -76.5937, 36744700.0], [40.0428, -77.1877, 3604350.0], [39.832, -77.2223, 103022050.0], [39.7813, -76.7477, 75502528.0], [39.757, -76.8153, 21610900.0], [39.7943, -76.9812, 256486071.0], [40.1463, -76.87, 32360640.0], [39.7495, -77.1003, 49321875.0], [39.8692, -77.3292, 1619100.0], [39.801, -77.0229, 1365000.0], [40.0695, -76.7332, 29065193.0], [40.0711, -76.6966, 23418300.0], [39.7423, -76.6841, 40287600.0], [39.8775, -77.0643, 17176200.0], [39.76, -76.5042, 22000000.0], [39.881, -77.3806, 34159600.0], [39.9026, -76.6081, 152097350.0], [39.8556, -76.7383, 74965941.0], [39.7601, -76.6748, 91384400.0], [39.8572, -76.8774, 75508220.0], [39.772, -76.597, 132942914.0], [39.9346, -76.8822, 18179300.0], [40.0557, -76.9443, 12618700.0], [39.9233, -76.5591, 26256000.0], [39.9966, -76.527, 23322350.0], [40.1222, -76.7737, 21752900.0], [40.0084, -77.1061, 4938800.0], [39.9635, -76.7269, 45399950.0], [39.959, -76.6592, 200632500.0], [39.9494, -76.713, 161746391.0], [40.0023, -76.7712, 150200295.0], [40.0046, -76.5947, 163359296.0], [39.8833, -76.712, 14891300.0], [39.9492, -76.8018, 98780603.0], [40.1573, -76.2042, 40564800.0], [40.1086, -76.6726, 11822800.0], [40.0561, -76.183, 40290000.0], [40.124, -76.2176, 10805000.0], [39.904, -76.0401, 31621010.0], [40.0391, -76.4862, 59377564.0], [39.9403, -76.3575, 12979800.0], [40.2297, -76.1157, 167465000.0], [39.8183, -76.2499, 8358000.0], [40.1395, -76.0276, 29672100.0], [40.1008, -76.3512, 43256000.0], [40.1756, -76.1821, 167552727.0], [40.002, -75.9978, 39695981.0], [40.0353, -76.1106, 39131900.0], [39.8631, -76.3008, 35307900.0], [40.0053, -76.0493, 20728300.0], [39.8257, -76.0933, 6787300.0], [40.0892, -76.4156, 45203900.0], [40.0964, -76.1921, 93752400.0], [40.1846, -76.3015, 484902185.0], [40.1702, -76.4168, 168789800.0], [40.0664, -76.5645, 50248250.0], [39.9982, -76.3566, 72375100.0], [40.1083, -76.5103, 67373466.0], [40.0427, -76.4277, 22936700.0], [40.1252, -75.9756, 28000100.0], [40.1005, -76.0801, 67477100.0], [39.9098, -76.2243, 20588100.0], [39.9852, -76.1081, 24940000.0], [39.7705, -76.1791, 33862100.0], [39.9058, -76.3209, 18350900.0], [39.8949, -76.1465, 85181200.0], [40.2688, -76.1013, 22671000.0], [40.0208, -76.1661, 49066800.0], [40.2194, -76.1626, 52580820.0], [39.9701, -76.1848, 32502980.0], [40.1585, -76.0511, 5600000.0], [39.9881, -76.4402, 4350500.0], [39.967, -76.2752, 83673500.0], [40.0766, -76.3107, 503596490.0], [40.0335, -76.2844, 494297300.0], [40.0091, -76.3671, 680248300.0], [41.2412, -77.0011, 39814990.0], [41.1943, -77.0547, 8124091.0], [41.186, -77.3162, 2472800.0], [41.6538, -76.8582, 9082300.0], [41.3152, -77.069, 8468900.0], [41.256, -76.7141, 3228100.0], [41.247, -77.2706, 22243800.0], [41.1425, -77.4436, 62518600.0], [41.0283, -77.3204, 11534400.0], [41.0867, -77.4836, 29395800.0], [41.1788, -76.8839, 6521700.0], [41.2663, -76.903, 17136500.0], [41.2137, -76.7633, 21644500.0], [41.3334, -77.7448, 5932890.0], [41.5692, -76.9421, 9840700.0], [41.5536, -76.7455, 2468700.0], [41.4125, -77.0098, 3150000.0], [41.1119, -76.7425, 24828300.0], [41.2436, -76.5183, 1888600.0], [41.3114, -77.3604, 3974600.0], [41.102, -76.8532, 25997500.0], [40.8551, -76.7776, 13201000.0], [40.7528, -77.2318, 6254100.0], [40.7774, -77.1691, 11400000.0], [41.2231, -76.3406, 23889800.0], [41.0115, -76.4384, 138090100.0], [40.918, -76.4416, 45170400.0], [40.9799, -76.6229, 178225900.0], [40.765, -76.9395, 6009900.0], [40.7933, -76.4744, 2458200.0], [40.9702, -76.9099, 119398750.0], [40.6991, -77.3758, 4474000.0], [40.7977, -77.0468, 15000000.0], [40.9218, -77.0505, 57113500.0], [40.8803, -77.1941, 3078600.0], [41.1261, -76.5208, 1428000.0], [41.0168, -76.8398, 17370800.0], [40.7955, -76.4195, 2337800.0], [40.7237, -77.0135, 6998800.0], [40.8802, -76.9861, 6413300.0], [41.0541, -76.9019, 7024000.0], [40.9044, -76.7908, 11745300.0], [41.1016, -76.381, 7789600.0], [40.7917, -76.5519, 6966380.0], [40.8224, -76.8683, 59231200.0], [40.789, -76.5588, 20896700.0], [40.8459, -76.8224, 4318200.0], [40.7819, -76.6702, 13812000.0], [41.0179, -76.8708, 2975000.0], [40.8121, -76.3929, 2996000.0], [40.8908, -76.8718, 38892000.0], [40.684, -76.2123, 131707156.0], [40.7732, -76.343, 31355200.0], [40.5962, -76.1344, 42519700.0], [40.7114, -76.1392, 5015800.0], [40.7825, -76.2311, 24809000.0], [40.7922, -76.2858, 2254100.0], [40.6669, -76.4732, 14697900.0], [40.6729, -76.2791, 1247500.0], [40.8123, -76.1396, 8768965.0], [40.794, -76.2433, 700000.0], [40.6904, -76.2597, 18146500.0], [40.7195, -76.1158, 23456400.0], [40.7149, -75.9484, 52609200.0], [40.6431, -76.084, 85503800.0], [40.5671, -76.3269, 13476400.0], [40.7049, -76.5233, 13473000.0], [40.6977, -76.166, 16919300.0], [40.8559, -76.2349, 6765000.0], [40.6352, -76.6128, 2590000.0], [40.7193, -76.1924, 10155800.0], [40.6306, -76.17, 79701064.0], [40.6954, -76.2338, 2400000.0], [40.8167, -76.2035, 17051464.0], [40.6258, -76.6218, 1199980.0], [40.5845, -76.55, 3864100.0], [40.6343, -76.3905, 10158975.0], [40.6445, -76.5448, 1947400.0], [40.9141, -76.1931, 8625000.0], [40.5145, -75.6029, 30109700.0], [40.853, -75.1718, 67972600.0], [40.7551, -75.4086, 48606100.0], [40.6002, -75.3805, 227468484.0], [40.6622, -75.3903, 93977300.0], [40.6278, -75.3928, 80274000.0], [40.6693, -75.3349, 109084650.0], [40.5526, -75.6553, 39532200.0], [40.6557, -75.4693, 18305000.0], [40.5396, -75.4242, 39658000.0], [40.5076, -75.3888, 177233900.0], [40.6701, -75.4955, 4942500.0], [40.7866, -75.5186, 2559200.0], [40.7449, -75.2217, 59294200.0], [40.4119, -75.5056, 65081900.0], [40.6516, -75.224, 45359191.0], [40.6957, -75.2865, 70771360.0], [40.5293, -75.501, 115801280.0], [40.6567, -75.5041, 113321200.0], [40.7118, -75.7147, 24062300.0], [40.3534, -75.4351, 57759000.0], [40.5817, -75.3255, 61950000.0], [40.4491, -75.5491, 35134300.0], [40.8999, -75.476, 67610917.0], [40.5285, -75.5666, 99440574.0], [40.745, -75.3199, 59458800.0], [40.6545, -75.7417, 21520000.0], [40.6998, -75.4874, 77449391.0], [40.6248, -75.5974, 20114300.0], [40.817, -75.6011, 44085700.0], [40.8518, -75.2701, 28238800.0], [40.3911, -75.4866, 205271790.0], [40.3157, -75.5022, 59135500.0], [40.3758, -75.4846, 11196200.0], [40.5782, -75.2191, 27329000.0], [40.6819, -75.6239, 56368100.0], [40.7345, -75.6186, 51024200.0], [40.5482, -75.5961, 3555000.0], [40.7615, -75.5657, 32574800.0], [40.8169, -75.3264, 23108800.0], [40.4734, -75.5261, 23145800.0], [40.6026, -75.4691, 9434200.0], [40.6068, -75.4781, 129789573.0], [40.5891, -75.4645, 185398800.0], [40.6018, -75.5225, 195930174.0], [40.5824, -75.5911, 16837400.0], [40.6366, -75.4405, 18970379.0], [40.9488, -75.9563, 81372100.0], [40.9506, -76.0487, 78617200.0], [40.9748, -75.5842, 175040500.0], [40.7465, -75.8342, 10150000.0], [40.8138, -76.0611, 20540000.0], [41.0255, -75.9768, 75033000.0], [41.0196, -75.888, 12058500.0], [40.87, -75.7397, 47927250.0], [40.9002, -76.0054, 3747500.0], [40.8314, -75.8828, 7397184.0], [40.8299, -75.6974, 65393550.0], [40.8979, -75.9971, 4500000.0], [40.8626, -75.8239, 11707600.0], [40.902, -76.1188, 5075000.0], [40.9971, -76.0717, 18678000.0], [40.8255, -75.8693, 11804600.0], [40.7983, -75.9735, 77109700.0], [40.9411, -75.8306, 7587500.0], [41.0367, -75.1735, 260192054.0], [41.0936, -75.1187, 221952079.0], [41.008, -75.2967, 20872800.0], [41.1285, -75.0132, 187390909.0], [41.2338, -75.2573, 16708500.0], [41.154, -75.2805, 77688500.0], [41.24, -74.938, 67774687.0], [40.9669, -75.4523, 118198989.0], [40.9089, -75.4314, 3312000.0], [41.0889, -75.2798, 60070500.0], [40.8982, -75.5074, 6789000.0], [41.0677, -75.4482, 82868189.0], [41.3674, -74.7154, 28735700.0], [41.3228, -74.8824, 139136400.0], [40.9008, -75.1115, 39748400.0], [41.1216, -75.3529, 47263942.0], [41.1353, -75.4079, 38828190.0], [41.1187, -75.5559, 67606194.0], [41.1054, -75.476, 37213400.0], [40.8965, -75.367, 100604289.0], [40.9257, -75.325, 6598800.0], [41.0751, -75.3265, 24114700.0], [41.2336, -75.2389, 8400000.0], [40.9877, -75.2485, 291469199.0], [41.0879, -75.3483, 7584991.0], [41.1423, -75.0271, 9467498.0], [41.0472, -75.3244, 141471680.0], [41.4876, -75.5334, 38352288.0], [41.6034, -75.1165, 43436000.0], [41.5831, -75.5056, 55756000.0], [41.4878, -75.7057, 156157500.0], [41.5395, -75.7037, 37603300.0], [41.7366, -75.1312, 18184000.0], [41.8117, -75.1891, 17153300.0], [41.5762, -75.7652, 36526400.0], [41.6515, -75.4666, 30540500.0], [41.2448, -75.5037, 58147300.0], [41.4372, -75.0125, 21739800.0], [41.3321, -75.2819, 80022800.0], [41.4787, -75.1978, 186798134.0], [41.5792, -75.2528, 107283900.0], [41.5744, -75.5881, 22840800.0], [41.4724, -75.5689, 2148000.0], [41.482, -74.986, 96685300.0], [41.4395, -75.4313, 204723306.0], [41.8666, -75.3231, 3559000.0], [41.4223, -75.2607, 55346620.0], [41.8171, -75.3838, 9540000.0], [41.667, -75.1185, 15012000.0], [41.3432, -75.5301, 40678485.0], [41.3041, -75.3384, 22723392.0], [41.6412, -75.7641, 22440100.0], [41.4677, -75.6015, 31298200.0], [41.3962, -75.1963, 10845300.0], [41.4821, -75.5899, 12597800.0], [41.7322, -75.3989, 16161000.0], [41.4182, -74.918, 30084900.0], [41.2643, -75.348, 1200000.0], [41.9251, -75.3212, 6055000.0], [41.3412, -75.3899, 3411000.0], [41.4045, -75.183, 40661093.0], [41.834, -75.5342, 7115000.0], [41.1836, -75.3918, 227261829.0], [41.7011, -75.1422, 24356900.0], [41.7079, -75.5465, 33446984.0], [41.5703, -75.4065, 43044779.0], [41.4128, -75.6861, 65820395.0], [41.3914, -75.6657, 27549100.0], [41.3554, -75.6805, 34101600.0], [41.4389, -75.6625, 43759440.0], [41.4274, -75.6465, 69450250.0], [41.408, -75.6484, 30609965.0], [41.435, -75.6103, 47327800.0], [41.3904, -75.7158, 12086355.0], [41.3701, -75.7391, 21869300.0], [41.4092, -75.6649, 12774000.0], [41.0665, -76.2443, 47838686.0], [41.0485, -75.5343, 63640890.0], [41.3494, -75.9834, 76256245.0], [41.5232, -76.4021, 3235000.0], [41.1746, -76.0746, 3369988.0], [41.3592, -76.0451, 6223000.0], [41.6662, -76.1426, 9927000.0], [41.0542, -75.6331, 76816600.0], [41.5587, -76.1035, 2839000.0], [41.6392, -76.0155, 4386000.0], [41.0323, -76.308, 12764900.0], [41.1963, -76.0044, 4747968.0], [41.0469, -76.1981, 13924300.0], [41.4181, -76.046, 1666000.0], [41.3175, -75.7885, 9931600.0], [41.3361, -75.7304, 3778400.0], [41.3486, -75.7611, 5574400.0], [41.3665, -75.8362, 11339980.0], [41.2458, -75.9481, 12800000.0], [41.1513, -76.1081, 8786000.0], [41.3066, -76.1339, 10690000.0], [41.5387, -75.9466, 67651800.0], [41.068, -76.0857, 698600.0], [41.079, -75.7715, 14565800.0], [41.2436, -75.885, 1758900.0], [41.2208, -75.7736, 27215506.0], [41.2742, -75.8903, 13835600.0], [41.2689, -75.8453, 7909200.0], [41.2044, -75.9113, 5028900.0], [41.135, -75.9376, 18296800.0], [41.2998, -75.9711, 5748000.0], [41.2843, -75.8935, 4353700.0], [41.8396, -75.8821, 20016500.0], [41.949, -76.4889, 20675200.0], [41.9164, -76.0257, 3920000.0], [41.9717, -75.7432, 1030500.0], [41.9598, -75.7826, 509700.0], [41.7659, -75.7831, 5719000.0], [41.8434, -76.1796, 3315000.0], [41.9766, -76.1185, 19378100.0], [41.7135, -76.4872, 3360000.0], [41.5987, -76.4398, 3419000.0], [41.8664, -75.7171, 24447600.0], [41.8634, -76.3015, 9954984.0], [41.9842, -76.5218, 71050681.0], [41.7147, -75.9025, 1652000.0], [41.9487, -75.5862, 2017500.0], [41.7638, -76.4645, 19247000.0], [41.8408, -76.4876, 8393981.0], [41.9394, -76.1964, 1875000.0], [41.7015, -76.2754, 10650000.0], [41.7826, -76.3834, 2320000.0], [40.3054, -75.1489, 336338552.0], [40.3477, -75.0968, 376652998.0], [40.3865, -75.0627, 8290000.0], [40.2892, -75.2149, 442688120.0], [40.2728, -75.2563, 41206000.0], [40.375, -75.2045, 24329000.0], [40.5087, -75.0804, 15290000.0], [40.2945, -75.0649, 122001500.0], [40.2566, -75.0961, 51063200.0], [40.531, -75.2117, 7530000.0], [40.2888, -75.2555, 18104700.0], [40.2241, -75.231, 8333500.0], [40.3556, -74.9839, 723289642.0], [40.263, -74.9555, 391258993.0], [40.4592, -75.157, 42797700.0], [40.3765, -75.2648, 330759650.0], [40.4262, -75.1074, 111326191.0], [40.4411, -75.3507, 458902724.0], [40.2167, -75.0029, 74555995.0], [40.362, -75.319, 160499800.0], [40.2884, -75.341, 189648640.0], [40.1868, -75.0071, 134243500.0], [40.3205, -75.352, 232474360.0], [40.5411, -75.1259, 31103200.0], [40.2067, -75.0905, 265681315.0], [40.2464, -75.1354, 144866191.0], [40.2849, -74.8778, 51792800.0], [40.1238, -75.1148, 86742879.0], [40.1809, -75.2156, 666708128.0], [40.002, -75.2966, 159852989.0], [40.0118, -75.2342, 78267000.0], [40.1284, -75.0607, 226827700.0], [40.1159, -74.8536, 29891896.0], [39.9747, -75.3602, 218535580.0], [40.0236, -75.3295, 341513483.0], [40.0603, -75.1048, 32122600.0], [39.8498, -75.3747, 77671438.0], [39.8643, -75.4332, 128926134.0], [39.8654, -75.3885, 101142787.0], [39.9218, -75.2876, 142625107.0], [40.1109, -74.9378, 53195099.0], [40.0933, -74.8991, 13887700.0], [39.8685, -75.3374, 16873800.0], [39.9176, -75.2696, 81039406.0], [40.1431, -75.1624, 48693600.0], [39.9503, -75.304, 254313921.0], [40.075, -75.1315, 189523090.0], [39.8621, -75.2971, 16961000.0], [40.1748, -74.8519, 4379700.0], [40.1068, -75.2115, 62332300.0], [39.8905, -75.2821, 26126000.0], [39.8901, -75.3296, 51308800.0], [40.1386, -75.2022, 126080100.0], [40.0451, -75.2821, 237985700.0], [39.9048, -75.2946, 54796396.0], [40.1096, -75.155, 343639616.0], [40.1785, -75.1072, 99367980.0], [40.0097, -75.3121, 136536000.0], [39.9003, -75.3087, 7693000.0], [40.1821, -75.1479, 87363700.0], [40.098, -75.1078, 181916010.0], [40.1813, -74.9104, 52951298.0], [39.9375, -75.2637, 124764750.0], [40.1547, -74.9904, 50961699.0], [40.1681, -74.8231, 8223600.0], [40.1483, -74.8371, 22821800.0], [40.1519, -74.8826, 17781600.0], [40.1434, -74.8614, 16756500.0], [39.852, -75.5007, 109546700.0], [39.8295, -75.4354, 95830278.0], [39.9188, -75.3991, 539692996.0], [39.9296, -75.3338, 209862500.0], [40.003, -75.2503, 98731000.0], [40.2084, -74.8291, 105663796.0], [39.9063, -75.3238, 45655592.0], [40.0177, -75.2594, 237533100.0], [39.9863, -75.407, 1022312038.0], [39.887, -75.2972, 28203854.0], [40.1132, -75.1869, 31414400.0], [39.8857, -75.3082, 33254700.0], [39.8784, -75.3215, 45405500.0], [39.9035, -75.2695, 31870100.0], [39.8967, -75.3474, 60390600.0], [39.9579, -75.2681, 173756824.0], [39.9774, -75.3106, 272744697.0], [40.0399, -75.3459, 316592000.0], [39.8871, -75.3721, 134862600.0], [40.0612, -75.3999, 462416777.0], [40.1567, -75.1269, 96983280.0], [39.876, -75.3463, 14277000.0], [40.0867, -75.1524, 44316200.0], [40.0, -75.276, 238459696.0], [39.9489, -75.1661, 37300000.0], [39.9513, -75.1741, 175030500.0], [39.9597, -75.2024, 149164172.0], [39.9474, -75.1473, 274403600.0], [39.9487, -75.1593, 83093000.0], [40.0596, -75.0818, 292293567.0], [40.0634, -74.999, 89951700.0], [40.0903, -75.041, 90036700.0], [40.1166, -75.0198, 68440075.0], [40.0723, -75.2034, 235926600.0], [40.0547, -75.1866, 191405516.0], [40.0343, -75.1213, 229313898.0], [39.9811, -75.174, 328702773.0], [39.978, -75.1459, 224054050.0], [39.966, -75.151, 349471468.0], [40.0178, -75.0895, 266055358.0], [39.9788, -75.1262, 585255598.0], [40.0568, -75.1379, 62348600.0], [40.0275, -75.2242, 135093090.0], [40.0402, -75.2231, 449394385.0], [40.0118, -75.1861, 47566600.0], [39.9677, -75.1735, 372736000.0], [39.9845, -75.2282, 171340245.0], [39.9954, -75.1698, 75120393.0], [39.9925, -75.1415, 73524500.0], [39.9925, -75.1133, 340733361.0], [40.0247, -75.0518, 139143923.0], [40.0422, -75.0244, 129401146.0], [40.0008, -75.0727, 65509697.0], [40.0568, -75.1569, 145784000.0], [39.9612, -75.2303, 172456499.0], [40.0118, -75.1456, 93833312.0], [40.0365, -75.1451, 98891365.0], [39.9223, -75.2338, 138516962.0], [39.9448, -75.2288, 346125761.0], [40.0338, -75.1731, 185727757.0], [39.9227, -75.1812, 605666389.0], [39.9379, -75.1794, 1320336695.0], [39.9362, -75.1563, 877002346.0], [39.9207, -75.1595, 613271895.0], [40.0369, -75.0664, 201423810.0], [40.0726, -75.1706, 101585508.0], [39.9772, -75.2545, 142780011.0], [40.0606, -75.0471, 151037984.0], [39.9055, -75.2444, 56442300.0], [40.0897, -74.9781, 74335494.0], [40.0426, -75.4827, 161610900.0], [39.9458, -75.9703, 26340500.0], [39.8219, -75.7687, 148869800.0], [40.0412, -75.4475, 361599500.0], [39.8648, -75.5885, 496683685.0], [39.9209, -75.5222, 10452112.0], [39.9843, -75.8253, 682323860.0], [39.8757, -75.9214, 73899200.0], [40.0452, -75.4227, 81671000.0], [40.0161, -75.7183, 760309715.0], [40.0468, -75.6432, 149999600.0], [39.9015, -75.5049, 268161974.0], [40.0846, -75.7711, 87055600.0], [40.0832, -75.8843, 67798400.0], [39.855, -75.7, 569056320.0], [39.7696, -75.7807, 129318900.0], [39.7787, -75.8876, 72943884.0], [40.0468, -75.531, 1018148093.0], [39.7441, -76.0356, 47103600.0], [39.7827, -75.9815, 76128900.0], [39.9654, -75.926, 11057000.0], [39.9984, -75.759, 8280000.0], [39.8315, -75.7574, 1798800.0], [39.9845, -75.5962, 773804771.0], [39.9441, -75.5882, 836814600.0], [39.8253, -75.8374, 181707500.0], [40.1245, -75.3304, 283996379.0], [40.1496, -75.3796, 450357740.0], [40.103, -75.3402, 44854252.0], [40.0956, -75.3737, 173088400.0], [40.1576, -75.2799, 528182355.0], [40.0978, -75.6398, 308584474.0], [40.1913, -75.4373, 506541372.0], [40.0825, -75.3044, 274693190.0], [40.2659, -75.3883, 242542202.0], [40.2778, -75.2975, 243437082.0], [40.0896, -75.2601, 104001000.0], [40.2378, -75.2955, 801732640.0], [40.1364, -75.4999, 11213600.0], [40.2166, -75.2565, 349070938.0], [40.1267, -75.5272, 531982856.0], [40.1077, -75.2796, 162416100.0], [40.2635, -75.6172, 486418973.0], [40.1919, -75.6653, 164040277.0], [40.2075, -75.5329, 312613300.0], [40.2471, -75.4602, 366736405.0], [40.2251, -75.4031, 9904000.0], [40.1765, -75.5697, 94293100.0], [40.2901, -75.503, 13392900.0], [40.405, -75.5769, 6957600.0], [40.3815, -75.5749, 62029000.0], [40.3795, -75.6257, 50528700.0], [40.4551, -76.1247, 20646908.0], [40.4808, -76.2742, 12560000.0], [40.2563, -75.8344, 39593000.0], [40.4435, -75.8837, 24918500.0], [40.3339, -75.6604, 114126200.0], [40.2709, -75.7397, 156963800.0], [40.1568, -75.7866, 51718883.0], [40.4473, -75.8185, 115621800.0], [40.3059, -75.5953, 199639640.0], [40.5488, -75.9874, 82578500.0], [40.6328, -75.8513, 39057200.0], [40.5214, -75.7774, 90632400.0], [40.4152, -75.9944, 17593300.0], [40.5736, -75.865, 10188200.0], [40.4992, -75.6872, 78184800.0], [40.2584, -75.9833, 67637900.0], [40.4783, -76.0125, 41649900.0], [40.1552, -75.8998, 60569700.0], [40.3833, -75.7706, 34584609.0], [40.3553, -76.1366, 13234655.0], [40.4955, -75.9603, 25608100.0], [40.4025, -75.9046, 56108500.0], [40.5029, -75.7015, 3462900.0], [40.3293, -76.0901, 26529100.0], [40.3743, -76.1985, 32676500.0], [40.3466, -75.9351, 55615500.0], [40.3306, -75.9192, 27867800.0], [40.3507, -75.9143, 92842100.0], [40.3886, -75.9328, 108463200.0], [40.3351, -75.875, 232188901.0], [40.2995, -75.9876, 84826400.0], [40.3113, -76.0345, 151907800.0], [40.328, -75.9908, 57596050.0], [40.338, -75.978, 152642985.0], [40.325, -75.9442, 13829400.0], [39.6102, -75.6747, 367128985.0], [39.6349, -75.6993, 323053918.0], [39.8044, -75.4649, 87438307.0], [39.5725, -75.5957, 12281400.0], [39.776, -75.6889, 172962800.0], [39.4815, -75.6832, 679026585.0], [39.7011, -75.7375, 267923787.0], [39.6699, -75.7151, 103969666.0], [39.5929, -75.6515, 296882400.0], [39.4592, -75.6536, 9735000.0], [39.5129, -75.5852, 1036000.0], [39.3819, -75.6834, 126574000.0], [39.7378, -75.5497, 47469485.0], [39.7564, -75.534, 193666033.0], [39.7994, -75.5317, 222041257.0], [39.7168, -75.6184, 78844800.0], [39.7434, -75.5827, 251376307.0], [39.7571, -75.5635, 205040000.0], [39.7949, -75.6161, 493099564.0], [39.7359, -75.6647, 272434019.0], [39.7647, -75.5069, 106801499.0], [39.8188, -75.5064, 140066533.0], [39.1564, -75.4955, 204593863.0], [39.1605, -75.5974, 185515300.0], [38.531, -75.0674, 59728143.0], [38.7366, -75.6088, 34761805.0], [39.0991, -75.5966, 128434300.0], [39.2184, -75.5848, 429000.0], [39.2564, -75.6904, 46021900.0], [38.5596, -75.2113, 12876500.0], [38.477, -75.5759, 22268300.0], [38.8057, -75.4056, 3598956.0], [39.0225, -75.5829, 151761849.0], [38.4865, -75.0589, 33719697.0], [38.5177, -75.2006, 23961600.0], [39.0342, -75.4545, 22613800.0], [38.679, -75.3932, 26951434.0], [38.8175, -75.5935, 18165395.0], [38.6723, -75.2236, 9407957.0], [38.924, -75.5843, 50011500.0], [39.1542, -75.6935, 18936000.0], [38.9114, -75.5064, 7830000.0], [38.5537, -75.5631, 23609600.0], [38.7381, -75.1747, 65774204.0], [38.8613, -75.4, 21650724.0], [39.0735, -75.5083, 136186759.0], [38.9218, -75.4299, 64042754.0], [39.0998, -75.7287, 8134900.0], [38.6595, -75.2464, 112154794.0], [38.5496, -75.1232, 10477100.0], [38.7687, -75.2953, 29662749.0], [38.5617, -75.0966, 39571866.0], [38.7209, -75.076, 45148350.0], [38.6404, -75.6041, 49734800.0], [38.4654, -75.1573, 58649647.0], [39.2934, -75.6008, 231699271.0], [39.0419, -75.5726, 12628100.0], [38.9122, -77.0177, 2128271652.0], [38.9024, -76.9901, 3267000257.0], [38.8829, -76.9895, 2390690999.0], [38.9067, -77.0312, 48000000.0], [38.9144, -77.074, 7321141700.0], [38.9363, -77.0599, 3865793967.0], [38.9202, -77.0375, 1685459200.0], [38.9327, -77.0322, 1534053500.0], [38.9518, -77.0203, 2182450531.0], [38.9757, -77.0282, 607697200.0], [38.9658, -77.068, 1359832000.0], [38.9381, -77.086, 3592370710.0], [38.9367, -76.994, 919814811.0], [38.9277, -76.9762, 940076739.0], [38.8902, -76.9376, 1569673460.0], [38.86, -76.9742, 1293552541.0], [38.8759, -77.016, 149175500.0], [38.8338, -76.9995, 509969022.0], [38.9087, -77.0414, 97500000.0], [38.9014, -77.0504, 32978000.0], [38.9577, -77.6038, 403175195.0], [38.6842, -78.0168, 68944400.0], [38.793, -77.5266, 66769692.0], [38.7492, -77.4878, 186104504.0], [38.7707, -77.4494, 175673558.0], [38.6665, -77.4248, 262469891.0], [38.8405, -77.8911, 94160300.0], [38.9687, -77.7355, 162546300.0], [38.637, -77.6383, 34174632.0], [38.8448, -77.467, 221051029.0], [38.8195, -77.4558, 111462799.0], [38.7818, -77.3818, 228487605.0], [39.1603, -77.6097, 39499990.0], [39.0048, -77.9546, 15068000.0], [39.1436, -77.7342, 262507231.0], [39.0823, -77.8467, 11022500.0], [38.7343, -77.5474, 129040086.0], [38.8237, -77.713, 33064473.0], [39.1164, -77.7802, 171773684.0], [38.8543, -77.5719, 3000000.0], [38.9113, -77.9674, 35549950.0], [39.0373, -77.4805, 518253334.0], [39.0142, -77.5285, 702333241.0], [38.8867, -77.4457, 120888079.0], [38.8976, -77.5092, 211631595.0], [38.8157, -77.6216, 194635115.0], [39.1383, -77.6573, 109621600.0], [39.0985, -77.6883, 2745000.0], [39.023, -77.3994, 202484845.0], [39.0472, -77.3866, 329693253.0], [38.9814, -77.4723, 75149979.0], [38.8674, -77.6445, 229377758.0], [38.9839, -77.3675, 257698452.0], [38.9252, -77.3928, 463961615.0], [39.042, -77.6054, 516398763.0], [39.1821, -77.5359, 597852388.0], [39.2204, -77.6596, 100251981.0], [38.7, -77.5483, 43498660.0], [38.9627, -77.8847, 144655000.0], [38.6898, -77.8361, 393883130.0], [38.7153, -77.7417, 138529513.0], [38.9615, -77.3418, 132503700.0], [38.9318, -77.3527, 287924358.0], [38.9807, -77.3419, 350411141.0], [39.1882, -77.63, 51300000.0], [38.8707, -77.7608, 15629400.0], [38.6371, -76.8778, 297462395.0], [38.584, -76.8942, 352140305.0], [38.6294, -76.9769, 541984387.0], [38.2471, -76.7481, 2400000.0], [38.672, -77.0162, 272238792.0], [38.5825, -76.7149, 13663960.0], [38.2826, -76.7466, 24072200.0], [38.4731, -76.9789, 11938300.0], [38.5093, -76.6797, 1049700.0], [38.6922, -76.832, 376148621.0], [38.418, -76.5478, 4560000.0], [38.6415, -77.0766, 100489800.0], [38.5426, -76.8465, 32767000.0], [38.2844, -76.7929, 9549986.0], [38.3006, -76.5312, 216321643.0], [38.2275, -76.521, 21839660.0], [38.351, -76.7833, 7327500.0], [38.475, -76.8038, 103955750.0], [38.7531, -76.8369, 59942000.0], [38.3407, -76.7264, 16052000.0], [38.262, -76.8502, 19825400.0], [38.237, -76.7646, 13220000.0], [38.1533, -76.3575, 10269987.0], [38.1719, -76.4731, 11001000.0], [38.2674, -76.4954, 100177486.0], [38.3524, -76.5626, 179006050.0], [38.5207, -76.7817, 109952501.0], [38.6095, -76.6003, 240166387.0], [38.6001, -77.1622, 103973280.0], [38.2926, -76.9059, 39131400.0], [38.5257, -76.9865, 385417981.0], [38.2774, -76.638, 243561920.0], [38.2495, -76.4529, 257173234.0], [38.3661, -76.4346, 259903887.0], [38.5633, -77.1596, 6599996.0], [38.4293, -76.7254, 245934780.0], [38.4462, -77.1983, 11215000.0], [38.3298, -76.9175, 69795489.0], [38.2177, -76.4429, 57134000.0], [38.1397, -76.5047, 26575000.0], [38.5855, -77.0093, 70150400.0], [38.4952, -76.5349, 39336800.0], [38.4994, -77.0419, 89642600.0], [38.5336, -76.5955, 103616020.0], [38.1169, -76.3711, 11909200.0], [38.1441, -76.4083, 24922000.0], [38.4501, -76.511, 116620800.0], [38.3293, -76.4651, 16549000.0], [38.649, -76.5767, 5050000.0], [38.1653, -76.5399, 25819000.0], [38.1899, -76.5087, 5998800.0], [38.4672, -77.095, 9111200.0], [38.5974, -76.9903, 156470200.0], [39.0455, -76.9242, 328676961.0], [38.9675, -76.8551, 648565683.0], [39.1077, -76.872, 508665170.0], [39.0499, -76.8345, 337182556.0], [38.9421, -76.9261, 90121957.0], [38.8029, -76.6628, 92968900.0], [38.9431, -76.9652, 174944000.0], [38.7119, -76.5367, 93324850.0], [38.9797, -76.7435, 502212487.0], [38.9263, -76.7098, 321005635.0], [38.9885, -76.791, 834057971.0], [38.9194, -76.7871, 780498113.0], [38.9407, -76.9531, 268607713.0], [39.1208, -76.8435, 554582775.0], [39.0958, -76.8155, 343099827.0], [38.6698, -76.5376, 103543770.0], [38.8018, -76.5248, 44105410.0], [38.7549, -76.9026, 814172442.0], [38.6955, -76.6061, 106912065.0], [38.9601, -76.9147, 348003071.0], [38.9963, -76.9299, 521054680.0], [38.8897, -76.8925, 1435348085.0], [38.7587, -76.9835, 1228063044.0], [38.8108, -76.9898, 371317223.0], [38.8425, -76.9222, 544431003.0], [38.8539, -76.8891, 795391055.0], [38.8222, -76.9478, 956812041.0], [38.7829, -76.5515, 38200200.0], [38.7408, -76.6427, 114897300.0], [39.1502, -76.93, 246711000.0], [39.138, -76.8218, 33633600.0], [38.8368, -76.5109, 122674748.0], [38.9766, -76.8053, 215954940.0], [38.9996, -76.884, 118753586.0], [38.8377, -76.798, 1420285429.0], [38.8682, -76.8156, 1132303765.0], [38.8582, -76.6145, 57199987.0], [39.1843, -76.9686, 140572500.0], [38.8252, -76.5391, 54413700.0], [38.7671, -76.5752, 27163100.0], [38.9506, -76.9347, 329749982.0], [38.9647, -76.9649, 685372240.0], [39.0005, -76.9723, 623588650.0], [38.9513, -76.8958, 452679957.0], [38.9223, -76.8755, 734084931.0], [39.1484, -76.7922, 156426688.0], [39.0003, -77.1022, 2067535510.0], [38.978, -77.082, 2434476605.0], [38.9585, -77.1153, 1409683761.0], [38.9896, -77.1538, 3878921043.0], [38.9743, -77.1591, 223356500.0], [39.1526, -77.0749, 417289584.0], [39.1871, -77.0603, 198989400.0], [39.1386, -77.4067, 53267587.0], [39.21, -77.3167, 246589900.0], [39.2126, -77.4199, 75249000.0], [39.087, -77.168, 1410632862.0], [39.0763, -77.1234, 234577000.0], [39.0496, -77.1204, 1541236891.0], [39.0887, -77.095, 831061981.0], [39.0388, -77.1922, 5765086848.0], [39.1345, -77.1477, 369763200.0], [39.1503, -77.0291, 137673600.0], [39.151, -76.9924, 109877984.0], [39.0922, -76.9339, 254267840.0], [39.1223, -76.9722, 14048000.0], [39.2387, -77.2794, 522960910.0], [39.2761, -77.2131, 138833610.0], [39.1355, -77.2822, 729643681.0], [39.188, -77.2358, 319481147.0], [39.1419, -77.189, 280338155.0], [39.1125, -77.2515, 1648546060.0], [39.173, -77.1855, 332506375.0], [39.1388, -77.1726, 19999925.0], [39.2335, -77.1458, 322169100.0], [39.1757, -77.1873, 305630023.0], [39.0298, -77.0793, 1397063890.0], [39.0191, -77.0076, 1186210700.0], [39.04, -77.0444, 1108155500.0], [39.0095, -76.9846, 214141500.0], [39.0668, -76.9969, 768545546.0], [39.1148, -77.0059, 455651500.0], [39.084, -77.0613, 939981290.0], [38.9982, -77.0338, 969045256.0], [38.9832, -77.0007, 637206754.0], [39.5109, -76.1805, 173043559.0], [39.4744, -76.2997, 229636239.0], [39.0476, -76.4941, 273084950.0], [39.5194, -76.4927, 102948685.0], [39.5394, -76.3564, 275597889.0], [39.5303, -76.3153, 331142732.0], [39.4756, -76.242, 40082910.0], [39.5648, -76.249, 6180000.0], [39.2125, -76.9515, 343418200.0], [39.4919, -76.6677, 354852840.0], [39.0489, -76.5935, 217157480.0], [39.654, -76.2278, 40381300.0], [38.9374, -76.6375, 263173900.0], [39.2339, -76.9968, 99049790.0], [38.9149, -76.5424, 588152224.0], [39.4277, -76.3055, 81084825.0], [39.2726, -76.8614, 824811554.0], [39.2548, -76.8001, 581936570.0], [39.2141, -76.8788, 646869550.0], [39.2051, -76.8322, 517788505.0], [39.1702, -76.8538, 243295860.0], [39.527, -76.4328, 147961924.0], [39.4991, -76.9101, 98759100.0], [39.5755, -76.4008, 149030369.0], [39.4731, -76.4484, 7150000.0], [39.694, -76.7223, 52472900.0], [39.0407, -76.6819, 181675400.0], [39.4575, -76.5153, 101205179.0], [39.1702, -76.5798, 331437851.0], [39.1618, -76.6297, 168538391.0], [39.477, -76.815, 6180000.0], [39.6146, -76.8644, 60982626.0], [39.2058, -76.7531, 298758475.0], [39.1551, -76.7215, 271513344.0], [39.5523, -76.1171, 277082117.0], [39.474, -76.4695, 32639328.0], [39.6162, -76.4684, 93568918.0], [39.4242, -76.3541, 118043750.0], [39.4558, -76.4147, 42049860.0], [39.2092, -76.6681, 99631576.0], [39.4332, -76.6546, 467951388.0], [39.6747, -76.8941, 44504993.0], [39.3342, -76.9132, 117399900.0], [39.1041, -76.619, 145786070.0], [39.5662, -76.5979, 178573760.0], [39.0762, -76.6996, 512080438.0], [39.0112, -76.6802, 274120150.0], [39.4269, -76.7769, 804447631.0], [39.6422, -76.6737, 174314300.0], [39.1206, -76.495, 443215570.0], [39.401, -76.451, 137260400.0], [39.4833, -76.5776, 204869180.0], [39.6959, -76.4113, 24707000.0], [39.3746, -76.8002, 250945886.0], [39.46, -76.8135, 453115860.0], [38.9504, -76.5854, 58508600.0], [39.1275, -76.698, 271040418.0], [39.0811, -76.5577, 351746600.0], [39.5483, -76.6819, 86356700.0], [39.4104, -76.713, 23652700.0], [39.6574, -76.3713, 81435176.0], [39.5676, -76.7972, 12965000.0], [39.5642, -76.9807, 210762682.0], [39.607, -77.0294, 108082020.0], [39.7077, -76.316, 8149200.0], [39.6618, -76.5666, 42581923.0], [39.3923, -76.4132, 31235590.0], [39.3498, -76.8456, 150133100.0], [39.2946, -76.6252, 27917600.0], [39.2998, -76.6075, 39881000.0], [39.4072, -76.6038, 110328300.0], [39.3009, -76.5799, 86817963.0], [39.3365, -76.5411, 371445834.0], [39.3296, -76.7341, 260056232.0], [39.3764, -76.729, 278477933.0], [39.3716, -76.6744, 124806864.0], [39.3507, -76.6321, 112929000.0], [39.3316, -76.6336, 170993710.0], [39.3626, -76.61, 380173234.0], [39.3127, -76.581, 150460861.0], [39.3521, -76.5644, 193351300.0], [39.3446, -76.6794, 196343969.0], [39.3093, -76.6699, 156586222.0], [39.3064, -76.6393, 178989289.0], [39.3265, -76.6048, 276025197.0], [39.2296, -76.4455, 53699960.0], [39.3401, -76.4153, 340319193.0], [39.3086, -76.4533, 310716773.0], [39.2655, -76.4935, 297467215.0], [39.287, -76.6476, 39517996.0], [39.2876, -76.5568, 705160519.0], [39.2259, -76.6153, 122839192.0], [39.2109, -76.5597, 41943968.0], [39.2309, -76.6969, 203182526.0], [39.2782, -76.7401, 341535537.0], [39.2856, -76.6899, 217044173.0], [39.2645, -76.6224, 577829098.0], [39.2892, -76.59, 231336579.0], [39.3876, -76.5418, 567462088.0], [39.3914, -76.4871, 233705186.0], [39.3361, -76.5014, 203537824.0], [39.361, -76.5891, 84532587.0], [39.3331, -76.7849, 171727495.0], [39.4143, -76.5761, 188904370.0], [38.9898, -76.5501, 547092840.0], [38.9524, -76.491, 390515492.0], [39.0416, -76.4377, 468219279.0], [39.5992, -78.8444, 220263602.0], [39.6355, -79.3085, 13059200.0], [39.5331, -79.0281, 1890000.0], [39.7083, -78.7774, 2780000.0], [39.6993, -78.5739, 805584.0], [39.6665, -79.4219, 14232600.0], [39.6494, -78.9306, 35139700.0], [39.6551, -79.1241, 68016910.0], [39.4169, -79.2222, 900000.0], [39.5656, -79.3823, 123344075.0], [39.6991, -78.8739, 9724486.0], [39.4339, -79.3167, 178029592.0], [39.5846, -78.6044, 1371000.0], [39.5214, -78.9062, 7653600.0], [39.4764, -79.2402, 58669200.0], [39.4905, -79.014, 3951300.0], [38.7768, -76.0758, 657777006.0], [39.1299, -75.8601, 5985000.0], [39.3655, -76.0639, 1558700.0], [38.7515, -76.2764, 13455000.0], [38.5643, -76.0874, 164662339.0], [39.0564, -76.045, 174602593.0], [38.9583, -76.2842, 61481100.0], [39.2125, -76.0802, 179907322.0], [38.4278, -76.1696, 8354100.0], [39.146, -75.988, 60831700.0], [38.8704, -76.0029, 14498800.0], [38.3295, -76.1142, 2760000.0], [39.233, -75.9195, 2795000.0], [38.8595, -75.8357, 122211100.0], [38.5921, -75.9568, 18354791.0], [38.7147, -75.7754, 26152500.0], [38.3223, -76.2244, 10378000.0], [39.3374, -75.8717, 16458100.0], [39.023, -75.7926, 3359200.0], [38.9456, -76.1997, 160684400.0], [38.9616, -75.8059, 32103600.0], [38.6438, -75.863, 16216000.0], [39.1182, -75.8769, 7725000.0], [39.2978, -75.9818, 13366787.0], [38.8192, -76.2806, 33518400.0], [38.4782, -76.2412, 27732200.0], [39.1082, -75.7622, 6892500.0], [39.3126, -75.8215, 49478300.0], [39.2743, -75.8951, 18804982.0], [38.7246, -76.2824, 59900000.0], [38.6864, -76.1538, 107719600.0], [38.7465, -75.9163, 40648600.0], [38.9456, -75.9777, 5335000.0], [39.0025, -76.1424, 183274900.0], [38.603, -75.7749, 4044500.0], [38.9568, -75.8848, 47406000.0], [39.1344, -76.2305, 13513500.0], [38.783, -76.2215, 106139000.0], [38.6093, -75.9474, 3393100.0], [38.7374, -76.3278, 62150000.0], [38.9394, -76.3371, 171248275.0], [39.1823, -75.85, 44122000.0], [38.7063, -76.3377, 23529900.0], [38.2726, -76.0596, 10791000.0], [38.6647, -76.0507, 85490597.0], [38.7846, -76.3001, 86250000.0], [38.5026, -76.1833, 15694000.0], [39.2963, -76.1008, 48562100.0], [39.4461, -77.335, 412144088.0], [39.4926, -77.4612, 291424177.0], [39.3647, -77.4636, 361239274.0], [39.3455, -77.3832, 292186510.0], [39.291, -77.4552, 26877700.0], [39.552, -77.6957, 42978880.0], [39.3164, -77.623, 139253280.0], [39.6958, -77.4955, 6763656.0], [39.6658, -77.9064, 27060200.0], [39.694, -77.3357, 12939134.0], [39.5594, -77.7604, 5882800.0], [39.609, -77.7044, 7258800.0], [39.2546, -77.0198, 66776000.0], [39.2795, -77.0148, 85385000.0], [39.632, -77.7372, 436141117.0], [39.6573, -77.6921, 314070650.0], [39.6991, -78.1762, 27348600.0], [39.3267, -77.2964, 80372900.0], [39.3653, -77.5441, 41121699.0], [39.4563, -77.6944, 24524000.0], [39.5656, -77.2817, 7760200.0], [39.3479, -77.6513, 30920000.0], [39.6876, -78.3781, 539100.0], [39.4416, -77.5502, 255858535.0], [39.3512, -77.2494, 97386300.0], [39.3881, -77.1723, 505442075.0], [39.5282, -77.5513, 31581071.0], [39.4096, -77.2759, 390925235.0], [39.5162, -77.1034, 29548230.0], [39.2791, -77.5328, 18309900.0], [39.6828, -77.4693, 19364900.0], [39.4424, -77.7511, 20159000.0], [39.647, -77.5706, 44877400.0], [39.4567, -76.9696, 242741376.0], [39.6658, -77.1691, 18625396.0], [39.6109, -77.3989, 52060480.0], [39.5799, -77.1319, 15468790.0], [39.4787, -77.3484, 85317700.0], [39.2934, -76.966, 52348500.0], [39.593, -77.8087, 75753787.0], [39.3464, -77.0647, 177120000.0], [39.5311, -77.2972, 18089000.0], [38.3824, -75.6336, 209257401.0], [38.3508, -75.5338, 94617176.0], [38.3475, -75.1866, 155103579.0], [38.4296, -75.1855, 9726000.0], [38.2953, -75.8914, 1177000.0], [37.9845, -75.8429, 30543144.0], [38.1533, -75.9496, 22387900.0], [38.2807, -75.651, 3867700.0], [37.9938, -76.0351, 1932000.0], [38.3225, -75.6228, 22039000.0], [38.0958, -75.3902, 3900000.0], [38.4026, -75.6963, 36150682.0], [38.5403, -75.963, 1199000.0], [38.4864, -75.7414, 7385280.0], [38.0266, -75.7579, 7043200.0], [38.2672, -75.9021, 13537000.0], [38.2489, -75.2893, 2281200.0], [38.3365, -75.0849, 149346692.0], [38.3914, -75.4737, 4087800.0], [38.3755, -75.4076, 6782298.0], [38.0714, -75.555, 19084960.0], [38.3287, -75.3755, 199000.0], [38.1919, -75.7072, 45990840.0], [38.3339, -75.7851, 2599200.0], [38.5389, -75.7192, 4146400.0], [38.1868, -75.405, 11435200.0], [38.0452, -75.4108, 1074651.0], [38.2833, -75.8465, 8438900.0], [37.9666, -76.0235, 875000.0], [38.4774, -75.8729, 15767700.0], [38.101, -75.7406, 21644500.0], [38.4121, -75.2811, 11576700.0], [38.3939, -75.3552, 6367000.0], [38.4445, -75.5583, 33873557.0], [39.6045, -75.9538, 288445354.0], [39.5649, -76.0592, 51618500.0], [39.6151, -76.0633, 62715350.0], [39.6882, -76.0492, 70359300.0], [39.4283, -75.7996, 25599000.0], [39.4015, -75.8654, 2940000.0], [39.5729, -75.9795, 31200900.0], [39.5133, -75.8406, 60622800.0], [39.6695, -76.0934, 3705000.0], [39.6778, -76.1572, 42740300.0], [39.4271, -75.9403, 58211000.0], [39.6264, -75.8458, 378202700.0], [38.8307, -77.2142, 1688270738.0], [38.7894, -77.2818, 1163088293.0], [38.5993, -77.3403, 192407196.0], [38.5669, -77.2921, 169180579.0], [38.8954, -77.2214, 188399983.0], [38.8458, -77.3242, 563545295.0], [38.8604, -77.2649, 921420424.0], [38.8177, -77.2925, 762273349.0], [38.8776, -77.3885, 266513697.0], [38.7602, -77.3064, 821907073.0], [38.8502, -77.1448, 520488300.0], [38.8635, -77.1939, 1381269470.0], [38.8994, -77.1895, 926979070.0], [38.8589, -77.1548, 320410801.0], [38.8856, -77.1802, 985406746.0], [38.6947, -77.1433, 79677230.0], [39.0039, -77.3083, 1750512483.0], [38.6929, -77.204, 727986036.0], [38.9326, -77.1706, 9596415197.0], [38.953, -77.2295, 2458385845.0], [38.8852, -77.3233, 787358180.0], [38.6816, -77.2605, 51798300.0], [38.7797, -77.1866, 517480631.0], [38.8029, -77.2116, 452476708.0], [38.7757, -77.2337, 640344772.0], [38.7449, -77.237, 945025466.0], [38.5509, -77.3229, 41618444.0], [38.8935, -77.2532, 2158684352.0], [38.8977, -77.288, 818264548.0], [38.928, -77.2649, 1158285793.0], [38.6356, -77.2683, 460401512.0], [38.676, -77.3163, 554974588.0], [38.6438, -77.3451, 393825170.0], [38.8871, -77.0932, 1606545946.0], [38.8565, -77.0592, 445390300.0], [38.8738, -77.1142, 562781500.0], [38.859, -77.0997, 1383077614.0], [38.8836, -77.1395, 1566188684.0], [38.8415, -77.0905, 220240700.0], [38.9033, -77.1263, 3505872938.0], [38.8926, -77.0753, 168615000.0], [38.8954, -77.1633, 246799962.0], [38.82, -77.0589, 751870525.0], [38.8276, -77.0896, 987888100.0], [38.7912, -77.0814, 345990900.0], [38.8149, -77.121, 777706971.0], [38.8372, -77.064, 730486559.0], [38.7589, -77.0873, 620015820.0], [38.7714, -77.0657, 544022013.0], [38.7316, -77.0604, 2388159541.0], [38.7192, -77.1073, 893328860.0], [38.7794, -77.1194, 1084993871.0], [38.832, -77.12, 292396420.0], [38.8191, -77.1484, 489177987.0], [38.806, -77.0529, 2244570064.0], [38.7596, -77.1485, 1296548630.0], [38.2995, -77.4772, 107458996.0], [38.3365, -77.4366, 124196549.0], [38.3796, -77.5349, 87309517.0], [38.2688, -77.5476, 208332303.0], [38.2481, -77.4681, 106658518.0], [38.0137, -77.1802, 17231020.0], [37.8687, -76.3542, 3299400.0], [37.9773, -76.5732, 1383600.0], [37.7929, -76.7548, 899700.0], [38.1792, -76.9959, 72614987.0], [37.874, -76.605, 1119300.0], [38.0573, -76.6616, 29754380.0], [37.9072, -76.4178, 16040900.0], [38.0329, -77.0633, 1645000.0], [37.6645, -76.416, 9055100.0], [37.7162, -76.382, 3531800.0], [38.2811, -77.126, 138772406.0], [38.0505, -76.5855, 26504000.0], [37.7395, -76.5002, 12106900.0], [38.3352, -77.7709, 123810837.0], [38.0058, -77.3185, 3037800.0], [38.1105, -76.7828, 97598948.0], [38.0641, -77.6586, 3392800.0], [38.1621, -77.1837, 17064000.0], [37.857, -76.2829, 13235900.0], [38.2863, -77.923, 11612900.0], [37.9451, -77.4714, 37214902.0], [38.162, -77.6854, 99540837.0], [38.271, -77.6447, 65437566.0], [38.4586, -77.4306, 316410465.0], [38.4718, -77.5102, 151710134.0], [37.9146, -76.9125, 3375200.0], [38.2383, -77.9193, 3449600.0], [37.9695, -76.7665, 630000.0], [37.6847, -76.4313, 7575000.0], [37.6886, -76.3616, 3039000.0], [38.0847, -77.4399, 2733600.0], [39.1858, -78.1827, 63679327.0], [39.1501, -78.269, 63382387.0], [39.264, -78.1989, 32299296.0], [38.8187, -78.2757, 16790000.0], [39.1532, -77.9688, 51138570.0], [39.0698, -78.0203, 14032500.0], [38.8537, -78.1412, 2200000.0], [39.2655, -78.0988, 2950000.0], [39.3744, -78.3081, 10573080.0], [38.7629, -78.1, 27333000.0], [38.9268, -78.1796, 214861275.0], [39.2887, -78.3417, 3331700.0], [38.8273, -77.9949, 19587000.0], [38.8812, -78.0478, 40702500.0], [38.9441, -78.4658, 800000.0], [39.0367, -78.2815, 24888700.0], [38.7564, -78.3873, 4474100.0], [38.8407, -78.4276, 8496500.0], [39.0834, -78.1907, 63713530.0], [39.1973, -78.0941, 11679263.0], [38.9884, -78.3386, 23703000.0], [38.9476, -78.4331, 2097000.0], [39.058, -78.1105, 10362800.0], [38.887, -78.5217, 27336000.0], [38.5117, -77.9928, 301506497.0], [38.3256, -78.2366, 10975000.0], [38.5453, -77.7561, 30675180.0], [38.5382, -78.1423, 28952892.0], [38.4114, -78.1698, 4799988.0], [38.6032, -78.1208, 58176000.0], [38.4725, -77.6423, 5278000.0], [38.6256, -77.9069, 12648900.0], [38.3956, -77.83, 4690000.0], [38.37, -78.2976, 38871500.0], [38.5671, -77.7127, 36046480.0], [38.3392, -78.0476, 4808900.0], [38.5309, -77.8037, 12604000.0], [38.4604, -78.1572, 16720000.0], [38.3924, -77.7195, 3569993.0], [38.5852, -78.0282, 14277587.0], [38.3215, -78.3042, 10927550.0], [38.6203, -78.2466, 6305000.0], [38.4441, -77.8842, 2625000.0], [38.4674, -77.7044, 7073500.0], [38.4972, -78.3229, 10000000.0], [38.7078, -78.1566, 41720000.0], [38.6482, -78.1739, 14365000.0], [38.8089, -78.7776, 736900.0], [38.8432, -78.6003, 30554000.0], [38.4025, -78.6321, 13164800.0], [38.6548, -78.4596, 20310795.0], [38.7857, -78.6803, 5302000.0], [38.6606, -78.6714, 2037200.0], [38.7201, -78.7213, 599000.0], [38.501, -78.609, 6048700.0], [38.566, -78.5093, 16065400.0], [38.6476, -78.7717, 1750000.0], [38.0936, -78.5611, 40575050.0], [38.0995, -78.4085, 86421134.0], [38.2095, -78.3098, 32266500.0], [38.2705, -78.5578, 11620000.0], [38.1578, -78.4919, 3130000.0], [38.1944, -78.5849, 1160000.0], [38.1759, -78.1815, 18937200.0], [38.0531, -78.3396, 10318700.0], [38.2192, -78.0461, 126561988.0], [38.2586, -78.4074, 98531550.0], [38.1997, -78.2394, 82096104.0], [38.3121, -78.482, 61701100.0], [37.9636, -78.2535, 939900.0], [37.8221, -77.1885, 2066650.0], [37.7701, -77.3216, 349900.0], [37.73, -76.689, 110000.0], [37.7202, -77.0998, 375000.0], [37.6642, -76.8255, 283500.0], [38.0132, -78.0347, 9141200.0], [37.9986, -77.8781, 7504800.0], [37.9226, -77.1449, 899800.0], [37.8479, -77.055, 1645500.0], [37.5949, -76.5921, 268000.0], [37.6356, -76.5918, 2733000.0], [37.7105, -76.6227, 339000.0], [37.5556, -76.8237, 674850.0], [37.9299, -75.3624, 8752780.0], [37.9186, -75.4905, 449800.0], [38.0064, -75.4029, 2987600.0], [37.9525, -75.5112, 2907600.0], [37.9229, -75.5386, 47800.0], [37.8954, -75.5528, 608000.0], [39.4567, -77.9727, 20788900.0], [39.5227, -77.9747, 28784227.0], [39.4852, -77.8954, 48000700.0], [39.4092, -77.9615, 22315497.0], [39.5526, -78.1877, 40294449.0], [39.3276, -78.0487, 7211190.0], [39.2771, -77.8563, 66827500.0], [39.5865, -77.8852, 33832810.0], [39.378, -78.1141, 3808300.0], [39.5836, -78.3331, 4095000.0], [39.3153, -77.7694, 72669682.0], [39.5214, -78.0912, 38702500.0], [39.3701, -78.0242, 8331300.0], [39.322, -77.9588, 16727000.0], [39.4976, -78.5508, 299400.0], [39.4923, -78.4586, 7842300.0], [39.2995, -77.8606, 26579496.0], [39.3716, -77.8229, 4444500.0], [39.4311, -77.8158, 63605992.0], [40.1027, -80.6476, 102197700.0], [40.0181, -80.7342, 582750.0], [40.5981, -80.5584, 12768200.0], [40.3296, -80.585, 4631200.0], [39.9597, -80.7323, 1769000.0], [39.9881, -80.7315, 650000.0], [39.9148, -80.731, 7002700.0], [40.5228, -80.5901, 25909200.0], [40.0699, -80.5953, 5191000.0], [40.0946, -80.5551, 21202000.0], [40.4137, -80.5683, 27349300.0], [39.2874, -80.3419, 5234729.0], [39.2677, -80.3077, 115000.0], [39.2954, -80.2427, 10808769.0], [39.2665, -80.132, 599500.0], [39.3414, -80.0285, 1845499.0], [39.3781, -80.3676, 399000.0], [39.2107, -80.2899, 359900.0], [39.1613, -80.0492, 1178199.0], [39.313, -79.7049, 299000.0], [39.3888, -80.2834, 408900.0], [39.3625, -79.7478, 335000.0], [39.6099, -79.9831, 106824800.0], [39.6505, -79.944, 187580170.0], [39.5953, -79.9229, 400740515.0], [39.5701, -79.6358, 387800.0], [39.4951, -79.8151, 450000.0], [39.6454, -79.6159, 11095000.0], [39.4819, -79.7063, 2605000.0], [39.6884, -79.9801, 4600000.0], [39.5731, -79.7906, 3500000.0], [39.5127, -79.812, 388500.0], [39.4941, -80.2213, 21987360.0], [39.6103, -80.2529, 1326500.0], [39.5587, -80.1805, 280000.0], [39.522, -80.3552, 2410900.0], [39.5568, -80.1417, 1658200.0], [39.2998, -78.5931, 1629600.0], [39.1945, -78.6042, 661800.0], [39.4527, -78.8926, 28382400.0], [39.2652, -79.2255, 277000.0], [39.3612, -79.0452, 6300000.0], [39.5636, -78.7887, 11371593.0], [39.3424, -78.7481, 1207898.0], [39.463, -78.695, 1934700.0], [39.4456, -79.5464, 8138300.0], [38.8744, -78.8814, 299000.0], [39.0562, -78.6175, 329700.0], [40.0204, -80.7638, 5102600.0], [40.0752, -80.7747, 2969495.0], [40.2683, -80.6319, 632000.0], [40.6774, -80.6006, 47752800.0], [40.1036, -80.7361, 7976695.0], [40.3203, -80.625, 910000.0], [40.2083, -80.7125, 503700.0], [39.9675, -80.7643, 7098700.0], [40.3698, -80.634, 11790400.0], [40.3524, -80.6781, 7922100.0], [40.4733, -80.6325, 10667600.0], [40.6171, -80.6621, 5493200.0], [41.6225, -80.5754, 5340300.0], [41.8679, -80.7947, 22942085.0], [41.9345, -80.5803, 30751455.0], [41.659, -80.6683, 1077000.0], [41.7335, -80.7562, 6354000.0], [41.7677, -80.5741, 5249600.0], [41.5383, -80.5964, 377400.0], [41.248, -80.5788, 14642200.0], [41.0778, -80.5897, 13483900.0], [41.0293, -80.7564, 78823100.0], [40.8853, -80.6975, 21578200.0], [41.3251, -80.7327, 5227700.0], [40.8406, -80.5465, 6543200.0], [41.3923, -80.6628, 593000.0], [41.1611, -80.6933, 27849893.0], [41.1624, -80.5762, 17807197.0], [41.4354, -80.5765, 2408700.0], [40.8631, -80.7585, 6260100.0], [40.7592, -80.7587, 9111700.0], [41.0503, -80.5416, 15480800.0], [41.158, -80.7312, 4578600.0], [41.1318, -80.7553, 4097000.0], [40.7579, -80.553, 9617770.0], [40.9646, -80.5534, 7365000.0], [40.9265, -80.5856, 3838400.0], [40.8489, -80.6209, 400000.0], [41.1824, -80.7558, 13330800.0], [40.9649, -80.6549, 7378300.0], [40.7789, -80.6202, 5283400.0], [41.0508, -80.5985, 20670989.0], [41.2175, -80.655, 10346500.0], [41.2639, -80.8164, 3501600.0], [41.2318, -80.7642, 10005260.0], [40.8973, -80.7631, 11039700.0], [41.0774, -80.6409, 8478200.0], [41.1237, -80.6539, 10262600.0], [41.1257, -80.6277, 26919000.0], [41.096, -80.6259, 399000.0], [41.0732, -80.6553, 1091400.0], [41.105, -80.6945, 9442200.0], [41.1197, -80.6672, 559200.0], [41.0704, -80.6931, 28656200.0], [41.0252, -80.6687, 89572261.0], [41.0093, -80.6183, 72679710.0], [41.0979, -80.7598, 33550589.0], [39.5814, -104.9557, 1959600.0]],\n",
       "                {&quot;blur&quot;: 15, &quot;maxZoom&quot;: 18, &quot;minOpacity&quot;: 0.5, &quot;radius&quot;: 25}\n",
       "            );\n",
       "        \n",
       "    \n",
       "            heat_map_e0b720504d65dcefeeb346ddedf9aec0.addTo(map_23590e927cfca30d5637fd0d410b6c7d);\n",
       "        \n",
       "&lt;/script&gt;\n",
       "&lt;/html&gt;\" style=\"position:absolute;width:100%;height:100%;left:0;top:0;border:none !important;\" allowfullscreen webkitallowfullscreen mozallowfullscreen></iframe></div></div>"
      ],
      "text/plain": [
       "<folium.folium.Map at 0x7f9cbb77eac0>"
      ]
     },
     "execution_count": 56,
     "metadata": {},
     "output_type": "execute_result"
    }
   ],
   "source": [
    "ny_summed_prices = ny_summed_prices.dropna()\n",
    "from folium.plugins import HeatMap\n",
    "import folium\n",
    "# Create a map centered on New York\n",
    "ny_map = folium.Map(location=[40.7128, -74.006], zoom_start=11)\n",
    "\n",
    "# Add markers for each location with house prices\n",
    "#for idx, row in ny_summed_prices.iterrows():\n",
    "#   folium.Marker([row['Latitude'], row['Longitude']], popup=f\"${row['price']}\").add_to(ny_map)\n",
    "\n",
    "# Create a HeatMap layer using house prices and coordinates\n",
    "heat_data = [[row['Latitude'], row['Longitude'], row['price']] for idx, row in ny_summed_prices.iterrows()]\n",
    "HeatMap(heat_data).add_to(ny_map)\n",
    "\n",
    "# Display the heat map\n",
    "ny_map"
   ]
  },
  {
   "cell_type": "code",
   "execution_count": 33,
   "id": "0eae0ec0",
   "metadata": {},
   "outputs": [
    {
     "data": {
      "text/plain": [
       "postal_code          10001\n",
       "country_code            US\n",
       "place_name        New York\n",
       "state_name        New York\n",
       "state_code              NY\n",
       "county_name       New York\n",
       "county_code           61.0\n",
       "community_name         NaN\n",
       "community_code         NaN\n",
       "latitude           40.7484\n",
       "longitude         -73.9967\n",
       "accuracy               4.0\n",
       "Name: 0, dtype: object"
      ]
     },
     "execution_count": 33,
     "metadata": {},
     "output_type": "execute_result"
    }
   ],
   "source": [
    "nomi = pgeocode.Nominatim('us')\n",
    "location = nomi.query_postal_code(\"10001\")\n",
    "location"
   ]
  },
  {
   "cell_type": "code",
   "execution_count": 10,
   "id": "93c2a833",
   "metadata": {},
   "outputs": [],
   "source": [
    "import seaborn as sns"
   ]
  },
  {
   "cell_type": "markdown",
   "id": "b20c2bfb",
   "metadata": {},
   "source": [
    "Correlation Matrix"
   ]
  },
  {
   "cell_type": "code",
   "execution_count": 7,
   "id": "d181ed4e",
   "metadata": {},
   "outputs": [],
   "source": [
    "df_num = df_filtered.drop(columns=['status', 'city', 'state', 'prev_sold_date'])"
   ]
  },
  {
   "cell_type": "code",
   "execution_count": 8,
   "id": "c07991f4",
   "metadata": {},
   "outputs": [],
   "source": [
    "corr =  df_num.corr()"
   ]
  },
  {
   "cell_type": "code",
   "execution_count": 13,
   "id": "8286bede",
   "metadata": {
    "scrolled": false
   },
   "outputs": [
    {
     "data": {
      "text/plain": [
       "Text(0.5, 1.0, 'Features Correlation')"
      ]
     },
     "execution_count": 13,
     "metadata": {},
     "output_type": "execute_result"
    },
    {
     "data": {
      "image/png": "[encoded data removed]",
      "text/plain": [
       "<Figure size 640x480 with 2 Axes>"
      ]
     },
     "metadata": {},
     "output_type": "display_data"
    }
   ],
   "source": [
    "sns.heatmap(corr, annot=True)\n",
    "plt.title('Features Correlation')"
   ]
  },
  {
   "cell_type": "code",
   "execution_count": 16,
   "id": "cc5c0746",
   "metadata": {},
   "outputs": [
    {
     "data": {
      "text/html": [
       "<div>\n",
       "<style scoped>\n",
       "    .dataframe tbody tr th:only-of-type {\n",
       "        vertical-align: middle;\n",
       "    }\n",
       "\n",
       "    .dataframe tbody tr th {\n",
       "        vertical-align: top;\n",
       "    }\n",
       "\n",
       "    .dataframe thead th {\n",
       "        text-align: right;\n",
       "    }\n",
       "</style>\n",
       "<table border=\"1\" class=\"dataframe\">\n",
       "  <thead>\n",
       "    <tr style=\"text-align: right;\">\n",
       "      <th></th>\n",
       "      <th>zip_code</th>\n",
       "      <th>price</th>\n",
       "    </tr>\n",
       "  </thead>\n",
       "  <tbody>\n",
       "    <tr>\n",
       "      <th>0</th>\n",
       "      <td>10001</td>\n",
       "      <td>213750000.0</td>\n",
       "    </tr>\n",
       "    <tr>\n",
       "      <th>1</th>\n",
       "      <td>10002</td>\n",
       "      <td>689000.0</td>\n",
       "    </tr>\n",
       "    <tr>\n",
       "      <th>2</th>\n",
       "      <td>10003</td>\n",
       "      <td>275915000.0</td>\n",
       "    </tr>\n",
       "    <tr>\n",
       "      <th>3</th>\n",
       "      <td>10004</td>\n",
       "      <td>100000000.0</td>\n",
       "    </tr>\n",
       "    <tr>\n",
       "      <th>4</th>\n",
       "      <td>10005</td>\n",
       "      <td>14795000.0</td>\n",
       "    </tr>\n",
       "    <tr>\n",
       "      <th>...</th>\n",
       "      <td>...</td>\n",
       "      <td>...</td>\n",
       "    </tr>\n",
       "    <tr>\n",
       "      <th>5147</th>\n",
       "      <td>8887</td>\n",
       "      <td>3690000.0</td>\n",
       "    </tr>\n",
       "    <tr>\n",
       "      <th>5148</th>\n",
       "      <td>8889</td>\n",
       "      <td>37190500.0</td>\n",
       "    </tr>\n",
       "    <tr>\n",
       "      <th>5149</th>\n",
       "      <td>8901</td>\n",
       "      <td>116213204.0</td>\n",
       "    </tr>\n",
       "    <tr>\n",
       "      <th>5150</th>\n",
       "      <td>8902</td>\n",
       "      <td>298585465.0</td>\n",
       "    </tr>\n",
       "    <tr>\n",
       "      <th>5151</th>\n",
       "      <td>8904</td>\n",
       "      <td>89126659.0</td>\n",
       "    </tr>\n",
       "  </tbody>\n",
       "</table>\n",
       "<p>5152 rows × 2 columns</p>\n",
       "</div>"
      ],
      "text/plain": [
       "     zip_code        price\n",
       "0       10001  213750000.0\n",
       "1       10002     689000.0\n",
       "2       10003  275915000.0\n",
       "3       10004  100000000.0\n",
       "4       10005   14795000.0\n",
       "...       ...          ...\n",
       "5147     8887    3690000.0\n",
       "5148     8889   37190500.0\n",
       "5149     8901  116213204.0\n",
       "5150     8902  298585465.0\n",
       "5151     8904   89126659.0\n",
       "\n",
       "[5152 rows x 2 columns]"
      ]
     },
     "execution_count": 16,
     "metadata": {},
     "output_type": "execute_result"
    }
   ],
   "source": [
    "ny_summed_prices"
   ]
  },
  {
   "cell_type": "code",
   "execution_count": 18,
   "id": "12011c17",
   "metadata": {},
   "outputs": [],
   "source": [
    "from sklearn.linear_model import LinearRegression\n",
    "from sklearn.model_selection import train_test_split"
   ]
  },
  {
   "cell_type": "code",
   "execution_count": 19,
   "id": "d7bb8f5f",
   "metadata": {},
   "outputs": [],
   "source": [
    "# Separate the target from the features\n",
    "feature = ny_summed_prices.drop('price', axis=1)\n",
    "target = ny_summed_prices['price']\n",
    "\n",
    "#Split the data into training and test\n",
    "X_train, X_test, y_train, y_test = train_test_split(feature, target, test_size=0.2, random_state=42)"
   ]
  },
  {
   "cell_type": "code",
   "execution_count": 26,
   "id": "9292bab0",
   "metadata": {
    "scrolled": false
   },
   "outputs": [
    {
     "name": "stdout",
     "output_type": "stream",
     "text": [
      "Model 1 Results\n",
      "Mean Squared Error: 1.0095666005774102e+17\n",
      "Mean Absolute Error: 127857450.28387067\n",
      "R-squared score: 0.005190385914512263\n"
     ]
    },
    {
     "name": "stderr",
     "output_type": "stream",
     "text": [
      "/Users/feliperodriguez/opt/anaconda3/lib/python3.9/site-packages/sklearn/utils/validation.py:623: FutureWarning: is_sparse is deprecated and will be removed in a future version. Check `isinstance(dtype, pd.SparseDtype)` instead.\n",
      "  if not hasattr(array, \"sparse\") and array.dtypes.apply(is_sparse).any():\n",
      "/Users/feliperodriguez/opt/anaconda3/lib/python3.9/site-packages/sklearn/utils/validation.py:623: FutureWarning: is_sparse is deprecated and will be removed in a future version. Check `isinstance(dtype, pd.SparseDtype)` instead.\n",
      "  if not hasattr(array, \"sparse\") and array.dtypes.apply(is_sparse).any():\n"
     ]
    }
   ],
   "source": [
    "# Create and fit the linear regression model using the training data\n",
    "model = LinearRegression()\n",
    "model.fit(X_train, y_train)\n",
    "\n",
    "# Make predictions on the test data\n",
    "predictions = model.predict(X_test)\n",
    "\n",
    "\n",
    "print(\"Model 1 Results\")\n",
    "# print(\"Predictions on test data:\", predictions)\n",
    "# Calculate Mean Squared Error\n",
    "mse = mean_squared_error(y_test, predictions)\n",
    "print(\"Mean Squared Error:\", mse)\n",
    "\n",
    "# Calculate Mean Absolute Error\n",
    "mae = mean_absolute_error(y_test, predictions)\n",
    "print(\"Mean Absolute Error:\", mae)\n",
    "\n",
    "# Calculate R-squared score\n",
    "r2 = r2_score(y_test, predictions)\n",
    "print(\"R-squared score:\", r2)\n"
   ]
  },
  {
   "cell_type": "code",
   "execution_count": 21,
   "id": "65ee47ac",
   "metadata": {},
   "outputs": [
    {
     "name": "stdout",
     "output_type": "stream",
     "text": [
      "R2 Value is: 0.005190385914512263\n"
     ]
    },
    {
     "name": "stderr",
     "output_type": "stream",
     "text": [
      "/Users/feliperodriguez/opt/anaconda3/lib/python3.9/site-packages/sklearn/utils/validation.py:623: FutureWarning: is_sparse is deprecated and will be removed in a future version. Check `isinstance(dtype, pd.SparseDtype)` instead.\n",
      "  if not hasattr(array, \"sparse\") and array.dtypes.apply(is_sparse).any():\n"
     ]
    }
   ],
   "source": [
    "# Calculates R2\n",
    "r_sqaured = model.score(X_test, y_test)\n",
    "print(\"R2 Value is:\", r_sqaured)"
   ]
  },
  {
   "cell_type": "markdown",
   "id": "60f491c3",
   "metadata": {},
   "source": [
    "Subset ny "
   ]
  },
  {
   "cell_type": "markdown",
   "id": "87237cda",
   "metadata": {},
   "source": [
    "Model #2"
   ]
  },
  {
   "cell_type": "code",
   "execution_count": 30,
   "id": "5561541e",
   "metadata": {},
   "outputs": [],
   "source": [
    "test_ny = subset_ny.drop(columns=['status', 'city', 'state', 'prev_sold_date'])"
   ]
  },
  {
   "cell_type": "code",
   "execution_count": 31,
   "id": "43ab7f56",
   "metadata": {},
   "outputs": [
    {
     "data": {
      "text/html": [
       "<div>\n",
       "<style scoped>\n",
       "    .dataframe tbody tr th:only-of-type {\n",
       "        vertical-align: middle;\n",
       "    }\n",
       "\n",
       "    .dataframe tbody tr th {\n",
       "        vertical-align: top;\n",
       "    }\n",
       "\n",
       "    .dataframe thead th {\n",
       "        text-align: right;\n",
       "    }\n",
       "</style>\n",
       "<table border=\"1\" class=\"dataframe\">\n",
       "  <thead>\n",
       "    <tr style=\"text-align: right;\">\n",
       "      <th></th>\n",
       "      <th>bed</th>\n",
       "      <th>bath</th>\n",
       "      <th>acre_lot</th>\n",
       "      <th>zip_code</th>\n",
       "      <th>house_size</th>\n",
       "      <th>price</th>\n",
       "    </tr>\n",
       "  </thead>\n",
       "  <tbody>\n",
       "    <tr>\n",
       "      <th>54248</th>\n",
       "      <td>3.0</td>\n",
       "      <td>2.0</td>\n",
       "      <td>2.02</td>\n",
       "      <td>12521</td>\n",
       "      <td>1600.0</td>\n",
       "      <td>425000.0</td>\n",
       "    </tr>\n",
       "    <tr>\n",
       "      <th>54258</th>\n",
       "      <td>4.0</td>\n",
       "      <td>2.0</td>\n",
       "      <td>0.24</td>\n",
       "      <td>12521</td>\n",
       "      <td>1239.0</td>\n",
       "      <td>225000.0</td>\n",
       "    </tr>\n",
       "    <tr>\n",
       "      <th>54267</th>\n",
       "      <td>4.0</td>\n",
       "      <td>1.0</td>\n",
       "      <td>4.20</td>\n",
       "      <td>12516</td>\n",
       "      <td>1500.0</td>\n",
       "      <td>299999.0</td>\n",
       "    </tr>\n",
       "    <tr>\n",
       "      <th>54268</th>\n",
       "      <td>3.0</td>\n",
       "      <td>2.0</td>\n",
       "      <td>2.90</td>\n",
       "      <td>12529</td>\n",
       "      <td>1404.0</td>\n",
       "      <td>374900.0</td>\n",
       "    </tr>\n",
       "    <tr>\n",
       "      <th>54278</th>\n",
       "      <td>3.0</td>\n",
       "      <td>2.0</td>\n",
       "      <td>1.20</td>\n",
       "      <td>12546</td>\n",
       "      <td>1350.0</td>\n",
       "      <td>375000.0</td>\n",
       "    </tr>\n",
       "  </tbody>\n",
       "</table>\n",
       "</div>"
      ],
      "text/plain": [
       "       bed  bath  acre_lot zip_code  house_size     price\n",
       "54248  3.0   2.0      2.02    12521      1600.0  425000.0\n",
       "54258  4.0   2.0      0.24    12521      1239.0  225000.0\n",
       "54267  4.0   1.0      4.20    12516      1500.0  299999.0\n",
       "54268  3.0   2.0      2.90    12529      1404.0  374900.0\n",
       "54278  3.0   2.0      1.20    12546      1350.0  375000.0"
      ]
     },
     "execution_count": 31,
     "metadata": {},
     "output_type": "execute_result"
    }
   ],
   "source": [
    "test_ny.head()"
   ]
  },
  {
   "cell_type": "code",
   "execution_count": 32,
   "id": "ecf00101",
   "metadata": {},
   "outputs": [],
   "source": [
    "from sklearn.metrics import mean_squared_error, mean_absolute_error, r2_score"
   ]
  },
  {
   "cell_type": "code",
   "execution_count": 33,
   "id": "984450c8",
   "metadata": {},
   "outputs": [],
   "source": [
    "# Separate the target from the features\n",
    "x = test_ny.drop('price', axis=1)\n",
    "y = test_ny['price']\n",
    "\n",
    "#Split the data into training and test\n",
    "X_train, X_test, y_train, y_test = train_test_split(x, y, test_size=0.2, random_state=42)"
   ]
  },
  {
   "cell_type": "code",
   "execution_count": 34,
   "id": "f6e2ed5f",
   "metadata": {},
   "outputs": [
    {
     "name": "stdout",
     "output_type": "stream",
     "text": [
      "Predictions on test data: [ 177363.03281198  874734.63944078  164156.82306573 ...  562253.79160977\n",
      " 2593581.16087811  818226.10806117]\n"
     ]
    },
    {
     "name": "stderr",
     "output_type": "stream",
     "text": [
      "/Users/feliperodriguez/opt/anaconda3/lib/python3.9/site-packages/sklearn/utils/validation.py:623: FutureWarning: is_sparse is deprecated and will be removed in a future version. Check `isinstance(dtype, pd.SparseDtype)` instead.\n",
      "  if not hasattr(array, \"sparse\") and array.dtypes.apply(is_sparse).any():\n",
      "/Users/feliperodriguez/opt/anaconda3/lib/python3.9/site-packages/sklearn/utils/validation.py:623: FutureWarning: is_sparse is deprecated and will be removed in a future version. Check `isinstance(dtype, pd.SparseDtype)` instead.\n",
      "  if not hasattr(array, \"sparse\") and array.dtypes.apply(is_sparse).any():\n"
     ]
    }
   ],
   "source": [
    "# Create and fit the linear regression model using the training data\n",
    "model = LinearRegression()\n",
    "model.fit(X_train, y_train)\n",
    "\n",
    "# Make predictions on the test data\n",
    "predictions = model.predict(X_test)\n",
    "\n",
    "print(\"Predictions on test data:\", predictions)"
   ]
  },
  {
   "cell_type": "code",
   "execution_count": 35,
   "id": "b98dfe59",
   "metadata": {},
   "outputs": [
    {
     "name": "stdout",
     "output_type": "stream",
     "text": [
      "Model 2 Results\n",
      "Mean Squared Error: 1341708654258.3293\n",
      "Mean Absolute Error: 436656.6665262822\n",
      "R-squared score: 0.3201483824250393\n"
     ]
    }
   ],
   "source": [
    "print(\"Model 2 Results\")\n",
    "# Calculate Mean Squared Error\n",
    "mse = mean_squared_error(y_test, predictions)\n",
    "print(\"Mean Squared Error:\", mse)\n",
    "\n",
    "# Calculate Mean Absolute Error\n",
    "mae = mean_absolute_error(y_test, predictions)\n",
    "print(\"Mean Absolute Error:\", mae)\n",
    "\n",
    "# Calculate R-squared score\n",
    "r2 = r2_score(y_test, predictions)\n",
    "print(\"R-squared score:\", r2)"
   ]
  },
  {
   "cell_type": "markdown",
   "id": "619d8df5",
   "metadata": {},
   "source": [
    "Model #3"
   ]
  },
  {
   "cell_type": "code",
   "execution_count": 37,
   "id": "4fe5b8c7",
   "metadata": {},
   "outputs": [
    {
     "name": "stderr",
     "output_type": "stream",
     "text": [
      "/Users/feliperodriguez/opt/anaconda3/lib/python3.9/site-packages/sklearn/utils/validation.py:623: FutureWarning: is_sparse is deprecated and will be removed in a future version. Check `isinstance(dtype, pd.SparseDtype)` instead.\n",
      "  if not hasattr(array, \"sparse\") and array.dtypes.apply(is_sparse).any():\n",
      "/Users/feliperodriguez/opt/anaconda3/lib/python3.9/site-packages/sklearn/utils/validation.py:623: FutureWarning: is_sparse is deprecated and will be removed in a future version. Check `isinstance(dtype, pd.SparseDtype)` instead.\n",
      "  if not hasattr(array, \"sparse\") and array.dtypes.apply(is_sparse).any():\n"
     ]
    },
    {
     "name": "stdout",
     "output_type": "stream",
     "text": [
      "Model 3 Results\n",
      "Random Forest Regressor - Mean Squared Error: 29911620514.03588\n",
      "Random Forest Regressor - Mean Absolute Error: 8707.15125422424\n",
      "Random Forest Regressor - R-squared score: 0.9848436070482107\n"
     ]
    }
   ],
   "source": [
    "from sklearn.ensemble import RandomForestRegressor\n",
    "\n",
    "# Create and fit the Random Forest Regressor model using the training data\n",
    "rf_model = RandomForestRegressor()\n",
    "rf_model.fit(X_train, y_train)\n",
    "\n",
    "# Make predictions on the test data\n",
    "rf_predictions = rf_model.predict(X_test)\n",
    "\n",
    "# Evaluate the model performance\n",
    "rf_mse = mean_squared_error(y_test, rf_predictions)\n",
    "rf_mae = mean_absolute_error(y_test, rf_predictions)\n",
    "rf_r2 = r2_score(y_test, rf_predictions)\n",
    "print(\"Model 3 Results\")\n",
    "print(\"Random Forest Regressor - Mean Squared Error:\", rf_mse)\n",
    "print(\"Random Forest Regressor - Mean Absolute Error:\", rf_mae)\n",
    "print(\"Random Forest Regressor - R-squared score:\", rf_r2)"
   ]
  },
  {
   "cell_type": "code",
   "execution_count": null,
   "id": "d80a3285",
   "metadata": {},
   "outputs": [],
   "source": [
    "rf_r2 = r2_score(y_test, rf_predictions)\n",
    "print(\"Model 3 Results\")\n",
    "print(\"Random Forest Regressor: Mean Squared Error:\", rf_mse)\n",
    "print(\"Random Forest Regressor - Mean Absolute Error:\", rf_mae)\n",
    "print(\"Random Forest Regressor - R-squared score:\", rf_r2)"
   ]
  }
 ],
 "metadata": {
  "celltoolbar": "Hide code",
  "hide_code_all_hidden": false,
  "hide_input": false,
  "kernelspec": {
   "display_name": "Python 3 (ipykernel)",
   "language": "python",
   "name": "python3"
  },
  "language_info": {
   "codemirror_mode": {
    "name": "ipython",
    "version": 3
   },
   "file_extension": ".py",
   "mimetype": "text/x-python",
   "name": "python",
   "nbconvert_exporter": "python",
   "pygments_lexer": "ipython3",
   "version": "3.9.13"
  }
 },
 "nbformat": 4,
 "nbformat_minor": 5
}
