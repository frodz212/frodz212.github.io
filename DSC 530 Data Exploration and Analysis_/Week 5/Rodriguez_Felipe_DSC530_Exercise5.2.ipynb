{
 "cells": [
  {
   "cell_type": "markdown",
   "id": "e5982578",
   "metadata": {},
   "source": [
    "Exercise 5.1"
   ]
  },
  {
   "cell_type": "code",
   "execution_count": 199,
   "id": "812d2194",
   "metadata": {},
   "outputs": [],
   "source": [
    "# Copied from book to download scripts\n",
    "from os.path import basename, exists\n",
    "\n",
    "\n",
    "def download(url):\n",
    "    filename = basename(url)\n",
    "    if not exists(filename):\n",
    "        from urllib.request import urlretrieve\n",
    "\n",
    "        local, _ = urlretrieve(url, filename)\n",
    "        print(\"Downloaded \" + local)\n",
    "\n",
    "\n",
    "download(\"https://github.com/AllenDowney/ThinkStats2/raw/master/code/thinkstats2.py\")\n",
    "download(\"https://github.com/AllenDowney/ThinkStats2/raw/master/code/thinkplot.py\")"
   ]
  },
  {
   "cell_type": "code",
   "execution_count": 200,
   "id": "e7b1001c",
   "metadata": {},
   "outputs": [],
   "source": [
    "import scipy.stats\n",
    "import thinkstats2\n",
    "import thinkplot"
   ]
  },
  {
   "cell_type": "code",
   "execution_count": 201,
   "id": "e9c8b8b0",
   "metadata": {},
   "outputs": [],
   "source": [
    "# Set up values given\n",
    "men_mu = 178\n",
    "men_sigma = 7.7\n",
    "# Creates data set\n",
    "dist = scipy.stats.norm(loc=mu, scale=sigma)"
   ]
  },
  {
   "cell_type": "code",
   "execution_count": 202,
   "id": "10465694",
   "metadata": {},
   "outputs": [
    {
     "data": {
      "text/plain": [
       "177.8"
      ]
     },
     "execution_count": 202,
     "metadata": {},
     "output_type": "execute_result"
    }
   ],
   "source": [
    "# Min Length converted to cm\n",
    "length_feet_min = 5\n",
    "length_inch_min = 10\n",
    "total_cm_min = (length_feet_min * 30.48 ) + (length_inch_min * 2.54)\n",
    "total_cm_min\n"
   ]
  },
  {
   "cell_type": "code",
   "execution_count": 203,
   "id": "d76d0013",
   "metadata": {},
   "outputs": [
    {
     "data": {
      "text/plain": [
       "185.42"
      ]
     },
     "execution_count": 203,
     "metadata": {},
     "output_type": "execute_result"
    }
   ],
   "source": [
    "# Max length converted to cm\n",
    "length_feet_max = 6\n",
    "length_inch_max = 1\n",
    "total_cm_max = (length_feet_max * 30.48 ) + (length_inch_max * 2.54)\n",
    "total_cm_max"
   ]
  },
  {
   "cell_type": "code",
   "execution_count": 204,
   "id": "9369d75b",
   "metadata": {},
   "outputs": [
    {
     "name": "stdout",
     "output_type": "stream",
     "text": [
      "Percentage of people that are between 5'10\" and 6'1\": 34.274683763147365\n"
     ]
    }
   ],
   "source": [
    "# Calculates amount of people in the height range\n",
    "min_amount = dist.cdf(total_cm_min)  # Lowest height 5'10\" amount\n",
    "max_amount = dist.cdf(total_cm_max)  # Highest height 6'1\" amount\n",
    "# Calculates percentage of people between height range\n",
    "print('''Percentage of people that are between 5'10\" and 6'1\":''', ((max_amount - min_amount)*100))"
   ]
  },
  {
   "cell_type": "markdown",
   "id": "649ef3ca",
   "metadata": {},
   "source": [
    "Exercise 5.2"
   ]
  },
  {
   "cell_type": "code",
   "execution_count": 205,
   "id": "da7cc9f5",
   "metadata": {},
   "outputs": [],
   "source": [
    "import scipy.stats"
   ]
  },
  {
   "cell_type": "code",
   "execution_count": 206,
   "id": "313fced8",
   "metadata": {},
   "outputs": [],
   "source": [
    "# Set up values given\n",
    "alpha = 1.7\n",
    "xmin = 1  # meter\n",
    "# Creates Data\n",
    "human_height = scipy.stats.pareto(b=alpha, scale=xmin)"
   ]
  },
  {
   "cell_type": "code",
   "execution_count": 207,
   "id": "3d130c25",
   "metadata": {},
   "outputs": [
    {
     "data": {
      "text/plain": [
       "2.428571428571429"
      ]
     },
     "execution_count": 207,
     "metadata": {},
     "output_type": "execute_result"
    }
   ],
   "source": [
    "# Calculates Mean\n",
    "human_height.mean()"
   ]
  },
  {
   "cell_type": "code",
   "execution_count": 208,
   "id": "92f387ff",
   "metadata": {},
   "outputs": [
    {
     "data": {
      "text/plain": [
       "55602.976430479954"
      ]
     },
     "execution_count": 208,
     "metadata": {},
     "output_type": "execute_result"
    }
   ],
   "source": [
    "# Calculation for people taller 1 km out of 7 billion\n",
    "(1 - human_height.cdf(1000)) * 7e9"
   ]
  },
  {
   "cell_type": "code",
   "execution_count": 209,
   "id": "fc652048",
   "metadata": {},
   "outputs": [
    {
     "data": {
      "text/plain": [
       "618349.6106759505"
      ]
     },
     "execution_count": 209,
     "metadata": {},
     "output_type": "execute_result"
    }
   ],
   "source": [
    "\n",
    "human_height.ppf(1 - 1 / 7e9)"
   ]
  },
  {
   "cell_type": "code",
   "execution_count": 210,
   "id": "4df4e844",
   "metadata": {},
   "outputs": [
    {
     "data": {
      "text/plain": [
       "1.0525455861201714"
      ]
     },
     "execution_count": 210,
     "metadata": {},
     "output_type": "execute_result"
    }
   ],
   "source": [
    "human_height.sf(600000) * 7e9"
   ]
  },
  {
   "cell_type": "markdown",
   "id": "96ca3281",
   "metadata": {},
   "source": [
    "Exercise 6.1"
   ]
  },
  {
   "cell_type": "code",
   "execution_count": 211,
   "id": "599bdba1",
   "metadata": {},
   "outputs": [],
   "source": [
    "# Copied from book to download scripts\n",
    "from os.path import basename, exists\n",
    "\n",
    "\n",
    "def download(url):\n",
    "    filename = basename(url)\n",
    "    if not exists(filename):\n",
    "        from urllib.request import urlretrieve\n",
    "\n",
    "        local, _ = urlretrieve(url, filename)\n",
    "        print(\"Downloaded \" + local)\n",
    "\n"
   ]
  },
  {
   "cell_type": "code",
   "execution_count": 212,
   "id": "2c497e5e",
   "metadata": {},
   "outputs": [],
   "source": [
    "download(\"https://github.com/AllenDowney/ThinkStats2/raw/master/code/hinc.py\")\n",
    "download(\"https://github.com/AllenDowney/ThinkStats2/raw/master/code/hinc06.csv\")\n",
    "download(\"https://github.com/AllenDowney/ThinkStats2/raw/master/code/thinkstats2.py\")"
   ]
  },
  {
   "cell_type": "code",
   "execution_count": 213,
   "id": "6df9354a",
   "metadata": {},
   "outputs": [],
   "source": [
    "import hinc\n",
    "import numpy as np"
   ]
  },
  {
   "cell_type": "code",
   "execution_count": 214,
   "id": "18a3c30c",
   "metadata": {},
   "outputs": [],
   "source": [
    "# Reads Data\n",
    "income_df = hinc.ReadData()"
   ]
  },
  {
   "cell_type": "code",
   "execution_count": 215,
   "id": "dd196131",
   "metadata": {},
   "outputs": [],
   "source": [
    "# Copied from book to use function\n",
    "def InterpolateSample(df, log_upper=6.0):\n",
    "    \"\"\"Makes a sample of log10 household income.\n",
    "\n",
    "    Assumes that log10 income is uniform in each range.\n",
    "\n",
    "    df: DataFrame with columns income and freq\n",
    "    log_upper: log10 of the assumed upper bound for the highest range\n",
    "\n",
    "    returns: NumPy array of log10 household income\n",
    "    \"\"\"\n",
    "    # compute the log10 of the upper bound for each range\n",
    "    df['log_upper'] = np.log10(df.income)\n",
    "\n",
    "    # get the lower bounds by shifting the upper bound and filling in\n",
    "    # the first element\n",
    "    df['log_lower'] = df.log_upper.shift(1)\n",
    "    df.loc[0, 'log_lower'] = 3.0\n",
    "\n",
    "    # plug in a value for the unknown upper bound of the highest range\n",
    "    df.loc[41, 'log_upper'] = log_upper\n",
    "    \n",
    "    # use the freq column to generate the right number of values in\n",
    "    # each range\n",
    "    arrays = []\n",
    "    for _, row in df.iterrows():\n",
    "        vals = np.linspace(row.log_lower, row.log_upper, int(row.freq))\n",
    "        arrays.append(vals)\n",
    "\n",
    "    # collect the arrays into a single sample\n",
    "    log_sample = np.concatenate(arrays)\n",
    "    return log_sample"
   ]
  },
  {
   "cell_type": "code",
   "execution_count": 216,
   "id": "b27886d9",
   "metadata": {},
   "outputs": [],
   "source": [
    "# Converts data \n",
    "sample_data_log = InterpolateSample(income_df)"
   ]
  },
  {
   "cell_type": "code",
   "execution_count": 217,
   "id": "38d227ca",
   "metadata": {},
   "outputs": [],
   "source": [
    "data = np.power(10, sample_data_log)"
   ]
  },
  {
   "cell_type": "code",
   "execution_count": 218,
   "id": "952c316c",
   "metadata": {},
   "outputs": [
    {
     "data": {
      "text/plain": [
       "74278.7075311872"
      ]
     },
     "execution_count": 218,
     "metadata": {},
     "output_type": "execute_result"
    }
   ],
   "source": [
    "# Calculates Mean\n",
    "means = thinkstats2.Mean(data)\n",
    "means"
   ]
  },
  {
   "cell_type": "code",
   "execution_count": 219,
   "id": "db304e05",
   "metadata": {},
   "outputs": [
    {
     "data": {
      "text/plain": [
       "51226.45447894046"
      ]
     },
     "execution_count": 219,
     "metadata": {},
     "output_type": "execute_result"
    }
   ],
   "source": [
    "# Calculates Median\n",
    "thinkstats2.Median(data)"
   ]
  },
  {
   "cell_type": "code",
   "execution_count": 220,
   "id": "bfe57f01",
   "metadata": {},
   "outputs": [
    {
     "data": {
      "text/plain": [
       "4.949920244429583"
      ]
     },
     "execution_count": 220,
     "metadata": {},
     "output_type": "execute_result"
    }
   ],
   "source": [
    "# Calculates Skewness\n",
    "thinkstats2.Skewness(data)"
   ]
  },
  {
   "cell_type": "code",
   "execution_count": 221,
   "id": "49765f94",
   "metadata": {},
   "outputs": [
    {
     "data": {
      "text/plain": [
       "0.7361258019141782"
      ]
     },
     "execution_count": 221,
     "metadata": {},
     "output_type": "execute_result"
    }
   ],
   "source": [
    "# Calculates Pearson Median Skewness\n",
    "thinkstats2.PearsonMedianSkewness(data)"
   ]
  },
  {
   "cell_type": "code",
   "execution_count": 222,
   "id": "d8b0ee1f",
   "metadata": {},
   "outputs": [],
   "source": [
    "# Creates CDF of Data\n",
    "cdf = thinkstats2.Cdf(data)"
   ]
  },
  {
   "cell_type": "code",
   "execution_count": 223,
   "id": "d92a54be",
   "metadata": {},
   "outputs": [
    {
     "data": {
      "text/plain": [
       "0.660005879566872"
      ]
     },
     "execution_count": 223,
     "metadata": {},
     "output_type": "execute_result"
    }
   ],
   "source": [
    "# Calculatation of what people make below mean, close to 66%\n",
    "cdf.Prob(means)"
   ]
  },
  {
   "cell_type": "markdown",
   "id": "91c14a09",
   "metadata": {},
   "source": [
    "How do the results depend on the assumed upper bound?  \n",
    "The Mean, Skewness, Pearson Median Skewness, and people who make below the mean all change because the upper bound is increased. The data set shifts to the right. The value that remains consistent is the median of the data, which does not change based on upper bound. "
   ]
  }
 ],
 "metadata": {
  "kernelspec": {
   "display_name": "Python 3 (ipykernel)",
   "language": "python",
   "name": "python3"
  },
  "language_info": {
   "codemirror_mode": {
    "name": "ipython",
    "version": 3
   },
   "file_extension": ".py",
   "mimetype": "text/x-python",
   "name": "python",
   "nbconvert_exporter": "python",
   "pygments_lexer": "ipython3",
   "version": "3.9.13"
  }
 },
 "nbformat": 4,
 "nbformat_minor": 5
}
