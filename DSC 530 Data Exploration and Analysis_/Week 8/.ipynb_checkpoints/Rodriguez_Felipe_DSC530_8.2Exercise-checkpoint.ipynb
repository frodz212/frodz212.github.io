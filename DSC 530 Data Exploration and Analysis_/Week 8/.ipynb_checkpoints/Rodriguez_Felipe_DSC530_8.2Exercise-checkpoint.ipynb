{
 "cells": [
  {
   "cell_type": "code",
   "execution_count": 164,
   "id": "bdb94a91",
   "metadata": {},
   "outputs": [],
   "source": [
    "# Used from code to download scripts\n",
    "from os.path import basename, exists\n",
    "\n",
    "\n",
    "def download(url):\n",
    "    filename = basename(url)\n",
    "    if not exists(filename):\n",
    "        from urllib.request import urlretrieve\n",
    "\n",
    "        local, _ = urlretrieve(url, filename)\n",
    "        print(\"Downloaded \" + local)\n",
    "\n",
    "\n",
    "download(\"https://github.com/AllenDowney/ThinkStats2/raw/master/code/thinkstats2.py\")\n",
    "download(\"https://github.com/AllenDowney/ThinkStats2/raw/master/code/thinkplot.py\")\n",
    "download(\"https://github.com/AllenDowney/ThinkStats2/raw/master/code/nsfg.py\")\n",
    "download(\"https://github.com/AllenDowney/ThinkStats2/raw/master/code/first.py\")\n",
    "download(\"https://github.com/AllenDowney/ThinkStats2/raw/master/code/2002FemPreg.dct\")\n",
    "download(\"https://github.com/AllenDowney/ThinkStats2/raw/master/code/2002FemPreg.dat.gz\")"
   ]
  },
  {
   "cell_type": "code",
   "execution_count": 165,
   "id": "71a1ce68",
   "metadata": {},
   "outputs": [],
   "source": [
    "# Import Scripts\n",
    "import first\n",
    "import thinkstats2\n",
    "import thinkplot\n",
    "import numpy as np\n",
    "import pandas as pd\n"
   ]
  },
  {
   "cell_type": "markdown",
   "id": "e074f4d3",
   "metadata": {},
   "source": [
    "9-1 **Exercise:** As sample size increases, the power of a hypothesis test increases, which means it is more likely to be positive if the effect is real. Conversely, as sample size decreases, the test is less likely to be positive even if the effect is real.\n",
    "\n",
    "To investigate this behavior, run the tests in this chapter with different subsets of the NSFG data. You can use `thinkstats2.SampleRows` to select a random subset of the rows in a DataFrame.\n",
    "\n",
    "What happens to the p-values of these tests as sample size decreases? What is the smallest sample size that yields a positive test?"
   ]
  },
  {
   "cell_type": "code",
   "execution_count": 166,
   "id": "85833e0b",
   "metadata": {},
   "outputs": [],
   "source": [
    "# Used from Chapter 9 \n",
    "class DiffMeansPermute(thinkstats2.HypothesisTest):\n",
    "\n",
    "    def TestStatistic(self, data):\n",
    "        group1, group2 = data\n",
    "        test_stat = abs(group1.mean() - group2.mean())\n",
    "        return test_stat\n",
    "\n",
    "    def MakeModel(self):\n",
    "        group1, group2 = self.data\n",
    "        self.n, self.m = len(group1), len(group2)\n",
    "        self.pool = np.hstack((group1, group2))\n",
    "\n",
    "    def RunModel(self):\n",
    "        np.random.shuffle(self.pool)\n",
    "        data = self.pool[:self.n], self.pool[self.n:]\n",
    "        return data"
   ]
  },
  {
   "cell_type": "code",
   "execution_count": 167,
   "id": "28892007",
   "metadata": {},
   "outputs": [],
   "source": [
    "# Used from Chapter 9\n",
    "class CorrelationPermute(thinkstats2.HypothesisTest):\n",
    "\n",
    "    def TestStatistic(self, data):\n",
    "        xs, ys = data\n",
    "        test_stat = abs(thinkstats2.Corr(xs, ys))\n",
    "        return test_stat\n",
    "\n",
    "    def RunModel(self):\n",
    "        xs, ys = self.data\n",
    "        xs = np.random.permutation(xs)\n",
    "        return xs, ys"
   ]
  },
  {
   "cell_type": "code",
   "execution_count": 168,
   "id": "3bddfd3e",
   "metadata": {},
   "outputs": [],
   "source": [
    "# Used from Chapter 9 \n",
    "class PregLengthTest(thinkstats2.HypothesisTest):\n",
    "\n",
    "    def MakeModel(self):\n",
    "        firsts, others = self.data\n",
    "        self.n = len(firsts)\n",
    "        self.pool = np.hstack((firsts, others))\n",
    "\n",
    "        pmf = thinkstats2.Pmf(self.pool)\n",
    "        self.values = range(35, 44)\n",
    "        self.expected_probs = np.array(pmf.Probs(self.values))\n",
    "\n",
    "    def RunModel(self):\n",
    "        np.random.shuffle(self.pool)\n",
    "        data = self.pool[:self.n], self.pool[self.n:]\n",
    "        return data\n",
    "    \n",
    "    def TestStatistic(self, data):\n",
    "        firsts, others = data\n",
    "        stat = self.ChiSquared(firsts) + self.ChiSquared(others)\n",
    "        return stat\n",
    "\n",
    "    def ChiSquared(self, lengths):\n",
    "        hist = thinkstats2.Hist(lengths)\n",
    "        observed = np.array(hist.Freqs(self.values))\n",
    "        expected = self.expected_probs * len(lengths)\n",
    "        stat = sum((observed - expected)**2 / expected)\n",
    "        return stat"
   ]
  },
  {
   "cell_type": "code",
   "execution_count": 169,
   "id": "75fd6604",
   "metadata": {},
   "outputs": [],
   "source": [
    "# Solution\n",
    "\n",
    "def RunTests(live, iters=1000):\n",
    "    # Counts live births\n",
    "    n = len(live)\n",
    "    # Creates first bron data set\n",
    "    firsts = live[live.birthord == 1]\n",
    "    # Creates other data set\n",
    "    others = live[live.birthord != 1]\n",
    "\n",
    "    # Comparison of Pregnancy Lengths\n",
    "    data = firsts.prglngth.values, others.prglngth.values\n",
    "    ht = DiffMeansPermute(data)\n",
    "    p1 = ht.PValue(iters=iters)\n",
    "    \n",
    "    # Comparison of Total Weight\n",
    "    data = (firsts.totalwgt_lb.dropna().values,\n",
    "            others.totalwgt_lb.dropna().values)\n",
    "    ht = DiffMeansPermute(data)\n",
    "    p2 = ht.PValue(iters=iters)\n",
    "\n",
    "    # Correlation of Age Pregnant and Total Weight\n",
    "    live2 = live.dropna(subset=['agepreg', 'totalwgt_lb'])\n",
    "    data = live2.agepreg.values, live2.totalwgt_lb.values\n",
    "    ht = CorrelationPermute(data)\n",
    "    p3 = ht.PValue(iters=iters)\n",
    "\n",
    "    # Chi-Squared of Pregnancy Length\n",
    "    data = firsts.prglngth.values, others.prglngth.values\n",
    "    ht = PregLengthTest(data)\n",
    "    p4 = ht.PValue(iters=iters)\n",
    "    \n",
    "    print('%d\\t\\t\\t%0.2f\\t\\t\\t%0.2f\\t\\t%0.2f\\t\\t\\t%0.2f' % (n, p1, p2, p3, p4))"
   ]
  },
  {
   "cell_type": "code",
   "execution_count": 170,
   "id": "557a8fbf",
   "metadata": {},
   "outputs": [
    {
     "name": "stdout",
     "output_type": "stream",
     "text": [
      "Live Births\t Pregnancy Length\t Total Weight\t Age vs. Total Weight\t Chi-Quared Preg Length\n",
      "9148\t\t\t0.18\t\t\t0.00\t\t0.00\t\t\t0.00\n",
      "4574\t\t\t0.40\t\t\t0.00\t\t0.00\t\t\t0.00\n",
      "2287\t\t\t0.40\t\t\t0.00\t\t0.00\t\t\t0.00\n",
      "1143\t\t\t0.61\t\t\t0.84\t\t0.02\t\t\t0.09\n",
      "571\t\t\t0.33\t\t\t0.27\t\t0.43\t\t\t0.30\n",
      "285\t\t\t0.57\t\t\t0.45\t\t0.18\t\t\t0.21\n",
      "142\t\t\t1.00\t\t\t0.40\t\t0.34\t\t\t0.68\n"
     ]
    }
   ],
   "source": [
    "# Solution\n",
    "\n",
    "live, firsts, others = first.MakeFrames()\n",
    "\n",
    "n = len(live)\n",
    "print('Live Births\\t', 'Pregnancy Length\\t', 'Total Weight\\t', 'Age vs. Total Weight\\t', 'Chi-Quared Preg Length')\n",
    "# Sets up loop and iterations of the loop\n",
    "for _ in range(7):\n",
    "    # Creates data\n",
    "    sample = thinkstats2.SampleRows(live, n)\n",
    "    # Runs test function\n",
    "    RunTests(sample)\n",
    "    # Reduces sample size each time\n",
    "    n //= 2"
   ]
  },
  {
   "cell_type": "markdown",
   "id": "bac96d73",
   "metadata": {},
   "source": [
    "As sample size decreases, p values become negative. However, for some examples even though size has been decreased. the p value sometimes yields a positive test. "
   ]
  },
  {
   "cell_type": "markdown",
   "id": "567441da",
   "metadata": {},
   "source": [
    "10-1"
   ]
  },
  {
   "cell_type": "markdown",
   "id": "24aab499",
   "metadata": {},
   "source": [
    "# Exercises\n",
    "\n",
    "**Exercise:** Using the data from the BRFSS, compute the linear least squares fit for log(weight) versus height. How would you best present the estimated parameters for a model like this where one of the variables is log-transformed? If you were trying to guess someone’s weight, how much would it help to know their height?"
   ]
  },
  {
   "cell_type": "code",
   "execution_count": 171,
   "id": "650a0b44",
   "metadata": {},
   "outputs": [],
   "source": [
    "download(\"https://github.com/AllenDowney/ThinkStats2/raw/master/code/brfss.py\")\n",
    "download(\"https://github.com/AllenDowney/ThinkStats2/raw/master/code/CDBRFS08.ASC.gz\")"
   ]
  },
  {
   "cell_type": "code",
   "execution_count": 172,
   "id": "0521275e",
   "metadata": {},
   "outputs": [],
   "source": [
    "import brfss\n",
    "\n",
    "# Creates dataframe\n",
    "df = brfss.ReadBrfss(nrows=None)\n",
    "# Creates dataframe drops nulls and only selects two columns \n",
    "df = df.dropna(subset=['htm3', 'wtkg2'])\n",
    "# Selects height and weight \n",
    "heights, weights = df.htm3, df.wtkg2\n",
    "# Makes weight variable log-transformed\n",
    "log_weights = np.log10(weights)"
   ]
  },
  {
   "cell_type": "code",
   "execution_count": 173,
   "id": "fa21242f",
   "metadata": {},
   "outputs": [],
   "source": [
    "# Used from chapter 10 code\n",
    "from thinkstats2 import Mean, MeanVar, Var, Std, Cov\n",
    "\n",
    "def LeastSquares(xs, ys):\n",
    "    meanx, varx = MeanVar(xs)\n",
    "    meany = Mean(ys)\n",
    "\n",
    "    slope = Cov(xs, ys, meanx, meany) / varx\n",
    "    inter = meany - slope * meanx\n",
    "\n",
    "    return inter, slope"
   ]
  },
  {
   "cell_type": "code",
   "execution_count": 174,
   "id": "c91b0783",
   "metadata": {},
   "outputs": [
    {
     "data": {
      "text/plain": [
       "(0.9930804163917826, 0.005281454169417984)"
      ]
     },
     "execution_count": 174,
     "metadata": {},
     "output_type": "execute_result"
    }
   ],
   "source": [
    "inter, slope = thinkstats2.LeastSquares(heights, log_weights)\n",
    "inter, slope"
   ]
  },
  {
   "cell_type": "code",
   "execution_count": 175,
   "id": "0c8e1a88",
   "metadata": {},
   "outputs": [],
   "source": [
    "# Taken from chapter 10 to create line for sequence \n",
    "def FitLine(xs, inter, slope):\n",
    "    fit_xs = np.sort(xs)\n",
    "    fit_ys = inter + slope * fit_xs\n",
    "    return fit_xs, fit_ys"
   ]
  },
  {
   "cell_type": "code",
   "execution_count": 176,
   "id": "56c1b192",
   "metadata": {},
   "outputs": [
    {
     "data": {
      "image/png": "[encoded data removed]",
      "text/plain": [
       "<Figure size 640x480 with 1 Axes>"
      ]
     },
     "metadata": {},
     "output_type": "display_data"
    }
   ],
   "source": [
    "# Creates scatter plot \n",
    "thinkplot.Scatter(heights, log_weights, alpha=0.01, s=10)\n",
    "# Creats line\n",
    "fxs, fys = thinkstats2.FitLine(heights, inter, slope)\n",
    "# Displays plot\n",
    "thinkplot.Plot(fxs, fys, color='red', linewidth=2)\n",
    "thinkplot.Config(xlabel='Height (cm)', ylabel='log10 weight (kg)', legend=True)"
   ]
  },
  {
   "cell_type": "markdown",
   "id": "1ed5a868",
   "metadata": {},
   "source": [
    "These parameters can be shown using a scatter plot to show the data and a fitted line. With this line, you can see the intercept points and estimate the log weight. By having height, you can calculate log weight by doing the formula log_weight = inter + slope * height. An example can be seen below if we know the height to be 150 cm, we can enter it in the formula and now we know the log weight is 1.78 kg."
   ]
  },
  {
   "cell_type": "code",
   "execution_count": 177,
   "id": "4d22aeef",
   "metadata": {},
   "outputs": [
    {
     "data": {
      "text/plain": [
       "1.78529854180448"
      ]
     },
     "execution_count": 177,
     "metadata": {},
     "output_type": "execute_result"
    }
   ],
   "source": [
    "log_weights_amount = inter + slope * 150\n",
    "log_weights_amount"
   ]
  },
  {
   "cell_type": "markdown",
   "id": "2fced474",
   "metadata": {},
   "source": [
    "Like the NSFG, the BRFSS oversamples some groups and provides a sampling weight for each respondent. In the BRFSS data, the variable name for these weights is totalwt. Use resampling, with and without weights, to estimate the mean height of respondents in the BRFSS, the standard error of the mean, and a 90% confidence interval. How much does correct weighting affect the estimates?"
   ]
  },
  {
   "cell_type": "code",
   "execution_count": 178,
   "id": "6d34857e",
   "metadata": {},
   "outputs": [],
   "source": [
    "# Used from chapter 10 code\n",
    "def Summarize(estimates, actual=None):\n",
    "    mean = Mean(estimates)\n",
    "    stderr = Std(estimates, mu=actual)\n",
    "    cdf = thinkstats2.Cdf(estimates)\n",
    "    ci = cdf.ConfidenceInterval(90)\n",
    "    print('mean, SE, CI', mean, stderr, ci)"
   ]
  },
  {
   "cell_type": "code",
   "execution_count": 179,
   "id": "72c7c7be",
   "metadata": {},
   "outputs": [
    {
     "name": "stdout",
     "output_type": "stream",
     "text": [
      "mean, SE, CI 168.95604471088743 0.015989720899106562 (168.92717364942703, 168.98185341255888)\n"
     ]
    }
   ],
   "source": [
    "estimates_unweighted = [thinkstats2.ResampleRows(df).htm3.mean() for _ in range(100)]\n",
    "Summarize(estimates_unweighted)"
   ]
  },
  {
   "cell_type": "code",
   "execution_count": 180,
   "id": "78ca5036",
   "metadata": {},
   "outputs": [],
   "source": [
    "def ResampleRowsWeighted(df, column='finalwgt'):\n",
    "    weights = df[column]\n",
    "    cdf = thinkstats2.Cdf(dict(weights))\n",
    "    indices = cdf.Sample(len(weights))\n",
    "    sample = df.loc[indices]\n",
    "    return sample"
   ]
  },
  {
   "cell_type": "code",
   "execution_count": 181,
   "id": "ac79179c",
   "metadata": {},
   "outputs": [
    {
     "name": "stdout",
     "output_type": "stream",
     "text": [
      "mean, SE, CI 170.49739877018536 0.01748051355905787 (170.47095737585641, 170.52708219648738)\n"
     ]
    }
   ],
   "source": [
    "estimates_weighted = [ResampleRowsWeighted(df, 'finalwt').htm3.mean() for _ in range(100)]\n",
    "Summarize(estimates_weighted)"
   ]
  }
 ],
 "metadata": {
  "kernelspec": {
   "display_name": "Python 3 (ipykernel)",
   "language": "python",
   "name": "python3"
  },
  "language_info": {
   "codemirror_mode": {
    "name": "ipython",
    "version": 3
   },
   "file_extension": ".py",
   "mimetype": "text/x-python",
   "name": "python",
   "nbconvert_exporter": "python",
   "pygments_lexer": "ipython3",
   "version": "3.9.13"
  }
 },
 "nbformat": 4,
 "nbformat_minor": 5
}
