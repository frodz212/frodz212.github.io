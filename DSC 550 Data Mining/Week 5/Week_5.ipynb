{
 "cells": [
  {
   "cell_type": "code",
   "execution_count": 1,
   "id": "4c8cb099",
   "metadata": {},
   "outputs": [],
   "source": [
    "import pandas as pd"
   ]
  },
  {
   "cell_type": "code",
   "execution_count": 2,
   "id": "ff114aea",
   "metadata": {},
   "outputs": [
    {
     "data": {
      "text/html": [
       "<div>\n",
       "<style scoped>\n",
       "    .dataframe tbody tr th:only-of-type {\n",
       "        vertical-align: middle;\n",
       "    }\n",
       "\n",
       "    .dataframe tbody tr th {\n",
       "        vertical-align: top;\n",
       "    }\n",
       "\n",
       "    .dataframe thead th {\n",
       "        text-align: right;\n",
       "    }\n",
       "</style>\n",
       "<table border=\"1\" class=\"dataframe\">\n",
       "  <thead>\n",
       "    <tr style=\"text-align: right;\">\n",
       "      <th></th>\n",
       "      <th>id</th>\n",
       "      <th>sentiment</th>\n",
       "      <th>review</th>\n",
       "    </tr>\n",
       "  </thead>\n",
       "  <tbody>\n",
       "    <tr>\n",
       "      <th>0</th>\n",
       "      <td>5814_8</td>\n",
       "      <td>1</td>\n",
       "      <td>With all this stuff going down at the moment w...</td>\n",
       "    </tr>\n",
       "    <tr>\n",
       "      <th>1</th>\n",
       "      <td>2381_9</td>\n",
       "      <td>1</td>\n",
       "      <td>\\The Classic War of the Worlds\\\" by Timothy Hi...</td>\n",
       "    </tr>\n",
       "    <tr>\n",
       "      <th>2</th>\n",
       "      <td>7759_3</td>\n",
       "      <td>0</td>\n",
       "      <td>The film starts with a manager (Nicholas Bell)...</td>\n",
       "    </tr>\n",
       "    <tr>\n",
       "      <th>3</th>\n",
       "      <td>3630_4</td>\n",
       "      <td>0</td>\n",
       "      <td>It must be assumed that those who praised this...</td>\n",
       "    </tr>\n",
       "    <tr>\n",
       "      <th>4</th>\n",
       "      <td>9495_8</td>\n",
       "      <td>1</td>\n",
       "      <td>Superbly trashy and wondrously unpretentious 8...</td>\n",
       "    </tr>\n",
       "    <tr>\n",
       "      <th>...</th>\n",
       "      <td>...</td>\n",
       "      <td>...</td>\n",
       "      <td>...</td>\n",
       "    </tr>\n",
       "    <tr>\n",
       "      <th>24995</th>\n",
       "      <td>3453_3</td>\n",
       "      <td>0</td>\n",
       "      <td>It seems like more consideration has gone into...</td>\n",
       "    </tr>\n",
       "    <tr>\n",
       "      <th>24996</th>\n",
       "      <td>5064_1</td>\n",
       "      <td>0</td>\n",
       "      <td>I don't believe they made this film. Completel...</td>\n",
       "    </tr>\n",
       "    <tr>\n",
       "      <th>24997</th>\n",
       "      <td>10905_3</td>\n",
       "      <td>0</td>\n",
       "      <td>Guy is a loser. Can't get girls, needs to buil...</td>\n",
       "    </tr>\n",
       "    <tr>\n",
       "      <th>24998</th>\n",
       "      <td>10194_3</td>\n",
       "      <td>0</td>\n",
       "      <td>This 30 minute documentary Buñuel made in the ...</td>\n",
       "    </tr>\n",
       "    <tr>\n",
       "      <th>24999</th>\n",
       "      <td>8478_8</td>\n",
       "      <td>1</td>\n",
       "      <td>I saw this movie as a child and it broke my he...</td>\n",
       "    </tr>\n",
       "  </tbody>\n",
       "</table>\n",
       "<p>25000 rows × 3 columns</p>\n",
       "</div>"
      ],
      "text/plain": [
       "            id  sentiment                                             review\n",
       "0       5814_8          1  With all this stuff going down at the moment w...\n",
       "1       2381_9          1  \\The Classic War of the Worlds\\\" by Timothy Hi...\n",
       "2       7759_3          0  The film starts with a manager (Nicholas Bell)...\n",
       "3       3630_4          0  It must be assumed that those who praised this...\n",
       "4       9495_8          1  Superbly trashy and wondrously unpretentious 8...\n",
       "...        ...        ...                                                ...\n",
       "24995   3453_3          0  It seems like more consideration has gone into...\n",
       "24996   5064_1          0  I don't believe they made this film. Completel...\n",
       "24997  10905_3          0  Guy is a loser. Can't get girls, needs to buil...\n",
       "24998  10194_3          0  This 30 minute documentary Buñuel made in the ...\n",
       "24999   8478_8          1  I saw this movie as a child and it broke my he...\n",
       "\n",
       "[25000 rows x 3 columns]"
      ]
     },
     "execution_count": 2,
     "metadata": {},
     "output_type": "execute_result"
    }
   ],
   "source": [
    "# Creates first dataset from TSV file \n",
    "data=pd.read_csv('labeledTrainData.tsv',sep='\\t')\n",
    "data['review'] = data['review'].apply(str)\n",
    "data"
   ]
  },
  {
   "cell_type": "code",
   "execution_count": 3,
   "id": "17627970",
   "metadata": {},
   "outputs": [],
   "source": [
    "from nltk.stem.porter import PorterStemmer"
   ]
  },
  {
   "cell_type": "code",
   "execution_count": 4,
   "id": "49f767e2",
   "metadata": {},
   "outputs": [],
   "source": [
    "# Creates porter\n",
    "porter = PorterStemmer()"
   ]
  },
  {
   "cell_type": "code",
   "execution_count": 5,
   "id": "8851cc3e",
   "metadata": {},
   "outputs": [],
   "source": [
    "# Creates decapitilzer for strings\n",
    "def decapitalizer(string: str) -> str:\n",
    "    return string.lower()"
   ]
  },
  {
   "cell_type": "code",
   "execution_count": 6,
   "id": "fbd97ef8",
   "metadata": {},
   "outputs": [],
   "source": [
    "# Applies decapitilizer \n",
    "data['review'] = data['review'].apply(decapitalizer)"
   ]
  },
  {
   "cell_type": "code",
   "execution_count": 7,
   "id": "cd577363",
   "metadata": {},
   "outputs": [
    {
     "data": {
      "text/html": [
       "<div>\n",
       "<style scoped>\n",
       "    .dataframe tbody tr th:only-of-type {\n",
       "        vertical-align: middle;\n",
       "    }\n",
       "\n",
       "    .dataframe tbody tr th {\n",
       "        vertical-align: top;\n",
       "    }\n",
       "\n",
       "    .dataframe thead th {\n",
       "        text-align: right;\n",
       "    }\n",
       "</style>\n",
       "<table border=\"1\" class=\"dataframe\">\n",
       "  <thead>\n",
       "    <tr style=\"text-align: right;\">\n",
       "      <th></th>\n",
       "      <th>id</th>\n",
       "      <th>sentiment</th>\n",
       "      <th>review</th>\n",
       "    </tr>\n",
       "  </thead>\n",
       "  <tbody>\n",
       "    <tr>\n",
       "      <th>0</th>\n",
       "      <td>5814_8</td>\n",
       "      <td>1</td>\n",
       "      <td>[with, all, this, stuff, going, down, at, the,...</td>\n",
       "    </tr>\n",
       "    <tr>\n",
       "      <th>1</th>\n",
       "      <td>2381_9</td>\n",
       "      <td>1</td>\n",
       "      <td>[\\the, classic, war, of, the, worlds\\\", by, ti...</td>\n",
       "    </tr>\n",
       "    <tr>\n",
       "      <th>2</th>\n",
       "      <td>7759_3</td>\n",
       "      <td>0</td>\n",
       "      <td>[the, film, starts, with, a, manager, (nichola...</td>\n",
       "    </tr>\n",
       "    <tr>\n",
       "      <th>3</th>\n",
       "      <td>3630_4</td>\n",
       "      <td>0</td>\n",
       "      <td>[it, must, be, assumed, that, those, who, prai...</td>\n",
       "    </tr>\n",
       "    <tr>\n",
       "      <th>4</th>\n",
       "      <td>9495_8</td>\n",
       "      <td>1</td>\n",
       "      <td>[superbly, trashy, and, wondrously, unpretenti...</td>\n",
       "    </tr>\n",
       "    <tr>\n",
       "      <th>...</th>\n",
       "      <td>...</td>\n",
       "      <td>...</td>\n",
       "      <td>...</td>\n",
       "    </tr>\n",
       "    <tr>\n",
       "      <th>24995</th>\n",
       "      <td>3453_3</td>\n",
       "      <td>0</td>\n",
       "      <td>[it, seems, like, more, consideration, has, go...</td>\n",
       "    </tr>\n",
       "    <tr>\n",
       "      <th>24996</th>\n",
       "      <td>5064_1</td>\n",
       "      <td>0</td>\n",
       "      <td>[i, don't, believe, they, made, this, film., c...</td>\n",
       "    </tr>\n",
       "    <tr>\n",
       "      <th>24997</th>\n",
       "      <td>10905_3</td>\n",
       "      <td>0</td>\n",
       "      <td>[guy, is, a, loser., can't, get, girls,, needs...</td>\n",
       "    </tr>\n",
       "    <tr>\n",
       "      <th>24998</th>\n",
       "      <td>10194_3</td>\n",
       "      <td>0</td>\n",
       "      <td>[this, 30, minute, documentary, buñuel, made, ...</td>\n",
       "    </tr>\n",
       "    <tr>\n",
       "      <th>24999</th>\n",
       "      <td>8478_8</td>\n",
       "      <td>1</td>\n",
       "      <td>[i, saw, this, movie, as, a, child, and, it, b...</td>\n",
       "    </tr>\n",
       "  </tbody>\n",
       "</table>\n",
       "<p>25000 rows × 3 columns</p>\n",
       "</div>"
      ],
      "text/plain": [
       "            id  sentiment                                             review\n",
       "0       5814_8          1  [with, all, this, stuff, going, down, at, the,...\n",
       "1       2381_9          1  [\\the, classic, war, of, the, worlds\\\", by, ti...\n",
       "2       7759_3          0  [the, film, starts, with, a, manager, (nichola...\n",
       "3       3630_4          0  [it, must, be, assumed, that, those, who, prai...\n",
       "4       9495_8          1  [superbly, trashy, and, wondrously, unpretenti...\n",
       "...        ...        ...                                                ...\n",
       "24995   3453_3          0  [it, seems, like, more, consideration, has, go...\n",
       "24996   5064_1          0  [i, don't, believe, they, made, this, film., c...\n",
       "24997  10905_3          0  [guy, is, a, loser., can't, get, girls,, needs...\n",
       "24998  10194_3          0  [this, 30, minute, documentary, buñuel, made, ...\n",
       "24999   8478_8          1  [i, saw, this, movie, as, a, child, and, it, b...\n",
       "\n",
       "[25000 rows x 3 columns]"
      ]
     },
     "execution_count": 7,
     "metadata": {},
     "output_type": "execute_result"
    }
   ],
   "source": [
    "# Splits review into tokens\n",
    "data['review'] = data['review'].str.split()\n",
    "data"
   ]
  },
  {
   "cell_type": "code",
   "execution_count": 8,
   "id": "98a5195f",
   "metadata": {
    "scrolled": true
   },
   "outputs": [
    {
     "data": {
      "text/html": [
       "<div>\n",
       "<style scoped>\n",
       "    .dataframe tbody tr th:only-of-type {\n",
       "        vertical-align: middle;\n",
       "    }\n",
       "\n",
       "    .dataframe tbody tr th {\n",
       "        vertical-align: top;\n",
       "    }\n",
       "\n",
       "    .dataframe thead th {\n",
       "        text-align: right;\n",
       "    }\n",
       "</style>\n",
       "<table border=\"1\" class=\"dataframe\">\n",
       "  <thead>\n",
       "    <tr style=\"text-align: right;\">\n",
       "      <th></th>\n",
       "      <th>id</th>\n",
       "      <th>sentiment</th>\n",
       "      <th>review</th>\n",
       "    </tr>\n",
       "  </thead>\n",
       "  <tbody>\n",
       "    <tr>\n",
       "      <th>0</th>\n",
       "      <td>5814_8</td>\n",
       "      <td>1</td>\n",
       "      <td>[with, all, thi, stuff, go, down, at, the, mom...</td>\n",
       "    </tr>\n",
       "    <tr>\n",
       "      <th>1</th>\n",
       "      <td>2381_9</td>\n",
       "      <td>1</td>\n",
       "      <td>[\\the, classic, war, of, the, worlds\\\", by, ti...</td>\n",
       "    </tr>\n",
       "    <tr>\n",
       "      <th>2</th>\n",
       "      <td>7759_3</td>\n",
       "      <td>0</td>\n",
       "      <td>[the, film, start, with, a, manag, (nichola, b...</td>\n",
       "    </tr>\n",
       "    <tr>\n",
       "      <th>3</th>\n",
       "      <td>3630_4</td>\n",
       "      <td>0</td>\n",
       "      <td>[it, must, be, assum, that, those, who, prais,...</td>\n",
       "    </tr>\n",
       "    <tr>\n",
       "      <th>4</th>\n",
       "      <td>9495_8</td>\n",
       "      <td>1</td>\n",
       "      <td>[superbl, trashi, and, wondrous, unpretenti, 8...</td>\n",
       "    </tr>\n",
       "    <tr>\n",
       "      <th>...</th>\n",
       "      <td>...</td>\n",
       "      <td>...</td>\n",
       "      <td>...</td>\n",
       "    </tr>\n",
       "    <tr>\n",
       "      <th>24995</th>\n",
       "      <td>3453_3</td>\n",
       "      <td>0</td>\n",
       "      <td>[it, seem, like, more, consider, ha, gone, int...</td>\n",
       "    </tr>\n",
       "    <tr>\n",
       "      <th>24996</th>\n",
       "      <td>5064_1</td>\n",
       "      <td>0</td>\n",
       "      <td>[i, don't, believ, they, made, thi, film., com...</td>\n",
       "    </tr>\n",
       "    <tr>\n",
       "      <th>24997</th>\n",
       "      <td>10905_3</td>\n",
       "      <td>0</td>\n",
       "      <td>[guy, is, a, loser., can't, get, girls,, need,...</td>\n",
       "    </tr>\n",
       "    <tr>\n",
       "      <th>24998</th>\n",
       "      <td>10194_3</td>\n",
       "      <td>0</td>\n",
       "      <td>[thi, 30, minut, documentari, buñuel, made, in...</td>\n",
       "    </tr>\n",
       "    <tr>\n",
       "      <th>24999</th>\n",
       "      <td>8478_8</td>\n",
       "      <td>1</td>\n",
       "      <td>[i, saw, thi, movi, as, a, child, and, it, bro...</td>\n",
       "    </tr>\n",
       "  </tbody>\n",
       "</table>\n",
       "<p>25000 rows × 3 columns</p>\n",
       "</div>"
      ],
      "text/plain": [
       "            id  sentiment                                             review\n",
       "0       5814_8          1  [with, all, thi, stuff, go, down, at, the, mom...\n",
       "1       2381_9          1  [\\the, classic, war, of, the, worlds\\\", by, ti...\n",
       "2       7759_3          0  [the, film, start, with, a, manag, (nichola, b...\n",
       "3       3630_4          0  [it, must, be, assum, that, those, who, prais,...\n",
       "4       9495_8          1  [superbl, trashi, and, wondrous, unpretenti, 8...\n",
       "...        ...        ...                                                ...\n",
       "24995   3453_3          0  [it, seem, like, more, consider, ha, gone, int...\n",
       "24996   5064_1          0  [i, don't, believ, they, made, thi, film., com...\n",
       "24997  10905_3          0  [guy, is, a, loser., can't, get, girls,, need,...\n",
       "24998  10194_3          0  [thi, 30, minut, documentari, buñuel, made, in...\n",
       "24999   8478_8          1  [i, saw, thi, movi, as, a, child, and, it, bro...\n",
       "\n",
       "[25000 rows x 3 columns]"
      ]
     },
     "execution_count": 8,
     "metadata": {},
     "output_type": "execute_result"
    }
   ],
   "source": [
    "# Applies stem to column review\n",
    "data['review'] = data['review'].apply(lambda x: [porter.stem(word) for word in x])\n",
    "data"
   ]
  },
  {
   "cell_type": "code",
   "execution_count": 18,
   "id": "4df43196",
   "metadata": {},
   "outputs": [
    {
     "data": {
      "text/html": [
       "<div>\n",
       "<style scoped>\n",
       "    .dataframe tbody tr th:only-of-type {\n",
       "        vertical-align: middle;\n",
       "    }\n",
       "\n",
       "    .dataframe tbody tr th {\n",
       "        vertical-align: top;\n",
       "    }\n",
       "\n",
       "    .dataframe thead th {\n",
       "        text-align: right;\n",
       "    }\n",
       "</style>\n",
       "<table border=\"1\" class=\"dataframe\">\n",
       "  <thead>\n",
       "    <tr style=\"text-align: right;\">\n",
       "      <th></th>\n",
       "      <th>id</th>\n",
       "      <th>sentiment</th>\n",
       "      <th>review</th>\n",
       "    </tr>\n",
       "  </thead>\n",
       "  <tbody>\n",
       "    <tr>\n",
       "      <th>0</th>\n",
       "      <td>5814_8</td>\n",
       "      <td>1</td>\n",
       "      <td>with all thi stuff go down at the moment with ...</td>\n",
       "    </tr>\n",
       "    <tr>\n",
       "      <th>1</th>\n",
       "      <td>2381_9</td>\n",
       "      <td>1</td>\n",
       "      <td>\\the classic war of the worlds\\\" by timothi hi...</td>\n",
       "    </tr>\n",
       "    <tr>\n",
       "      <th>2</th>\n",
       "      <td>7759_3</td>\n",
       "      <td>0</td>\n",
       "      <td>the film start with a manag (nichola bell) giv...</td>\n",
       "    </tr>\n",
       "    <tr>\n",
       "      <th>3</th>\n",
       "      <td>3630_4</td>\n",
       "      <td>0</td>\n",
       "      <td>it must be assum that those who prais thi film...</td>\n",
       "    </tr>\n",
       "    <tr>\n",
       "      <th>4</th>\n",
       "      <td>9495_8</td>\n",
       "      <td>1</td>\n",
       "      <td>superbl trashi and wondrous unpretenti 80' exp...</td>\n",
       "    </tr>\n",
       "    <tr>\n",
       "      <th>...</th>\n",
       "      <td>...</td>\n",
       "      <td>...</td>\n",
       "      <td>...</td>\n",
       "    </tr>\n",
       "    <tr>\n",
       "      <th>24995</th>\n",
       "      <td>3453_3</td>\n",
       "      <td>0</td>\n",
       "      <td>it seem like more consider ha gone into the im...</td>\n",
       "    </tr>\n",
       "    <tr>\n",
       "      <th>24996</th>\n",
       "      <td>5064_1</td>\n",
       "      <td>0</td>\n",
       "      <td>i don't believ they made thi film. complet unn...</td>\n",
       "    </tr>\n",
       "    <tr>\n",
       "      <th>24997</th>\n",
       "      <td>10905_3</td>\n",
       "      <td>0</td>\n",
       "      <td>guy is a loser. can't get girls, need to build...</td>\n",
       "    </tr>\n",
       "    <tr>\n",
       "      <th>24998</th>\n",
       "      <td>10194_3</td>\n",
       "      <td>0</td>\n",
       "      <td>thi 30 minut documentari buñuel made in the ea...</td>\n",
       "    </tr>\n",
       "    <tr>\n",
       "      <th>24999</th>\n",
       "      <td>8478_8</td>\n",
       "      <td>1</td>\n",
       "      <td>i saw thi movi as a child and it broke my hear...</td>\n",
       "    </tr>\n",
       "  </tbody>\n",
       "</table>\n",
       "<p>25000 rows × 3 columns</p>\n",
       "</div>"
      ],
      "text/plain": [
       "            id  sentiment                                             review\n",
       "0       5814_8          1  with all thi stuff go down at the moment with ...\n",
       "1       2381_9          1  \\the classic war of the worlds\\\" by timothi hi...\n",
       "2       7759_3          0  the film start with a manag (nichola bell) giv...\n",
       "3       3630_4          0  it must be assum that those who prais thi film...\n",
       "4       9495_8          1  superbl trashi and wondrous unpretenti 80' exp...\n",
       "...        ...        ...                                                ...\n",
       "24995   3453_3          0  it seem like more consider ha gone into the im...\n",
       "24996   5064_1          0  i don't believ they made thi film. complet unn...\n",
       "24997  10905_3          0  guy is a loser. can't get girls, need to build...\n",
       "24998  10194_3          0  thi 30 minut documentari buñuel made in the ea...\n",
       "24999   8478_8          1  i saw thi movi as a child and it broke my hear...\n",
       "\n",
       "[25000 rows x 3 columns]"
      ]
     },
     "execution_count": 18,
     "metadata": {},
     "output_type": "execute_result"
    }
   ],
   "source": [
    "# Re-joins all the tokens to one string\n",
    "data[\"review\"]= data[\"review\"].str.join(\" \")\n",
    "data"
   ]
  },
  {
   "cell_type": "markdown",
   "id": "943f9973",
   "metadata": {},
   "source": [
    "Split this into a training and test set."
   ]
  },
  {
   "cell_type": "code",
   "execution_count": 19,
   "id": "e13c538f",
   "metadata": {},
   "outputs": [],
   "source": [
    "from sklearn.model_selection import train_test_split"
   ]
  },
  {
   "cell_type": "code",
   "execution_count": 74,
   "id": "0db3a1e6",
   "metadata": {},
   "outputs": [],
   "source": [
    "# Separate the target from the features\n",
    "feature = data['review']\n",
    "target = data['sentiment']\n",
    "\n",
    "#Split the data into 80% training and 20% test\n",
    "feature_train, feature_test, target_train, target_test = train_test_split(feature, target, test_size=0.20, random_state=42)\n"
   ]
  },
  {
   "cell_type": "markdown",
   "id": "a8a50cde",
   "metadata": {},
   "source": [
    "Fit and apply the tf-idf vectorization to the training set."
   ]
  },
  {
   "cell_type": "code",
   "execution_count": 21,
   "id": "321a3733",
   "metadata": {},
   "outputs": [],
   "source": [
    "# Import libraries\n",
    "from sklearn.feature_extraction.text import TfidfVectorizer"
   ]
  },
  {
   "cell_type": "code",
   "execution_count": 22,
   "id": "e6c6ef34",
   "metadata": {},
   "outputs": [],
   "source": [
    "# Creates Tfid Vectorizer\n",
    "tfidf = TfidfVectorizer()"
   ]
  },
  {
   "cell_type": "code",
   "execution_count": 23,
   "id": "ab1c0c20",
   "metadata": {},
   "outputs": [],
   "source": [
    "# Creates feature matrix\n",
    "feature_matrix = tfidf.fit_transform(feature_train)"
   ]
  },
  {
   "cell_type": "markdown",
   "id": "1db4674f",
   "metadata": {},
   "source": [
    "Apply but DO NOT FIT the tf-idf vectorization to the test set (Why?)"
   ]
  },
  {
   "cell_type": "code",
   "execution_count": 25,
   "id": "bf7d7d53",
   "metadata": {},
   "outputs": [],
   "source": [
    "test_feature_matrix = tfidf.transform(feature_test)"
   ]
  },
  {
   "cell_type": "markdown",
   "id": "06d185e7",
   "metadata": {},
   "source": [
    "Train a logistic regression using the training data."
   ]
  },
  {
   "cell_type": "code",
   "execution_count": 26,
   "id": "cf4a72f1",
   "metadata": {},
   "outputs": [],
   "source": [
    "from sklearn.linear_model import LogisticRegression\n",
    "from sklearn.preprocessing import StandardScaler"
   ]
  },
  {
   "cell_type": "code",
   "execution_count": 27,
   "id": "fd5e89db",
   "metadata": {},
   "outputs": [],
   "source": [
    "logistical_regression = LogisticRegression()"
   ]
  },
  {
   "cell_type": "code",
   "execution_count": 29,
   "id": "7bd1ee3d",
   "metadata": {},
   "outputs": [],
   "source": [
    "# Fit the model to the training data\n",
    "model = logistical_regression.fit(feature_matrix, target_train)"
   ]
  },
  {
   "cell_type": "markdown",
   "id": "47fa134f",
   "metadata": {},
   "source": [
    "Find the model accuracy on the test set."
   ]
  },
  {
   "cell_type": "code",
   "execution_count": 30,
   "id": "e10ba23c",
   "metadata": {},
   "outputs": [],
   "source": [
    "from sklearn import metrics"
   ]
  },
  {
   "cell_type": "code",
   "execution_count": 34,
   "id": "3a5e18ef",
   "metadata": {},
   "outputs": [
    {
     "name": "stdout",
     "output_type": "stream",
     "text": [
      "The accuracy of the Logistic Regression is: 92.62%\n"
     ]
    }
   ],
   "source": [
    "# Create predictions\n",
    "prediction = logistical_regression.predict(feature_matrix)\n",
    "# Calculate the accuracy\n",
    "accuracy = 100*metrics.accuracy_score(prediction,target_train)\n",
    "# Display accuracy \n",
    "print('The accuracy of the Logistic Regression is: ', round(accuracy,2), '%', sep = '')"
   ]
  },
  {
   "cell_type": "markdown",
   "id": "37cd85d3",
   "metadata": {},
   "source": [
    "Create a confusion matrix for the test set predictions"
   ]
  },
  {
   "cell_type": "code",
   "execution_count": 132,
   "id": "88f631d9",
   "metadata": {},
   "outputs": [],
   "source": [
    "# Creates predictions\n",
    "target_predicted = logistical_regression.fit(feature_matrix, target_train).predict(feature_matrix)"
   ]
  },
  {
   "cell_type": "code",
   "execution_count": 82,
   "id": "dfa4339b",
   "metadata": {},
   "outputs": [],
   "source": [
    "from sklearn.metrics import confusion_matrix\n",
    "import seaborn as sns\n",
    "import matplotlib.pyplot as plt\n",
    "from sklearn.metrics import confusion_matrix, ConfusionMatrixDisplay"
   ]
  },
  {
   "cell_type": "code",
   "execution_count": 83,
   "id": "0db46472",
   "metadata": {},
   "outputs": [],
   "source": [
    "# Creates confusion matric using train set and predictions \n",
    "c_matrix = confusion_matrix(target_train, target_predicted)"
   ]
  },
  {
   "cell_type": "code",
   "execution_count": 84,
   "id": "58208e0a",
   "metadata": {},
   "outputs": [],
   "source": [
    "# Configures confusion matrix to be able to display\n",
    "disp = ConfusionMatrixDisplay(confusion_matrix=c_matrix)"
   ]
  },
  {
   "cell_type": "code",
   "execution_count": 85,
   "id": "39ff3e70",
   "metadata": {},
   "outputs": [
    {
     "data": {
      "image/png": "[encoded data removed]",
      "text/plain": [
       "<Figure size 640x480 with 2 Axes>"
      ]
     },
     "metadata": {},
     "output_type": "display_data"
    }
   ],
   "source": [
    "# Creates Plot\n",
    "disp.plot()\n",
    "# Creates title\n",
    "plt.title(\"Confusion Matrix\"), plt.tight_layout()\n",
    "# Creates y and x labels \n",
    "plt.ylabel(\"True Class\"), plt.xlabel(\"Predicted Class\")\n",
    "# Displays plot\n",
    "plt.show()"
   ]
  },
  {
   "cell_type": "markdown",
   "id": "7c18fed7",
   "metadata": {},
   "source": [
    "Get the precision, recall, and F1-score for the test set predictions."
   ]
  },
  {
   "cell_type": "code",
   "execution_count": 77,
   "id": "3781b342",
   "metadata": {},
   "outputs": [],
   "source": [
    "from sklearn.metrics import classification_report"
   ]
  },
  {
   "cell_type": "code",
   "execution_count": 87,
   "id": "c1d3118c",
   "metadata": {},
   "outputs": [
    {
     "name": "stdout",
     "output_type": "stream",
     "text": [
      "              precision    recall  f1-score   support\n",
      "\n",
      "           0       0.93      0.92      0.93     10019\n",
      "           1       0.92      0.93      0.93      9981\n",
      "\n",
      "    accuracy                           0.93     20000\n",
      "   macro avg       0.93      0.93      0.93     20000\n",
      "weighted avg       0.93      0.93      0.93     20000\n",
      "\n"
     ]
    }
   ],
   "source": [
    "# Displays precision, recall and F-1 Score\n",
    "print(classification_report(target_train, target_predicted))"
   ]
  },
  {
   "cell_type": "markdown",
   "id": "9f82d599",
   "metadata": {},
   "source": [
    "Create a ROC curve for the test set."
   ]
  },
  {
   "cell_type": "code",
   "execution_count": 90,
   "id": "51b2fc0a",
   "metadata": {},
   "outputs": [],
   "source": [
    "from sklearn.metrics import roc_curve, roc_auc_score"
   ]
  },
  {
   "cell_type": "code",
   "execution_count": 103,
   "id": "246e120e",
   "metadata": {},
   "outputs": [],
   "source": [
    "# Creates rates for true and false\n",
    "false_positive_rate, true_positive_rate, threshold = roc_curve(target_train, target_predicted)"
   ]
  },
  {
   "cell_type": "code",
   "execution_count": 110,
   "id": "bf0caf49",
   "metadata": {},
   "outputs": [
    {
     "data": {
      "image/png": "[encoded data removed]",
      "text/plain": [
       "<Figure size 640x480 with 1 Axes>"
      ]
     },
     "metadata": {},
     "output_type": "display_data"
    }
   ],
   "source": [
    "# Title for ROC Curve\n",
    "plt.title(\"ROC Curve\")\n",
    "# Creates plot using false and true\n",
    "plt.plot(false_positive_rate, true_positive_rate)\n",
    "# Creates center line\n",
    "plt.plot([0,1], ls=\"--\")\n",
    "plt.plot([0, 0], [1,0], c=\".7\"), plt.plot([1,1], c=\".7\")\n",
    "# Creates Labels\n",
    "plt.xlabel(\"False Positive Rate\")\n",
    "plt.ylabel(\"True Postive Rate\")\n",
    "# Displays plot\n",
    "plt.show()"
   ]
  },
  {
   "cell_type": "markdown",
   "id": "4025728a",
   "metadata": {},
   "source": [
    "Random Forest Model"
   ]
  },
  {
   "cell_type": "code",
   "execution_count": 112,
   "id": "0e00947f",
   "metadata": {},
   "outputs": [],
   "source": [
    "from sklearn.tree import DecisionTreeClassifier"
   ]
  },
  {
   "cell_type": "code",
   "execution_count": 113,
   "id": "6b18a818",
   "metadata": {},
   "outputs": [],
   "source": [
    "# Creates decision tree classifier function\n",
    "decisiontree = DecisionTreeClassifier()"
   ]
  },
  {
   "cell_type": "markdown",
   "id": "5752962e",
   "metadata": {},
   "source": [
    "Train a classification regression model using the training data\n"
   ]
  },
  {
   "cell_type": "code",
   "execution_count": 115,
   "id": "8c56820d",
   "metadata": {},
   "outputs": [],
   "source": [
    "# Trains a model using training data\n",
    "model_tree = decisiontree.fit(test_feature_matrix, target_test)"
   ]
  },
  {
   "cell_type": "markdown",
   "id": "dbd14eee",
   "metadata": {},
   "source": [
    "Find the model accuracy on the test set."
   ]
  },
  {
   "cell_type": "code",
   "execution_count": 118,
   "id": "39855eab",
   "metadata": {
    "scrolled": true
   },
   "outputs": [
    {
     "name": "stdout",
     "output_type": "stream",
     "text": [
      "The accuracy of the Random Forest Model is: 67.92%\n"
     ]
    }
   ],
   "source": [
    "# Creates predictions\n",
    "prediction = decisiontree.predict(feature_matrix)\n",
    "# Calculates accuracy\n",
    "accuracy = 100*metrics.accuracy_score(prediction,target_train)\n",
    "# Displays Accuracy\n",
    "print('The accuracy of the Random Forest Model is: ', round(accuracy,2), '%', sep = '')"
   ]
  },
  {
   "cell_type": "markdown",
   "id": "45e6a841",
   "metadata": {},
   "source": [
    "Create a confusion matrix for the test set predictions.\n"
   ]
  },
  {
   "cell_type": "code",
   "execution_count": 120,
   "id": "8717ec57",
   "metadata": {},
   "outputs": [],
   "source": [
    "# Creates predictions using decision tree\n",
    "target_predicted_tree = decisiontree.fit(feature_matrix, target_train).predict(feature_matrix)"
   ]
  },
  {
   "cell_type": "code",
   "execution_count": 124,
   "id": "e6c3cc2d",
   "metadata": {},
   "outputs": [],
   "source": [
    "# Creates confusion matrix using predictions from decision tree\n",
    "c_matrix_tree = confusion_matrix(target_train, target_predicted_tree)"
   ]
  },
  {
   "cell_type": "code",
   "execution_count": 126,
   "id": "abc7e075",
   "metadata": {},
   "outputs": [],
   "source": [
    "# Configures confusion matrix to be able to display\n",
    "disp_tree = ConfusionMatrixDisplay(confusion_matrix=c_matrix_tree)"
   ]
  },
  {
   "cell_type": "code",
   "execution_count": 127,
   "id": "fd61d55c",
   "metadata": {},
   "outputs": [
    {
     "data": {
      "image/png": "[encoded data removed]",
      "text/plain": [
       "<Figure size 640x480 with 2 Axes>"
      ]
     },
     "metadata": {},
     "output_type": "display_data"
    }
   ],
   "source": [
    "# Creates plot\n",
    "disp_tree.plot()\n",
    "# Creates titles\n",
    "plt.title(\"Confusion Matrix\"), plt.tight_layout()\n",
    "# Creates labels\n",
    "plt.ylabel(\"True Class\"), plt.xlabel(\"Predicted Class\")\n",
    "# Displays plot\n",
    "plt.show()"
   ]
  },
  {
   "cell_type": "markdown",
   "id": "84a1132a",
   "metadata": {},
   "source": [
    "Get the precision, recall, and F1-score for the test set predictions."
   ]
  },
  {
   "cell_type": "code",
   "execution_count": 128,
   "id": "215d6753",
   "metadata": {},
   "outputs": [
    {
     "name": "stdout",
     "output_type": "stream",
     "text": [
      "              precision    recall  f1-score   support\n",
      "\n",
      "           0       1.00      1.00      1.00     10019\n",
      "           1       1.00      1.00      1.00      9981\n",
      "\n",
      "    accuracy                           1.00     20000\n",
      "   macro avg       1.00      1.00      1.00     20000\n",
      "weighted avg       1.00      1.00      1.00     20000\n",
      "\n"
     ]
    }
   ],
   "source": [
    "# Displays precision, recall and F-1 Score\n",
    "print(classification_report(target_train, target_predicted_tree))"
   ]
  },
  {
   "cell_type": "markdown",
   "id": "192f4b8d",
   "metadata": {},
   "source": [
    "Create a ROC curve for the test set."
   ]
  },
  {
   "cell_type": "code",
   "execution_count": 129,
   "id": "b3884876",
   "metadata": {},
   "outputs": [],
   "source": [
    "# Creates rates for true and false\n",
    "false_positive_rate_tree, true_positive_rate_tree, threshold_tree = roc_curve(target_train, target_predicted_tree)"
   ]
  },
  {
   "cell_type": "code",
   "execution_count": 130,
   "id": "a186ec56",
   "metadata": {},
   "outputs": [
    {
     "data": {
      "image/png": "[encoded data removed]",
      "text/plain": [
       "<Figure size 640x480 with 1 Axes>"
      ]
     },
     "metadata": {},
     "output_type": "display_data"
    }
   ],
   "source": [
    "# Creates title\n",
    "plt.title(\"ROC Curve\")\n",
    "# Creates plot using false and true \n",
    "plt.plot(false_positive_rate_tree, true_positive_rate_tree)\n",
    "# Creates center line\n",
    "plt.plot([0,1], ls=\"--\")\n",
    "plt.plot([0, 0], [1,0], c=\".7\"), plt.plot([1,1], c=\".7\")\n",
    "# Creates labels\n",
    "plt.xlabel(\"False Positive Rate\")\n",
    "plt.ylabel(\"True Postive Rate\")\n",
    "# Displays plot\n",
    "plt.show()"
   ]
  }
 ],
 "metadata": {
  "kernelspec": {
   "display_name": "Python 3 (ipykernel)",
   "language": "python",
   "name": "python3"
  },
  "language_info": {
   "codemirror_mode": {
    "name": "ipython",
    "version": 3
   },
   "file_extension": ".py",
   "mimetype": "text/x-python",
   "name": "python",
   "nbconvert_exporter": "python",
   "pygments_lexer": "ipython3",
   "version": "3.9.13"
  }
 },
 "nbformat": 4,
 "nbformat_minor": 5
}
